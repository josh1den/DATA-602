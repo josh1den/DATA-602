{
 "cells": [
  {
   "cell_type": "code",
   "execution_count": 2,
   "id": "7a6c26ba",
   "metadata": {},
   "outputs": [
    {
     "name": "stdout",
     "output_type": "stream",
     "text": [
      "Enter the score for test 1: 75\n",
      "Enter the score for test 2: 82\n"
     ]
    },
    {
     "ename": "NameError",
     "evalue": "name 'test3' is not defined",
     "output_type": "error",
     "traceback": [
      "\u001b[0;31m---------------------------------------------------------------------------\u001b[0m",
      "\u001b[0;31mNameError\u001b[0m                                 Traceback (most recent call last)",
      "\u001b[0;32m/var/folders/82/s2jpfjnx23x79yzgnlx3kx_h0000gp/T/ipykernel_49018/1888088669.py\u001b[0m in \u001b[0;36m<module>\u001b[0;34m\u001b[0m\n\u001b[1;32m     11\u001b[0m \u001b[0mtest2\u001b[0m \u001b[0;34m=\u001b[0m \u001b[0minput\u001b[0m\u001b[0;34m(\u001b[0m\u001b[0;34m'Enter the score for test 2: '\u001b[0m\u001b[0;34m)\u001b[0m\u001b[0;34m\u001b[0m\u001b[0;34m\u001b[0m\u001b[0m\n\u001b[1;32m     12\u001b[0m \u001b[0;31m# Calculate the average test score.\u001b[0m\u001b[0;34m\u001b[0m\u001b[0;34m\u001b[0m\u001b[0;34m\u001b[0m\u001b[0m\n\u001b[0;32m---> 13\u001b[0;31m \u001b[0maverage\u001b[0m \u001b[0;34m=\u001b[0m \u001b[0mtest1\u001b[0m \u001b[0;34m+\u001b[0m \u001b[0mtest2\u001b[0m \u001b[0;34m+\u001b[0m \u001b[0mtest3\u001b[0m \u001b[0;34m/\u001b[0m \u001b[0;36m3\u001b[0m\u001b[0;34m\u001b[0m\u001b[0;34m\u001b[0m\u001b[0m\n\u001b[0m\u001b[1;32m     14\u001b[0m \u001b[0;31m# Print the average.\u001b[0m\u001b[0;34m\u001b[0m\u001b[0;34m\u001b[0m\u001b[0;34m\u001b[0m\u001b[0m\n\u001b[1;32m     15\u001b[0m \u001b[0mprint\u001b[0m\u001b[0;34m(\u001b[0m\u001b[0;34m'The average score is'\u001b[0m\u001b[0;34m,\u001b[0m \u001b[0maverage\u001b[0m\u001b[0;34m)\u001b[0m\u001b[0;34m\u001b[0m\u001b[0;34m\u001b[0m\u001b[0m\n",
      "\u001b[0;31mNameError\u001b[0m: name 'test3' is not defined"
     ]
    }
   ],
   "source": [
    "## Q1 Fix all the syntax and logical errors in the given source code \n",
    "#add comments to explain your reasoning\n",
    "\n",
    "# This program gets three test scores and displays their average.  It congratulates the user if the \n",
    "# average is a high score. The high score variable holds the value that is considered a high score.\n",
    "\n",
    "HIGH_SCORE = 95\n",
    " \n",
    "# Get the test scores.\n",
    "test1 = input('Enter the score for test 1: ')\n",
    "test2 = input('Enter the score for test 2: ')\n",
    "# Calculate the average test score.\n",
    "average = test1 + test2 + test3 / 3\n",
    "# Print the average.\n",
    "print('The average score is', average)\n",
    "# If the average is a high score,\n",
    "# congratulate the user.\n",
    "if average >= high_score:\n",
    "    print('Congratulations!')\n",
    "print('That is a great average!')"
   ]
  },
  {
   "cell_type": "code",
   "execution_count": 9,
   "id": "1ce9d0b4",
   "metadata": {},
   "outputs": [
    {
     "name": "stdout",
     "output_type": "stream",
     "text": [
      "Enter the score for test 1: 96\n",
      "Enter the score for test 2: 96\n",
      "Enter the score for test 3: 96\n",
      "The average score is 96.0\n",
      "Congratulations! You have the new high score!\n"
     ]
    }
   ],
   "source": [
    "HIGH_SCORE = 95\n",
    "# define PASSING_GRADE\n",
    "PASSING_GRADE = 70\n",
    " \n",
    "# Get the test scores.\n",
    "test1 = int(input('Enter the score for test 1: '))\n",
    "test2 = int(input('Enter the score for test 2: '))\n",
    "test3 = int(input('Enter the score for test 3: '))\n",
    "# Calculate the average test score.\n",
    "average = (test1 + test2 + test3) / 3\n",
    "# Print the average.\n",
    "print('The average score is', average)\n",
    "# If the average is a high score,\n",
    "# congratulate the user.\n",
    "if average >= HIGH_SCORE:\n",
    "    print('Congratulations! You have the new high score!')\n",
    "elif average >= PASSING_GRADE:\n",
    "    print('Congratulations, you passed.')\n",
    "else:\n",
    "    print('You failed. Time to hit the books!')"
   ]
  },
  {
   "cell_type": "code",
   "execution_count": 14,
   "id": "88819323",
   "metadata": {},
   "outputs": [
    {
     "name": "stdout",
     "output_type": "stream",
     "text": [
      "Please enter the length of the first rectangle in cm: 30\n",
      "Please enter the width of the first rectangle in cm: 30\n",
      "Please enter the length of the second rectangle in cm: 30\n",
      "Please enter the width of the second rectangle in cm: 30\n",
      "The area of the first rectangle is 900cm\n",
      "The area of the second rectangle is 900cm\n"
     ]
    }
   ],
   "source": [
    "### Q2\n",
    "#The area of a rectangle is the rectangle’s length times its width. \n",
    "#Write a program that asks for the length and width of two rectangles \n",
    "#and prints to the user the area of both rectangles. \n",
    "\n",
    "# define first rectangle\n",
    "L1 = int(input('Please enter the length of the first rectangle in cm: '))\n",
    "W1 = int(input('Please enter the width of the first rectangle in cm: '))\n",
    "\n",
    "# define second rectangle\n",
    "L2 = int(input('Please enter the length of the second rectangle in cm: '))\n",
    "W2 = int(input('Please enter the width of the second rectangle in cm: '))\n",
    "\n",
    "R1 = L1 * W1\n",
    "R2 = L2 * W2\n",
    "\n",
    "print('The area of the first rectangle is {}cm'.format(R1))\n",
    "print('The area of the second rectangle is {}cm'.format(R2))"
   ]
  },
  {
   "cell_type": "code",
   "execution_count": 15,
   "id": "8f211581",
   "metadata": {},
   "outputs": [
    {
     "name": "stdout",
     "output_type": "stream",
     "text": [
      "Please enter your first name: Josh\n",
      "Please enter your age: 43\n",
      "Happy birthday, Josh! You are 43 years old today!\n"
     ]
    }
   ],
   "source": [
    "#Q3 \n",
    "#Ask a user to enter their first name and their age and assign it \n",
    "# to the variables name and age. \n",
    "#The variable name should be a string and the variable age should be an int.  \n",
    "\n",
    "#Using the variables name and age, print a message to the user stating something along the lines of:\n",
    "# \"Happy birthday, name!  You are age years old today!\"\n",
    "\n",
    "name = input('Please enter your first name: ')\n",
    "age = int(input('Please enter your age: '))\n",
    "\n",
    "print('Happy birthday, {}! You are {} years old today!'.format(name, age))"
   ]
  }
 ],
 "metadata": {
  "kernelspec": {
   "display_name": "Python 3 (ipykernel)",
   "language": "python",
   "name": "python3"
  },
  "language_info": {
   "codemirror_mode": {
    "name": "ipython",
    "version": 3
   },
   "file_extension": ".py",
   "mimetype": "text/x-python",
   "name": "python",
   "nbconvert_exporter": "python",
   "pygments_lexer": "ipython3",
   "version": "3.8.12"
  }
 },
 "nbformat": 4,
 "nbformat_minor": 5
}
