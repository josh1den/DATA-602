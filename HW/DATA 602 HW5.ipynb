{
 "cells": [
  {
   "cell_type": "code",
   "execution_count": 1,
   "id": "8f875234",
   "metadata": {},
   "outputs": [],
   "source": [
    "'''\n",
    "Assignment #5\n",
    "1. Add / modify code ONLY between the marked areas (i.e. \"Place code below\") \n",
    "2. Run the associated test harness for a basic check on completeness. A successful run of the test cases does not guarantee accuracy or fulfillment of the requirements. Please do not submit your work if test cases fail.\n",
    "3. To run unit tests simply use the below command after filling in all of the code:\n",
    "    python 05_assignment.py\n",
    "  \n",
    "4. Unless explicitly stated, please do not import any additional libraries but feel free to use built-in Python packages\n",
    "5. Submissions must be a Python file and not a notebook file (i.e *.ipynb)\n",
    "6. Do not use global variables\n",
    "'''\n",
    "\n",
    "import numpy as np, pandas as pd, matplotlib.pyplot as plt\n",
    "import unittest\n",
    "import requests\n",
    "import json"
   ]
  },
  {
   "cell_type": "code",
   "execution_count": 2,
   "id": "ff95e723",
   "metadata": {},
   "outputs": [],
   "source": [
    "def exercise01():\n",
    "    '''\n",
    "    Create a DataFrame df with 4 columns and 3 rows of data in one line of code. The data can be arbitrary integers.\n",
    "    For example\n",
    "    \n",
    "               0  1  2   3\n",
    "            0  1  2  3   4\n",
    "            1  5  6  7   8\n",
    "            2  7  8  9  10\n",
    "    '''\n",
    "\n",
    "    # ------ Place code below here \\/ \\/ \\/ ------\n",
    "\n",
    "    df = pd.DataFrame(np.arange(1,13).reshape(3,4))\n",
    "\n",
    "    # ------ Place code above here /\\ /\\ /\\ ------\n",
    "\n",
    "    return df"
   ]
  },
  {
   "cell_type": "code",
   "execution_count": 3,
   "id": "f961497e",
   "metadata": {},
   "outputs": [
    {
     "data": {
      "text/html": [
       "<div>\n",
       "<style scoped>\n",
       "    .dataframe tbody tr th:only-of-type {\n",
       "        vertical-align: middle;\n",
       "    }\n",
       "\n",
       "    .dataframe tbody tr th {\n",
       "        vertical-align: top;\n",
       "    }\n",
       "\n",
       "    .dataframe thead th {\n",
       "        text-align: right;\n",
       "    }\n",
       "</style>\n",
       "<table border=\"1\" class=\"dataframe\">\n",
       "  <thead>\n",
       "    <tr style=\"text-align: right;\">\n",
       "      <th></th>\n",
       "      <th>0</th>\n",
       "      <th>1</th>\n",
       "      <th>2</th>\n",
       "      <th>3</th>\n",
       "    </tr>\n",
       "  </thead>\n",
       "  <tbody>\n",
       "    <tr>\n",
       "      <th>0</th>\n",
       "      <td>1</td>\n",
       "      <td>2</td>\n",
       "      <td>3</td>\n",
       "      <td>4</td>\n",
       "    </tr>\n",
       "    <tr>\n",
       "      <th>1</th>\n",
       "      <td>5</td>\n",
       "      <td>6</td>\n",
       "      <td>7</td>\n",
       "      <td>8</td>\n",
       "    </tr>\n",
       "    <tr>\n",
       "      <th>2</th>\n",
       "      <td>9</td>\n",
       "      <td>10</td>\n",
       "      <td>11</td>\n",
       "      <td>12</td>\n",
       "    </tr>\n",
       "  </tbody>\n",
       "</table>\n",
       "</div>"
      ],
      "text/plain": [
       "   0   1   2   3\n",
       "0  1   2   3   4\n",
       "1  5   6   7   8\n",
       "2  9  10  11  12"
      ]
     },
     "execution_count": 3,
     "metadata": {},
     "output_type": "execute_result"
    }
   ],
   "source": [
    "exercise01()"
   ]
  },
  {
   "cell_type": "code",
   "execution_count": 4,
   "id": "cff7275f",
   "metadata": {},
   "outputs": [],
   "source": [
    "def exercise02(a):\n",
    "    # The function exercise02() receives a Python list and converts it to an ndarray. Convert the list to a numpy ndarray called array.\n",
    "\n",
    "    # ------ Place code below here \\/ \\/ \\/ ------\n",
    "    array = np.asarray(a)\n",
    "    # ------ Place code above here /\\ /\\ /\\ ------\n",
    "\n",
    "    return array"
   ]
  },
  {
   "cell_type": "code",
   "execution_count": 5,
   "id": "fa14b88c",
   "metadata": {},
   "outputs": [
    {
     "data": {
      "text/plain": [
       "array([0, 1, 2, 3, 4, 5, 6, 7, 8, 9])"
      ]
     },
     "execution_count": 5,
     "metadata": {},
     "output_type": "execute_result"
    }
   ],
   "source": [
    "some_list = list(range(10))\n",
    "exercise02(some_list)"
   ]
  },
  {
   "cell_type": "code",
   "execution_count": 6,
   "id": "916f7560",
   "metadata": {},
   "outputs": [],
   "source": [
    "def exercise03(a):\n",
    "    # The function exercise03() receives an ndarray of integers. Return the sum of those integers using NumPy.\n",
    "\n",
    "    # ------ Place code below here \\/ \\/ \\/ ------\n",
    "    \n",
    "\n",
    "    # ------ Place code above here /\\ /\\ /\\ ------\n",
    "    return np.sum(a)"
   ]
  },
  {
   "cell_type": "code",
   "execution_count": 7,
   "id": "93d6fa70",
   "metadata": {},
   "outputs": [
    {
     "data": {
      "text/plain": [
       "45"
      ]
     },
     "execution_count": 7,
     "metadata": {},
     "output_type": "execute_result"
    }
   ],
   "source": [
    "exercise03(some_list)"
   ]
  },
  {
   "cell_type": "code",
   "execution_count": 8,
   "id": "daee125d",
   "metadata": {},
   "outputs": [],
   "source": [
    "def exercise04(a):\n",
    "    # The function exercise04() receives an ndarray matrix (2D) of integers. Return the sum of the 2nd column using NumPy.\n",
    "\n",
    "    # ------ Place code below here \\/ \\/ \\/ ------\n",
    "    \n",
    "\n",
    "    # ------ Place code above here /\\ /\\ /\\ ------\n",
    "    return np.sum(a[:,1])"
   ]
  },
  {
   "cell_type": "code",
   "execution_count": 9,
   "id": "ce1fccec",
   "metadata": {},
   "outputs": [
    {
     "data": {
      "text/plain": [
       "matrix([[1, 2],\n",
       "        [3, 4]])"
      ]
     },
     "execution_count": 9,
     "metadata": {},
     "output_type": "execute_result"
    }
   ],
   "source": [
    "my_mat = np.matrix([[1,2],[3,4]])\n",
    "my_mat"
   ]
  },
  {
   "cell_type": "code",
   "execution_count": 10,
   "id": "2ca28f9e",
   "metadata": {},
   "outputs": [
    {
     "data": {
      "text/plain": [
       "6"
      ]
     },
     "execution_count": 10,
     "metadata": {},
     "output_type": "execute_result"
    }
   ],
   "source": [
    "exercise04(my_mat)"
   ]
  },
  {
   "cell_type": "code",
   "execution_count": 11,
   "id": "d70aa577",
   "metadata": {},
   "outputs": [],
   "source": [
    "def exercise05(n):\n",
    "    # The function exercise05() receives an integer n. Return an ndarray filled with zeros of size n x n (n rows, n columns)\n",
    "\n",
    "    # ------ Place code below here \\/ \\/ \\/ ------\n",
    "    \n",
    "\n",
    "    # ------ Place code above here /\\ /\\ /\\ ------\n",
    "    return np.zeros((n,n), dtype=int)"
   ]
  },
  {
   "cell_type": "code",
   "execution_count": 12,
   "id": "07fe0b32",
   "metadata": {},
   "outputs": [
    {
     "data": {
      "text/plain": [
       "array([[0, 0, 0, 0],\n",
       "       [0, 0, 0, 0],\n",
       "       [0, 0, 0, 0],\n",
       "       [0, 0, 0, 0]])"
      ]
     },
     "execution_count": 12,
     "metadata": {},
     "output_type": "execute_result"
    }
   ],
   "source": [
    "exercise05(4)"
   ]
  },
  {
   "cell_type": "code",
   "execution_count": 13,
   "id": "869dc938",
   "metadata": {},
   "outputs": [],
   "source": [
    "def exercise06(n):\n",
    "    # The function exercise06() receives an integer n. Return an ndarray filled with ones of size n x n (n rows, n columns)\n",
    "\n",
    "    # ------ Place code below here \\/ \\/ \\/ ------\n",
    "    \n",
    "\n",
    "    # ------ Place code above here /\\ /\\ /\\ ------\n",
    "    return np.ones((n,n), dtype=int)"
   ]
  },
  {
   "cell_type": "code",
   "execution_count": 14,
   "id": "c95fdb68",
   "metadata": {},
   "outputs": [
    {
     "data": {
      "text/plain": [
       "array([[1, 1, 1, 1],\n",
       "       [1, 1, 1, 1],\n",
       "       [1, 1, 1, 1],\n",
       "       [1, 1, 1, 1]])"
      ]
     },
     "execution_count": 14,
     "metadata": {},
     "output_type": "execute_result"
    }
   ],
   "source": [
    "exercise06(4)"
   ]
  },
  {
   "cell_type": "code",
   "execution_count": 15,
   "id": "e975c992",
   "metadata": {},
   "outputs": [],
   "source": [
    "def exercise07(sd,m,s):\n",
    "    # The function exercise07() receives integers sd, m, s which are standard deviation, mean and size respectively. \n",
    "    # Return an ndarray filled with s random numbers conforming to a normal distribution of standard deviation = sd and mean = m\n",
    "\n",
    "    # ------ Place code below here \\/ \\/ \\/ ------\n",
    "    random_numbers = np.random.normal(m, sd, s)\n",
    "    # ------ Place code above here /\\ /\\ /\\ ------\n",
    "    return random_numbers"
   ]
  },
  {
   "cell_type": "code",
   "execution_count": 16,
   "id": "82a361f0",
   "metadata": {},
   "outputs": [
    {
     "data": {
      "text/plain": [
       "array([-0.72834398, -1.73052116, -0.68165542,  0.19877542,  0.55280137,\n",
       "        0.79931226, -1.2865088 , -0.68191726,  0.38339092,  0.32070164])"
      ]
     },
     "execution_count": 16,
     "metadata": {},
     "output_type": "execute_result"
    }
   ],
   "source": [
    "exercise07(1, 0, 10)"
   ]
  },
  {
   "cell_type": "code",
   "execution_count": 17,
   "id": "6ef83a5b",
   "metadata": {},
   "outputs": [],
   "source": [
    "def exercise08():\n",
    "    '''\n",
    "    Load the CSV data from https://tinyurl.com/y63q7okz into a DataFrame\n",
    "    # Return the following items:\n",
    "    - row_count - Total # of rows\n",
    "    - avg_sq_ft - Average square feet across all transactions\n",
    "    - df_zip_95670 - DataFrame containing all transactions in zip code 95670\n",
    "    - df_zip_not_95610 - DataFrame containing all transactions not in zip code 95610\n",
    "    '''\n",
    "\n",
    "    # ------ Place code below here \\/ \\/ \\/ ------\n",
    "    url = \"https://tinyurl.com/y63q7okz\"\n",
    "    df = pd.read_csv(url)\n",
    "    row_count = len(df)\n",
    "    avg_sq_ft = np.mean(df.sq__ft)\n",
    "    df_zip_95670 = df[df['zip'] == 95670]\n",
    "    df_zip_not_95610 = df[df['zip'] != 95610]\n",
    "    # ------ Place code above here /\\ /\\ /\\ ------\n",
    "\n",
    "    return df, row_count, avg_sq_ft, df_zip_95670, df_zip_not_95610"
   ]
  },
  {
   "cell_type": "code",
   "execution_count": 18,
   "id": "bda5c2d5",
   "metadata": {},
   "outputs": [
    {
     "data": {
      "text/plain": [
       "(                  street             city    zip state  beds  baths  sq__ft  \\\n",
       " 0           3526 HIGH ST       SACRAMENTO  95838    CA     2      1     836   \n",
       " 1            51 OMAHA CT       SACRAMENTO  95823    CA     3      1    1167   \n",
       " 2         2796 BRANCH ST       SACRAMENTO  95815    CA     2      1     796   \n",
       " 3       2805 JANETTE WAY       SACRAMENTO  95815    CA     2      1     852   \n",
       " 4        6001 MCMAHON DR       SACRAMENTO  95824    CA     2      1     797   \n",
       " ..                   ...              ...    ...   ...   ...    ...     ...   \n",
       " 980   9169 GARLINGTON CT       SACRAMENTO  95829    CA     4      3    2280   \n",
       " 981      6932 RUSKUT WAY       SACRAMENTO  95823    CA     3      2    1477   \n",
       " 982    7933 DAFFODIL WAY   CITRUS HEIGHTS  95610    CA     3      2    1216   \n",
       " 983     8304 RED FOX WAY        ELK GROVE  95758    CA     4      2    1685   \n",
       " 984  3882 YELLOWSTONE LN  EL DORADO HILLS  95762    CA     3      2    1362   \n",
       " \n",
       "             type                     sale_date   price   latitude   longitude  \n",
       " 0    Residential  Wed May 21 00:00:00 EDT 2008   59222  38.631913 -121.434879  \n",
       " 1    Residential  Wed May 21 00:00:00 EDT 2008   68212  38.478902 -121.431028  \n",
       " 2    Residential  Wed May 21 00:00:00 EDT 2008   68880  38.618305 -121.443839  \n",
       " 3    Residential  Wed May 21 00:00:00 EDT 2008   69307  38.616835 -121.439146  \n",
       " 4    Residential  Wed May 21 00:00:00 EDT 2008   81900  38.519470 -121.435768  \n",
       " ..           ...                           ...     ...        ...         ...  \n",
       " 980  Residential  Thu May 15 00:00:00 EDT 2008  232425  38.457679 -121.359620  \n",
       " 981  Residential  Thu May 15 00:00:00 EDT 2008  234000  38.499893 -121.458890  \n",
       " 982  Residential  Thu May 15 00:00:00 EDT 2008  235000  38.708824 -121.256803  \n",
       " 983  Residential  Thu May 15 00:00:00 EDT 2008  235301  38.417000 -121.397424  \n",
       " 984  Residential  Thu May 15 00:00:00 EDT 2008  235738  38.655245 -121.075915  \n",
       " \n",
       " [985 rows x 12 columns],\n",
       " 985,\n",
       " 1314.9167512690356,\n",
       "                                street            city    zip state  beds  \\\n",
       " 8     11150 TRINITY RIVER DR Unit 114  RANCHO CORDOVA  95670    CA     2   \n",
       " 81                 10245 LOS PALOS DR  RANCHO CORDOVA  95670    CA     3   \n",
       " 116          2010 PROMONTORY POINT LN      GOLD RIVER  95670    CA     2   \n",
       " 178              10542 SILVERWOOD WAY  RANCHO CORDOVA  95670    CA     3   \n",
       " 211                 2460 EL ROCCO WAY  RANCHO CORDOVA  95670    CA     3   \n",
       " 217                 2219 EL CANTO CIR  RANCHO CORDOVA  95670    CA     4   \n",
       " 279  11281 STANFORD COURT LN Unit 604      GOLD RIVER  95670    CA     0   \n",
       " 284          2015 PROMONTORY POINT LN      GOLD RIVER  95670    CA     3   \n",
       " 293                 3512 RAINSONG CIR  RANCHO CORDOVA  95670    CA     4   \n",
       " 451                10949 SCOTSMAN WAY  RANCHO CORDOVA  95670    CA     5   \n",
       " 489                   10629 BASIE WAY  RANCHO CORDOVA  95670    CA     4   \n",
       " 493                    3253 ABOTO WAY  RANCHO CORDOVA  95670    CA     4   \n",
       " 546              2049 EMPIRE MINE CIR      GOLD RIVER  95670    CA     4   \n",
       " 621                   2426 RASHAWN DR  RANCHO CORDOVA  95670    CA     2   \n",
       " 625                   2361 LA LOMA DR  RANCHO CORDOVA  95670    CA     3   \n",
       " 668                 2421 BERRYWOOD DR  RANCHO CORDOVA  95670    CA     3   \n",
       " 684                    2909 SHAWN WAY  RANCHO CORDOVA  95670    CA     3   \n",
       " 726                    2319 THORES ST  RANCHO CORDOVA  95670    CA     3   \n",
       " 732                11130 EEL RIVER CT  RANCHO CORDOVA  95670    CA     2   \n",
       " 802                   3349 CORVINA DR  RANCHO CORDOVA  95670    CA     4   \n",
       " 900                  2636 TRONERO WAY  RANCHO CORDOVA  95670    CA     3   \n",
       " \n",
       "      baths  sq__ft          type                     sale_date   price  \\\n",
       " 8        2     941         Condo  Wed May 21 00:00:00 EDT 2008   94905   \n",
       " 81       2    1287   Residential  Wed May 21 00:00:00 EDT 2008  234697   \n",
       " 116      2    1520   Residential  Wed May 21 00:00:00 EDT 2008  299000   \n",
       " 178      1    1098   Residential  Tue May 20 00:00:00 EDT 2008  120108   \n",
       " 211      2    1671   Residential  Tue May 20 00:00:00 EDT 2008  175000   \n",
       " 217      2    1829   Residential  Tue May 20 00:00:00 EDT 2008  184500   \n",
       " 279      0       0         Condo  Tue May 20 00:00:00 EDT 2008  300000   \n",
       " 284      2    1981   Residential  Tue May 20 00:00:00 EDT 2008  305000   \n",
       " 293      3    2208   Residential  Tue May 20 00:00:00 EDT 2008  336000   \n",
       " 451      4    2382  Multi-Family  Mon May 19 00:00:00 EDT 2008  236000   \n",
       " 489      2    1524   Residential  Mon May 19 00:00:00 EDT 2008  296056   \n",
       " 493      3    1851   Residential  Mon May 19 00:00:00 EDT 2008  305000   \n",
       " 546      2    3037   Residential  Mon May 19 00:00:00 EDT 2008  528000   \n",
       " 621      1     911   Residential  Fri May 16 00:00:00 EDT 2008  115000   \n",
       " 625      2    1115   Residential  Fri May 16 00:00:00 EDT 2008  116000   \n",
       " 668      2    1157   Residential  Fri May 16 00:00:00 EDT 2008  180000   \n",
       " 684      2    1452   Residential  Fri May 16 00:00:00 EDT 2008  193000   \n",
       " 726      2    1074   Residential  Fri May 16 00:00:00 EDT 2008  233000   \n",
       " 732      2    1406   Residential  Fri May 16 00:00:00 EDT 2008  242000   \n",
       " 802      3    2109   Residential  Fri May 16 00:00:00 EDT 2008  330000   \n",
       " 900      1    1000   Residential  Thu May 15 00:00:00 EDT 2008  134000   \n",
       " \n",
       "       latitude   longitude  \n",
       " 8    38.621188 -121.270555  \n",
       " 81   38.593699 -121.310890  \n",
       " 116  38.628690 -121.261669  \n",
       " 178  38.587156 -121.295778  \n",
       " 211  38.591477 -121.315340  \n",
       " 217  38.592383 -121.318669  \n",
       " 279  38.625289 -121.260286  \n",
       " 284  38.628732 -121.261149  \n",
       " 293  38.573488 -121.282809  \n",
       " 451  38.603686 -121.277844  \n",
       " 489  38.579000 -121.292627  \n",
       " 493  38.577270 -121.285591  \n",
       " 546  38.629299 -121.249021  \n",
       " 621  38.610852 -121.273278  \n",
       " 625  38.593680 -121.316054  \n",
       " 668  38.608680 -121.278490  \n",
       " 684  38.589925 -121.299059  \n",
       " 726  38.596750 -121.312716  \n",
       " 732  38.625932 -121.271517  \n",
       " 802  38.580545 -121.279016  \n",
       " 900  38.593049 -121.303040  ,\n",
       "                   street             city    zip state  beds  baths  sq__ft  \\\n",
       " 0           3526 HIGH ST       SACRAMENTO  95838    CA     2      1     836   \n",
       " 1            51 OMAHA CT       SACRAMENTO  95823    CA     3      1    1167   \n",
       " 2         2796 BRANCH ST       SACRAMENTO  95815    CA     2      1     796   \n",
       " 3       2805 JANETTE WAY       SACRAMENTO  95815    CA     2      1     852   \n",
       " 4        6001 MCMAHON DR       SACRAMENTO  95824    CA     2      1     797   \n",
       " ..                   ...              ...    ...   ...   ...    ...     ...   \n",
       " 979     1909 YARNELL WAY        ELK GROVE  95758    CA     3      2    1262   \n",
       " 980   9169 GARLINGTON CT       SACRAMENTO  95829    CA     4      3    2280   \n",
       " 981      6932 RUSKUT WAY       SACRAMENTO  95823    CA     3      2    1477   \n",
       " 983     8304 RED FOX WAY        ELK GROVE  95758    CA     4      2    1685   \n",
       " 984  3882 YELLOWSTONE LN  EL DORADO HILLS  95762    CA     3      2    1362   \n",
       " \n",
       "             type                     sale_date   price   latitude   longitude  \n",
       " 0    Residential  Wed May 21 00:00:00 EDT 2008   59222  38.631913 -121.434879  \n",
       " 1    Residential  Wed May 21 00:00:00 EDT 2008   68212  38.478902 -121.431028  \n",
       " 2    Residential  Wed May 21 00:00:00 EDT 2008   68880  38.618305 -121.443839  \n",
       " 3    Residential  Wed May 21 00:00:00 EDT 2008   69307  38.616835 -121.439146  \n",
       " 4    Residential  Wed May 21 00:00:00 EDT 2008   81900  38.519470 -121.435768  \n",
       " ..           ...                           ...     ...        ...         ...  \n",
       " 979  Residential  Thu May 15 00:00:00 EDT 2008  230000  38.417382 -121.484325  \n",
       " 980  Residential  Thu May 15 00:00:00 EDT 2008  232425  38.457679 -121.359620  \n",
       " 981  Residential  Thu May 15 00:00:00 EDT 2008  234000  38.499893 -121.458890  \n",
       " 983  Residential  Thu May 15 00:00:00 EDT 2008  235301  38.417000 -121.397424  \n",
       " 984  Residential  Thu May 15 00:00:00 EDT 2008  235738  38.655245 -121.075915  \n",
       " \n",
       " [978 rows x 12 columns])"
      ]
     },
     "execution_count": 18,
     "metadata": {},
     "output_type": "execute_result"
    }
   ],
   "source": [
    "exercise08()"
   ]
  },
  {
   "cell_type": "code",
   "execution_count": 19,
   "id": "0b32f367",
   "metadata": {},
   "outputs": [],
   "source": [
    "def exercise10(n):\n",
    "    # Create a numpy identity matrix of size n\n",
    "    # ------ Place code below here \\/ \\/ \\/ ------\n",
    "    identity_matrix = np.eye(n, dtype=int)\n",
    "    # ------ Place code above here /\\ /\\ /\\ ------  \n",
    "    return identity_matrix"
   ]
  },
  {
   "cell_type": "code",
   "execution_count": 20,
   "id": "1853eff8",
   "metadata": {},
   "outputs": [
    {
     "data": {
      "text/plain": [
       "array([[1, 0],\n",
       "       [0, 1]])"
      ]
     },
     "execution_count": 20,
     "metadata": {},
     "output_type": "execute_result"
    }
   ],
   "source": [
    "exercise10(2)"
   ]
  },
  {
   "cell_type": "code",
   "execution_count": 21,
   "id": "13795622",
   "metadata": {},
   "outputs": [],
   "source": [
    "def exercise11(n):\n",
    "    '''\n",
    "    Using NumPy, create a single dimension array, array_1d, of size n containing integers 0 to n-1\n",
    "    Reshape the array. The reshaped array, array_reshaped, should be n/3 columns and 3 rows\n",
    "    '''\n",
    "    # ------ Place code below here \\/ \\/ \\/ ------\n",
    "    array_1d = np.arange(0,n)\n",
    "    array_reshaped = array_1d.reshape(3,int(n/3))\n",
    "    # ------ Place code above here /\\ /\\ /\\ ------  \n",
    "    return array_1d, array_reshaped"
   ]
  },
  {
   "cell_type": "code",
   "execution_count": 22,
   "id": "d6fe576f",
   "metadata": {},
   "outputs": [
    {
     "data": {
      "text/plain": [
       "(array([0, 1, 2]),\n",
       " array([[0],\n",
       "        [1],\n",
       "        [2]]))"
      ]
     },
     "execution_count": 22,
     "metadata": {},
     "output_type": "execute_result"
    }
   ],
   "source": [
    "exercise11(3)"
   ]
  },
  {
   "cell_type": "code",
   "execution_count": 23,
   "id": "a30931f8",
   "metadata": {},
   "outputs": [],
   "source": [
    "def exercise12(n):\n",
    "    '''\n",
    "    Create a checkerboard NumPy matrix of size 2n x 2n using one line of code\n",
    "    A checkerboard matrix is a matrix with alternating 1s and 0s across rows and columns with the top left value equal to 1\n",
    "    '''\n",
    "    # ------ Place code below here \\/ \\/ \\/ ------\n",
    "    checkerboard_matrix = np.array(([1,0] * n + [0,1] * n) * n).reshape(n*2, n*2)\n",
    "    # ------ Place code above here /\\ /\\ /\\ ------ \n",
    "\n",
    "    return checkerboard_matrix"
   ]
  },
  {
   "cell_type": "code",
   "execution_count": 24,
   "id": "185af15b",
   "metadata": {},
   "outputs": [
    {
     "data": {
      "text/plain": [
       "array([[1, 0, 1, 0, 1, 0, 1, 0],\n",
       "       [0, 1, 0, 1, 0, 1, 0, 1],\n",
       "       [1, 0, 1, 0, 1, 0, 1, 0],\n",
       "       [0, 1, 0, 1, 0, 1, 0, 1],\n",
       "       [1, 0, 1, 0, 1, 0, 1, 0],\n",
       "       [0, 1, 0, 1, 0, 1, 0, 1],\n",
       "       [1, 0, 1, 0, 1, 0, 1, 0],\n",
       "       [0, 1, 0, 1, 0, 1, 0, 1]])"
      ]
     },
     "execution_count": 24,
     "metadata": {},
     "output_type": "execute_result"
    }
   ],
   "source": [
    "exercise12(4)"
   ]
  },
  {
   "cell_type": "code",
   "execution_count": 25,
   "id": "af5ef881",
   "metadata": {},
   "outputs": [],
   "source": [
    "from random import sample\n",
    "from datetime import date\n",
    "\n",
    "def exercise13(n):\n",
    "    '''\n",
    "    Create a pandas Series, s, with n random integers between 0 and n, for n days starting from 1/1/2010 and plot the\n",
    "    cumulative sum on a  chart. The data range should be an index. pd.date_range() may help. \n",
    "    \n",
    "    '''\n",
    "    # ------ Place code below here \\/ \\/ \\/ ------\n",
    "    numbers = sample(range(0,n),n)\n",
    "    index = pd.date_range(start=\"1/1/2010\", periods=n).date\n",
    "    s = pd.Series(numbers, index=index).cumsum().plot().set_xticks(index,index,rotation=45)\n",
    "\n",
    "   \n",
    "    # ------ Place code above here /\\ /\\ /\\ ------ \n",
    "    return s"
   ]
  },
  {
   "cell_type": "code",
   "execution_count": 26,
   "id": "08c0470c",
   "metadata": {},
   "outputs": [
    {
     "data": {
      "image/png": "[encoded data removed]",
      "text/plain": [
       "<Figure size 432x288 with 1 Axes>"
      ]
     },
     "metadata": {
      "needs_background": "light"
     },
     "output_type": "display_data"
    }
   ],
   "source": [
    "exercise13(10);"
   ]
  },
  {
   "cell_type": "code",
   "execution_count": 27,
   "id": "4f5f0e33",
   "metadata": {},
   "outputs": [],
   "source": [
    "def exercise14(words):\n",
    "    '''\n",
    "    Exercise14() receives a Python list of words. Create and return a pandas DataFrame or Series that tabulates the length of \n",
    "    each word i.e. a list of the words hello, car, bye would produce a DataFrame with 3 rows and a column with the numbers 5,3,3\n",
    "    Using Series.map() and lambdas may help.\n",
    "    '''\n",
    "    # ------ Place code below here \\/ \\/ \\/ ------\n",
    "    df = pd.Series(words, words).map(lambda a: len(a))\n",
    "\n",
    "    # ------ Place code above here /\\ /\\ /\\ ------ \n",
    "    return df"
   ]
  },
  {
   "cell_type": "code",
   "execution_count": 28,
   "id": "fd7d8bcf",
   "metadata": {},
   "outputs": [
    {
     "data": {
      "text/plain": [
       "hello    5\n",
       "car      3\n",
       "bye      3\n",
       "dtype: int64"
      ]
     },
     "execution_count": 28,
     "metadata": {},
     "output_type": "execute_result"
    }
   ],
   "source": [
    "words = [\"hello\",\"car\",\"bye\"]\n",
    "exercise14(words)"
   ]
  },
  {
   "cell_type": "code",
   "execution_count": 29,
   "id": "3b1513a1",
   "metadata": {},
   "outputs": [],
   "source": [
    "def exercise15():\n",
    "    '''\n",
    "    Use the real estate transaction DataFrame from Exercise 8 and extract into a new DataFrame every 5th row using iloc \n",
    "    and just the street address and zip code columns. This can be done with one line of code.\n",
    "    '''\n",
    "    # ------ Place code below here \\/ \\/ \\/ ------\n",
    "    df = exercise08()[0].iloc[::5,:][[\"street\",\"zip\"]]\n",
    "\n",
    "    # ------ Place code above here /\\ /\\ /\\ ------ \n",
    "    return df"
   ]
  },
  {
   "cell_type": "code",
   "execution_count": 30,
   "id": "2e2dc3db",
   "metadata": {},
   "outputs": [
    {
     "data": {
      "text/html": [
       "<div>\n",
       "<style scoped>\n",
       "    .dataframe tbody tr th:only-of-type {\n",
       "        vertical-align: middle;\n",
       "    }\n",
       "\n",
       "    .dataframe tbody tr th {\n",
       "        vertical-align: top;\n",
       "    }\n",
       "\n",
       "    .dataframe thead th {\n",
       "        text-align: right;\n",
       "    }\n",
       "</style>\n",
       "<table border=\"1\" class=\"dataframe\">\n",
       "  <thead>\n",
       "    <tr style=\"text-align: right;\">\n",
       "      <th></th>\n",
       "      <th>street</th>\n",
       "      <th>zip</th>\n",
       "    </tr>\n",
       "  </thead>\n",
       "  <tbody>\n",
       "    <tr>\n",
       "      <th>0</th>\n",
       "      <td>3526 HIGH ST</td>\n",
       "      <td>95838</td>\n",
       "    </tr>\n",
       "    <tr>\n",
       "      <th>5</th>\n",
       "      <td>5828 PEPPERMILL CT</td>\n",
       "      <td>95841</td>\n",
       "    </tr>\n",
       "    <tr>\n",
       "      <th>10</th>\n",
       "      <td>645 MORRISON AVE</td>\n",
       "      <td>95838</td>\n",
       "    </tr>\n",
       "    <tr>\n",
       "      <th>15</th>\n",
       "      <td>7340 HAMDEN PL</td>\n",
       "      <td>95842</td>\n",
       "    </tr>\n",
       "    <tr>\n",
       "      <th>20</th>\n",
       "      <td>6118 STONEHAND AVE</td>\n",
       "      <td>95621</td>\n",
       "    </tr>\n",
       "    <tr>\n",
       "      <th>...</th>\n",
       "      <td>...</td>\n",
       "      <td>...</td>\n",
       "    </tr>\n",
       "    <tr>\n",
       "      <th>960</th>\n",
       "      <td>7958 ROSEVIEW WAY</td>\n",
       "      <td>95828</td>\n",
       "    </tr>\n",
       "    <tr>\n",
       "      <th>965</th>\n",
       "      <td>9185 CERROLINDA CIR</td>\n",
       "      <td>95758</td>\n",
       "    </tr>\n",
       "    <tr>\n",
       "      <th>970</th>\n",
       "      <td>3557 SODA WAY</td>\n",
       "      <td>95834</td>\n",
       "    </tr>\n",
       "    <tr>\n",
       "      <th>975</th>\n",
       "      <td>5024 CHAMBERLIN CIR</td>\n",
       "      <td>95757</td>\n",
       "    </tr>\n",
       "    <tr>\n",
       "      <th>980</th>\n",
       "      <td>9169 GARLINGTON CT</td>\n",
       "      <td>95829</td>\n",
       "    </tr>\n",
       "  </tbody>\n",
       "</table>\n",
       "<p>197 rows × 2 columns</p>\n",
       "</div>"
      ],
      "text/plain": [
       "                  street    zip\n",
       "0           3526 HIGH ST  95838\n",
       "5     5828 PEPPERMILL CT  95841\n",
       "10      645 MORRISON AVE  95838\n",
       "15        7340 HAMDEN PL  95842\n",
       "20    6118 STONEHAND AVE  95621\n",
       "..                   ...    ...\n",
       "960    7958 ROSEVIEW WAY  95828\n",
       "965  9185 CERROLINDA CIR  95758\n",
       "970        3557 SODA WAY  95834\n",
       "975  5024 CHAMBERLIN CIR  95757\n",
       "980   9169 GARLINGTON CT  95829\n",
       "\n",
       "[197 rows x 2 columns]"
      ]
     },
     "execution_count": 30,
     "metadata": {},
     "output_type": "execute_result"
    }
   ],
   "source": [
    "exercise15()"
   ]
  },
  {
   "cell_type": "code",
   "execution_count": 31,
   "id": "3f411c42",
   "metadata": {},
   "outputs": [
    {
     "name": "stderr",
     "output_type": "stream",
     "text": [
      "E\n",
      "======================================================================\n",
      "ERROR: /Users/joshiden/Library/Jupyter/runtime/kernel-38cb1d36-0562-4fef-aed2-72b7cd12b717 (unittest.loader._FailedTest)\n",
      "----------------------------------------------------------------------\n",
      "AttributeError: module '__main__' has no attribute '/Users/joshiden/Library/Jupyter/runtime/kernel-38cb1d36-0562-4fef-aed2-72b7cd12b717'\n",
      "\n",
      "----------------------------------------------------------------------\n",
      "Ran 1 test in 0.002s\n",
      "\n",
      "FAILED (errors=1)\n"
     ]
    },
    {
     "ename": "SystemExit",
     "evalue": "True",
     "output_type": "error",
     "traceback": [
      "An exception has occurred, use %tb to see the full traceback.\n",
      "\u001b[0;31mSystemExit\u001b[0m\u001b[0;31m:\u001b[0m True\n"
     ]
    },
    {
     "name": "stderr",
     "output_type": "stream",
     "text": [
      "/Users/joshiden/opt/anaconda3/lib/python3.8/site-packages/IPython/core/interactiveshell.py:3452: UserWarning: To exit: use 'exit', 'quit', or Ctrl-D.\n",
      "  warn(\"To exit: use 'exit', 'quit', or Ctrl-D.\", stacklevel=1)\n"
     ]
    }
   ],
   "source": [
    "class TestAssignment5(unittest.TestCase):\n",
    "    def test_exercise15(self):\n",
    "        print('Skipping exercise 15')\n",
    "        df = exercise15()\n",
    "        print(df)\n",
    "    \n",
    "    def test_exercise14(self):\n",
    "        print('Skipping exercise 14')\n",
    "        df = exercise14(['cat','frog','walrus','antelope'])\n",
    "        print(df)\n",
    "\n",
    "    def test_exercise13(self):\n",
    "        print('Testing exercise 13')\n",
    "        s= exercise13(1000)\n",
    "        self.assertEqual(s.index[0],pd.Timestamp('2010-01-01 00:00:00'))\n",
    "        self.assertEqual(len(s.index),1000)\n",
    "\n",
    "    def test_exercise12(self):\n",
    "        print('Testing exercise 12')\n",
    "        cm = exercise12(10)\n",
    "        self.assertEqual(cm.shape[0],20)\n",
    "        self.assertEqual(cm[0,0],1)\n",
    "        self.assertEqual(cm[0,1],0)\n",
    "        cm = exercise12(5)\n",
    "        self.assertEqual(cm.shape[0],10)\n",
    "        self.assertEqual(cm[0,0],1)\n",
    "        self.assertEqual(cm[0,1],0)        \n",
    "\n",
    "\n",
    "    def test_exercise11(self):\n",
    "        print('Testing exercise 11')\n",
    "        a1d, ar = exercise11(15)\n",
    "        self.assertEqual(a1d.shape[0],15)\n",
    "        self.assertEqual(ar.shape[0],3)\n",
    "        self.assertEqual(ar.shape[1],5)\n",
    "\n",
    "    def test_exercise10(self):\n",
    "        print('Testing exercise 10')\n",
    "        im = exercise10(10)\n",
    "        self.assertEqual(im.shape[0],10)\n",
    "        self.assertEqual(im.shape[1],10)\n",
    "\n",
    "\n",
    "        \n",
    "\n",
    "    def test_exercise08(self):\n",
    "        print('Testing exercise 8')\n",
    "        df, row_count, avg_sq_ft, df_zip_95670, df_zip_not_95610 = exercise08()\n",
    "        self.assertEqual(df.shape[0],985)\n",
    "        self.assertEqual(df.shape[1],12)\n",
    "        self.assertEqual(row_count,985)\n",
    "        self.assertAlmostEqual(avg_sq_ft,1314.91675127,2)\n",
    "        self.assertEqual(df_zip_95670.shape[0],21)\n",
    "        self.assertEqual(df_zip_not_95610.shape[0],978)\n",
    " \n",
    "    \n",
    "    def test_exercise07(self):\n",
    "        print('Testing exercise 7')\n",
    "        z = exercise07(10,5,100000)\n",
    "        self.assertEqual(z.shape[0], 100000)\n",
    "        self.assertLessEqual(np.average(z), 5.2)\n",
    "        self.assertGreaterEqual(np.average(z), 4.7)\n",
    "        z = exercise07(5,10,100000)\n",
    "        self.assertEqual(z.shape[0], 100000)\n",
    "        self.assertLessEqual(np.average(z), 10.2)\n",
    "        self.assertGreaterEqual(np.average(z), 9.7)\n",
    "\n",
    "\n",
    "    def test_exercise06(self):\n",
    "        print('Testing exercise 6')\n",
    "        z = exercise06(7).shape\n",
    "        self.assertEqual(z[0], 7)\n",
    "        self.assertEqual(z[1], 7)\n",
    "        z = exercise05(70).shape\n",
    "        self.assertEqual(z[0], 70)\n",
    "        self.assertEqual(z[1], 70)\n",
    "        \n",
    "\n",
    "    def test_exercise05(self):\n",
    "        print('Testing exercise 5')\n",
    "        z = exercise05(7).shape\n",
    "        self.assertEqual(z[0], 7)\n",
    "        self.assertEqual(z[1], 7)\n",
    "        z = exercise05(70).shape\n",
    "        self.assertEqual(z[0], 70)\n",
    "        self.assertEqual(z[1], 70)\n",
    "\n",
    "    def test_exercise04(self):\n",
    "        print('Testing exercise 4')\n",
    "        array = np.array([[1,1,1,1,1],[0,2,0,0,1]])\n",
    "        sum = exercise04(array)\n",
    "        self.assertEqual(sum, 3)\n",
    "        array = np.array([[1,6,1,1,1],[0,2,0,0,1]])\n",
    "        sum = exercise04(array)\n",
    "        self.assertEqual(sum, 8)\n",
    "\n",
    "    def test_exercise03(self):\n",
    "        print('Testing exercise 3')\n",
    "        array = np.array([1,1,1,1,1])\n",
    "        sum = exercise03(array)\n",
    "        self.assertEqual(sum, 5)\n",
    "        array = np.array([2,4])\n",
    "        sum = exercise03(array)\n",
    "        self.assertEqual(sum, 6)\n",
    "\n",
    "    def test_exercise01(self):\n",
    "        print('Testing exercise 1')\n",
    "        m = exercise01().shape\n",
    "        self.assertEqual(m[0], 3)\n",
    "        self.assertEqual(m[1], 4)\n",
    "\n",
    "    def test_exercise02(self):\n",
    "        print('Testing exercise 2')\n",
    "        m = exercise02([1,2,3,4,5,6])\n",
    "        self.assertTrue(type(m) is np.ndarray)\n",
    "        self.assertEqual(m.shape[0], 6)\n",
    "\n",
    "if __name__ == '__main__':\n",
    "    unittest.main()"
   ]
  }
 ],
 "metadata": {
  "kernelspec": {
   "display_name": "Python 3 (ipykernel)",
   "language": "python",
   "name": "python3"
  },
  "language_info": {
   "codemirror_mode": {
    "name": "ipython",
    "version": 3
   },
   "file_extension": ".py",
   "mimetype": "text/x-python",
   "name": "python",
   "nbconvert_exporter": "python",
   "pygments_lexer": "ipython3",
   "version": "3.8.12"
  }
 },
 "nbformat": 4,
 "nbformat_minor": 5
}
