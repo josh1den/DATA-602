{
 "cells": [
  {
   "cell_type": "markdown",
   "id": "3c86b26d",
   "metadata": {},
   "source": [
    "Q1: Create a class called BankAccount that has four attributes: bankname, firstname,\n",
    "lastname, and balance.  \n",
    "\n",
    "The default balance should be set to 0.  \n",
    "\n",
    "In addition, create ...  \n",
    "\n",
    "● A method called deposit() that allows the user to make deposits into their balance.  \n",
    "● A method called withdrawal() that allows the user to withdraw from their balance.  \n",
    "● Withdrawal may not exceed the available balance. Hint: consider a conditional argument \n",
    "in your withdrawal() method.  \n",
    "● Use the __str__() method in order to display the bank name, owner name, and current\n",
    "balance.  \n",
    "● Make a series of deposits and withdrawals to test your class.  "
   ]
  },
  {
   "cell_type": "code",
   "execution_count": 2,
   "id": "c1a2e2f4",
   "metadata": {},
   "outputs": [],
   "source": [
    "class BankAccount:\n",
    "    \"\"\"\n",
    "    has attributes: bankname, firstname, lastname, balance\n",
    "    \"\"\"\n",
    "    def __init__ (self, bankname, firstname, lastname, balance=0):\n",
    "        self.bankname = str(bankname)\n",
    "        self.firstname = str(firstname)\n",
    "        self.lastname = str(lastname)\n",
    "        self.balance = float(balance)\n",
    "        \n",
    "    def __str__ (self):\n",
    "        #return 'MyClass(x=' + str(self.x) + ' ,y=' + self.y + ')'\n",
    "        name = str(self.firstname) + \" \" + str(self.lastname)\n",
    "        bank = str(self.bankname)\n",
    "        balance = \"$\" + str(self.balance)\n",
    "        #return \"BankAccount(Bank Name=\" + bank + \", Owner Name=\" + name + \", Balance=\" + balance + \")\"\n",
    "        return \"Bank Name: \" + bank + \"\\nOwner Name: \" + name + \"\\nBalance: \" + balance + \"\"\n",
    "        \n",
    "    def deposit(self, deposit):\n",
    "        self.balance += float(deposit)\n",
    "        print(\"Your balance is now ${}\".format(self.balance))\n",
    "        \n",
    "    def withdrawal(self, withdrawal):\n",
    "        if withdrawal > self.balance:\n",
    "            print(\"Withdrawal exceeds balance, please try again.\")\n",
    "        else:\n",
    "            self.balance -= float(withdrawal)\n",
    "            print(\"Your balance is now ${}\".format(self.balance))"
   ]
  },
  {
   "cell_type": "code",
   "execution_count": 3,
   "id": "e28c0151",
   "metadata": {},
   "outputs": [],
   "source": [
    "account = BankAccount(bankname=\"Wells Fargo\", firstname=\"John\", lastname=\"Doe\")"
   ]
  },
  {
   "cell_type": "code",
   "execution_count": 4,
   "id": "3ad1b6fd",
   "metadata": {},
   "outputs": [
    {
     "data": {
      "text/plain": [
       "0.0"
      ]
     },
     "execution_count": 4,
     "metadata": {},
     "output_type": "execute_result"
    }
   ],
   "source": [
    "account.balance"
   ]
  },
  {
   "cell_type": "code",
   "execution_count": 5,
   "id": "8395276a",
   "metadata": {},
   "outputs": [
    {
     "name": "stdout",
     "output_type": "stream",
     "text": [
      "Your balance is now $50.0\n"
     ]
    }
   ],
   "source": [
    "account.deposit(50)"
   ]
  },
  {
   "cell_type": "code",
   "execution_count": 6,
   "id": "94aea922",
   "metadata": {},
   "outputs": [
    {
     "name": "stdout",
     "output_type": "stream",
     "text": [
      "Your balance is now $0.0\n"
     ]
    }
   ],
   "source": [
    "account.withdrawal(50)"
   ]
  },
  {
   "cell_type": "code",
   "execution_count": 7,
   "id": "d4e1e159",
   "metadata": {},
   "outputs": [
    {
     "name": "stdout",
     "output_type": "stream",
     "text": [
      "Withdrawal exceeds balance, please try again.\n"
     ]
    }
   ],
   "source": [
    "account.withdrawal(5)"
   ]
  },
  {
   "cell_type": "code",
   "execution_count": 8,
   "id": "68e4506c",
   "metadata": {},
   "outputs": [
    {
     "name": "stdout",
     "output_type": "stream",
     "text": [
      "Bank Name: Wells Fargo\n",
      "Owner Name: John Doe\n",
      "Balance: $0.0\n"
     ]
    }
   ],
   "source": [
    "print(str(account))"
   ]
  },
  {
   "cell_type": "markdown",
   "id": "d84cb2f8",
   "metadata": {},
   "source": [
    "Q2: Create a class Box that has attributes length and width that takes values for length\n",
    "and width upon construction (instantiation via the constructor).  \n",
    "\n",
    "In addition, create...  \n",
    "\n",
    "● A method called render() that prints out to the screen a box made with asterisks of\n",
    "length and width dimensions  \n",
    "● A method called invert() that switches length and width with each other  \n",
    "● Methods get_area() and get_perimeter() that return appropriate geometric calculations  \n",
    "● A method called double() that doubles the size of the box. Hint: Pay attention to return\n",
    "value here.  \n",
    "● Implement __eq__ so that two boxes can be compared using ==. Two boxes are equal if\n",
    "their respective lengths and widths are identical.  \n",
    "● A method print_dim() that prints to screen the length and width details of the box  \n",
    "● A method get_dim() that returns a tuple containing the length and width of the box  \n",
    "● A method combine() that takes another box as an argument and increases the length\n",
    "and width by the dimensions of the box passed in  \n",
    "● A method get_hypot() that finds the length of the diagonal that cuts through the middle  \n",
    "● Instantiate 3 boxes of dimensions 5,10 , 3,4 and 5,10 and assign to variables box1,\n",
    "box2 and box3 respectively  \n",
    "● Print dimension info for each using print_dim()  \n",
    "● Evaluate if box1 == box2, and also evaluate if box1 == box3, print True or False to the\n",
    "screen accordingly  \n",
    "● Combine box3 into box1 (i.e. box1.combine())  \n",
    "● Double the size of box2  \n",
    "● Combine box2 into box1  "
   ]
  },
  {
   "cell_type": "code",
   "execution_count": 9,
   "id": "d79684be",
   "metadata": {},
   "outputs": [],
   "source": [
    "class Box:\n",
    "    \"\"\"\n",
    "    has attributes: length, width\n",
    "    \"\"\"\n",
    "    def __new__(cls, length, width):\n",
    "        return super().__new__(cls)\n",
    "        \n",
    "    def __init__(self, length, width):\n",
    "        self.length = length\n",
    "        self.width = width\n",
    "        \n",
    "    def __eq__(self, other):\n",
    "        # implement eq on length and width\n",
    "        return (self.length == other.length) and (self.width == other.width)\n",
    "        \n",
    "    def render(self):\n",
    "        # prints a box made of asterisks of length and width dimensions\n",
    "        for row in range(self.length):\n",
    "            print(\"*\"*self.width)\n",
    "            \n",
    "    def invert(self):\n",
    "        # switches length and width which each other\n",
    "        temp_length = self.length\n",
    "        temp_width = self.width\n",
    "        self.length = temp_width\n",
    "        self.width = temp_length\n",
    "        return self.length, self.width\n",
    "    \n",
    "    def get_area(self):\n",
    "        # gets area of the box\n",
    "        self.area = self.length*self.width\n",
    "        return self.area\n",
    "    \n",
    "    def get_perimeter(self):\n",
    "        # gets the perimeter of the box\n",
    "        self.perimeter = 2*self.length + 2*self.width\n",
    "        return self.perimeter\n",
    "        \n",
    "    def double(self):\n",
    "        # doubles the size of the box  \n",
    "        self.length = 2 * self.length\n",
    "        self.width = 2 * self.width\n",
    "        return self.length, self.width\n",
    "        \n",
    "    def print_dim(self):\n",
    "        # prints length and width of box\n",
    "        return [self.length, self.width]\n",
    "    \n",
    "    def get_dim(self):\n",
    "        # returns a tuple of length, width\n",
    "        return self.length, self.width\n",
    "    \n",
    "    def combine(self, other):\n",
    "        # takes another box and combines it\n",
    "        self.length += other.length\n",
    "        self.width += other.width\n",
    "        return self.get_dim()\n",
    "    \n",
    "    def get_hypot(self):\n",
    "        return (self.length**2 + self.width**2)**0.5"
   ]
  },
  {
   "cell_type": "markdown",
   "id": "95cd18ce",
   "metadata": {},
   "source": [
    "● Instantiate 3 boxes of dimensions 5,10 , 3,4 and 5,10 and assign to variables box1, box2 and box3 respectively"
   ]
  },
  {
   "cell_type": "code",
   "execution_count": 10,
   "id": "8768d283",
   "metadata": {},
   "outputs": [],
   "source": [
    "box1 = Box(5,10)\n",
    "box2 = Box(3,4)\n",
    "box3 = Box(5,10)"
   ]
  },
  {
   "cell_type": "markdown",
   "id": "24ea315b",
   "metadata": {},
   "source": [
    "● Print dimension info for each using print_dim()"
   ]
  },
  {
   "cell_type": "code",
   "execution_count": 11,
   "id": "97c0e9a5",
   "metadata": {},
   "outputs": [
    {
     "data": {
      "text/plain": [
       "[5, 10]"
      ]
     },
     "execution_count": 11,
     "metadata": {},
     "output_type": "execute_result"
    }
   ],
   "source": [
    "box1.print_dim()"
   ]
  },
  {
   "cell_type": "code",
   "execution_count": 12,
   "id": "bd36b2e4",
   "metadata": {},
   "outputs": [
    {
     "data": {
      "text/plain": [
       "[3, 4]"
      ]
     },
     "execution_count": 12,
     "metadata": {},
     "output_type": "execute_result"
    }
   ],
   "source": [
    "box2.print_dim()"
   ]
  },
  {
   "cell_type": "code",
   "execution_count": 13,
   "id": "29a24463",
   "metadata": {},
   "outputs": [
    {
     "data": {
      "text/plain": [
       "[5, 10]"
      ]
     },
     "execution_count": 13,
     "metadata": {},
     "output_type": "execute_result"
    }
   ],
   "source": [
    "box3.print_dim()"
   ]
  },
  {
   "cell_type": "markdown",
   "id": "218b7f1e",
   "metadata": {},
   "source": [
    "● Evaluate if box1 == box2, and also evaluate if box1 == box3, print True or False to the screen accordingly"
   ]
  },
  {
   "cell_type": "code",
   "execution_count": 14,
   "id": "9acbea65",
   "metadata": {},
   "outputs": [
    {
     "name": "stdout",
     "output_type": "stream",
     "text": [
      "False\n"
     ]
    }
   ],
   "source": [
    "print(box1 == box2)"
   ]
  },
  {
   "cell_type": "code",
   "execution_count": 15,
   "id": "c4978f31",
   "metadata": {},
   "outputs": [
    {
     "name": "stdout",
     "output_type": "stream",
     "text": [
      "True\n"
     ]
    }
   ],
   "source": [
    "print(box1 == box3)"
   ]
  },
  {
   "cell_type": "markdown",
   "id": "6b103cda",
   "metadata": {},
   "source": [
    "● Combine box3 into box1 (i.e. box1.combine())"
   ]
  },
  {
   "cell_type": "code",
   "execution_count": 16,
   "id": "2ebbe41b",
   "metadata": {},
   "outputs": [
    {
     "data": {
      "text/plain": [
       "(10, 20)"
      ]
     },
     "execution_count": 16,
     "metadata": {},
     "output_type": "execute_result"
    }
   ],
   "source": [
    "box1.combine(box3)"
   ]
  },
  {
   "cell_type": "markdown",
   "id": "ba9b35f8",
   "metadata": {},
   "source": [
    "● Double the size of box2"
   ]
  },
  {
   "cell_type": "code",
   "execution_count": 17,
   "id": "87c7f426",
   "metadata": {},
   "outputs": [
    {
     "data": {
      "text/plain": [
       "(6, 8)"
      ]
     },
     "execution_count": 17,
     "metadata": {},
     "output_type": "execute_result"
    }
   ],
   "source": [
    "box2.double()"
   ]
  },
  {
   "cell_type": "markdown",
   "id": "c345c0c6",
   "metadata": {},
   "source": [
    "● Combine box2 into box1"
   ]
  },
  {
   "cell_type": "code",
   "execution_count": 18,
   "id": "d389581e",
   "metadata": {},
   "outputs": [
    {
     "data": {
      "text/plain": [
       "(16, 28)"
      ]
     },
     "execution_count": 18,
     "metadata": {},
     "output_type": "execute_result"
    }
   ],
   "source": [
    "box1.combine(box2)"
   ]
  }
 ],
 "metadata": {
  "kernelspec": {
   "display_name": "Python 3 (ipykernel)",
   "language": "python",
   "name": "python3"
  },
  "language_info": {
   "codemirror_mode": {
    "name": "ipython",
    "version": 3
   },
   "file_extension": ".py",
   "mimetype": "text/x-python",
   "name": "python",
   "nbconvert_exporter": "python",
   "pygments_lexer": "ipython3",
   "version": "3.8.12"
  }
 },
 "nbformat": 4,
 "nbformat_minor": 5
}
