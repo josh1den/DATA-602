{
 "cells": [
  {
   "cell_type": "markdown",
   "metadata": {
    "id": "view-in-github"
   },
   "source": [
    "<a href=\"https://colab.research.google.com/github/data602sps/assignments/blob/master/05_assignment.ipynb\" target=\"_parent\"><img src=\"https://colab.research.google.com/assets/colab-badge.svg\" alt=\"Open In Colab\"/></a>"
   ]
  },
  {
   "cell_type": "markdown",
   "metadata": {
    "id": "uW3w6p8rqgxu"
   },
   "source": [
    "# Introduction"
   ]
  },
  {
   "cell_type": "markdown",
   "metadata": {
    "id": "L0PnfMOFzOXz"
   },
   "source": [
    "For this assignment, I am going using tax data from the US Department of Treasury containing information about income levels by state and zip code. I've chosen this data as I am using it for my final project so I thought I would take the opportunity to explore the data as part of this assigment. The original data is located at [data.gov](https://catalog.data.gov/dataset/zip-code-data), but for this assignment, as the original dataset is too large for GitHub, I will be using a subset of the data I have prepared for [my project](https://github.com/josh1den/DATA-602/blob/main/FINAL_PROJECT/SOURCE/irs_data.csv)."
   ]
  },
  {
   "cell_type": "markdown",
   "metadata": {
    "id": "3bp8cdDxDs2t"
   },
   "source": [
    "______________\n",
    "# Data Exploration\n"
   ]
  },
  {
   "cell_type": "code",
   "execution_count": 2,
   "metadata": {
    "id": "3NUlO_ru1WqR"
   },
   "outputs": [
    {
     "data": {
      "text/html": [
       "<div>\n",
       "<style scoped>\n",
       "    .dataframe tbody tr th:only-of-type {\n",
       "        vertical-align: middle;\n",
       "    }\n",
       "\n",
       "    .dataframe tbody tr th {\n",
       "        vertical-align: top;\n",
       "    }\n",
       "\n",
       "    .dataframe thead th {\n",
       "        text-align: right;\n",
       "    }\n",
       "</style>\n",
       "<table border=\"1\" class=\"dataframe\">\n",
       "  <thead>\n",
       "    <tr style=\"text-align: right;\">\n",
       "      <th></th>\n",
       "      <th>state</th>\n",
       "      <th>zip</th>\n",
       "      <th>num_returns</th>\n",
       "      <th>num_indiv</th>\n",
       "      <th>agi</th>\n",
       "      <th>total_income</th>\n",
       "    </tr>\n",
       "  </thead>\n",
       "  <tbody>\n",
       "    <tr>\n",
       "      <th>0</th>\n",
       "      <td>AL</td>\n",
       "      <td>0</td>\n",
       "      <td>778210.0</td>\n",
       "      <td>1161150.0</td>\n",
       "      <td>10158838.0</td>\n",
       "      <td>10311099.0</td>\n",
       "    </tr>\n",
       "    <tr>\n",
       "      <th>1</th>\n",
       "      <td>AL</td>\n",
       "      <td>0</td>\n",
       "      <td>525940.0</td>\n",
       "      <td>992420.0</td>\n",
       "      <td>18974967.0</td>\n",
       "      <td>19145621.0</td>\n",
       "    </tr>\n",
       "    <tr>\n",
       "      <th>2</th>\n",
       "      <td>AL</td>\n",
       "      <td>0</td>\n",
       "      <td>285700.0</td>\n",
       "      <td>595680.0</td>\n",
       "      <td>17535801.0</td>\n",
       "      <td>17690402.0</td>\n",
       "    </tr>\n",
       "    <tr>\n",
       "      <th>3</th>\n",
       "      <td>AL</td>\n",
       "      <td>0</td>\n",
       "      <td>179070.0</td>\n",
       "      <td>432180.0</td>\n",
       "      <td>15546951.0</td>\n",
       "      <td>15670456.0</td>\n",
       "    </tr>\n",
       "    <tr>\n",
       "      <th>4</th>\n",
       "      <td>AL</td>\n",
       "      <td>0</td>\n",
       "      <td>257010.0</td>\n",
       "      <td>692450.0</td>\n",
       "      <td>34974856.0</td>\n",
       "      <td>35286228.0</td>\n",
       "    </tr>\n",
       "  </tbody>\n",
       "</table>\n",
       "</div>"
      ],
      "text/plain": [
       "  state  zip  num_returns  num_indiv         agi  total_income\n",
       "0    AL    0     778210.0  1161150.0  10158838.0    10311099.0\n",
       "1    AL    0     525940.0   992420.0  18974967.0    19145621.0\n",
       "2    AL    0     285700.0   595680.0  17535801.0    17690402.0\n",
       "3    AL    0     179070.0   432180.0  15546951.0    15670456.0\n",
       "4    AL    0     257010.0   692450.0  34974856.0    35286228.0"
      ]
     },
     "execution_count": 2,
     "metadata": {},
     "output_type": "execute_result"
    }
   ],
   "source": [
    "# import packages\n",
    "import pandas as pd\n",
    "import numpy as np\n",
    "import matplotlib.pyplot as plt\n",
    "import seaborn as sns\n",
    "\n",
    "# read in the data\n",
    "url = \"https://raw.githubusercontent.com/josh1den/DATA-602/main/FINAL_PROJECT/SOURCE/irs_data.csv\"\n",
    "df = pd.read_csv(url)\n",
    "\n",
    "# preview the dataframe\n",
    "df.head()"
   ]
  },
  {
   "cell_type": "code",
   "execution_count": 6,
   "metadata": {},
   "outputs": [
    {
     "data": {
      "text/html": [
       "<div>\n",
       "<style scoped>\n",
       "    .dataframe tbody tr th:only-of-type {\n",
       "        vertical-align: middle;\n",
       "    }\n",
       "\n",
       "    .dataframe tbody tr th {\n",
       "        vertical-align: top;\n",
       "    }\n",
       "\n",
       "    .dataframe thead th {\n",
       "        text-align: right;\n",
       "    }\n",
       "</style>\n",
       "<table border=\"1\" class=\"dataframe\">\n",
       "  <thead>\n",
       "    <tr style=\"text-align: right;\">\n",
       "      <th></th>\n",
       "      <th>zip</th>\n",
       "      <th>num_returns</th>\n",
       "      <th>num_indiv</th>\n",
       "      <th>agi</th>\n",
       "      <th>total_income</th>\n",
       "    </tr>\n",
       "  </thead>\n",
       "  <tbody>\n",
       "    <tr>\n",
       "      <th>count</th>\n",
       "      <td>166159.000000</td>\n",
       "      <td>1.661590e+05</td>\n",
       "      <td>1.661590e+05</td>\n",
       "      <td>1.661590e+05</td>\n",
       "      <td>1.661590e+05</td>\n",
       "    </tr>\n",
       "    <tr>\n",
       "      <th>mean</th>\n",
       "      <td>48859.485553</td>\n",
       "      <td>1.860508e+03</td>\n",
       "      <td>3.475644e+03</td>\n",
       "      <td>1.448890e+05</td>\n",
       "      <td>1.465601e+05</td>\n",
       "    </tr>\n",
       "    <tr>\n",
       "      <th>std</th>\n",
       "      <td>27167.679271</td>\n",
       "      <td>3.722335e+04</td>\n",
       "      <td>6.520368e+04</td>\n",
       "      <td>3.411411e+06</td>\n",
       "      <td>3.449896e+06</td>\n",
       "    </tr>\n",
       "    <tr>\n",
       "      <th>min</th>\n",
       "      <td>0.000000</td>\n",
       "      <td>0.000000e+00</td>\n",
       "      <td>0.000000e+00</td>\n",
       "      <td>0.000000e+00</td>\n",
       "      <td>0.000000e+00</td>\n",
       "    </tr>\n",
       "    <tr>\n",
       "      <th>25%</th>\n",
       "      <td>27020.000000</td>\n",
       "      <td>7.000000e+01</td>\n",
       "      <td>1.500000e+02</td>\n",
       "      <td>4.556000e+03</td>\n",
       "      <td>4.610500e+03</td>\n",
       "    </tr>\n",
       "    <tr>\n",
       "      <th>50%</th>\n",
       "      <td>48843.000000</td>\n",
       "      <td>2.600000e+02</td>\n",
       "      <td>5.300000e+02</td>\n",
       "      <td>1.697200e+04</td>\n",
       "      <td>1.717500e+04</td>\n",
       "    </tr>\n",
       "    <tr>\n",
       "      <th>75%</th>\n",
       "      <td>70652.500000</td>\n",
       "      <td>1.080000e+03</td>\n",
       "      <td>2.090000e+03</td>\n",
       "      <td>6.707800e+04</td>\n",
       "      <td>6.793600e+04</td>\n",
       "    </tr>\n",
       "    <tr>\n",
       "      <th>max</th>\n",
       "      <td>99999.000000</td>\n",
       "      <td>5.506120e+06</td>\n",
       "      <td>8.181990e+06</td>\n",
       "      <td>7.683582e+08</td>\n",
       "      <td>7.773145e+08</td>\n",
       "    </tr>\n",
       "  </tbody>\n",
       "</table>\n",
       "</div>"
      ],
      "text/plain": [
       "                 zip   num_returns     num_indiv           agi  total_income\n",
       "count  166159.000000  1.661590e+05  1.661590e+05  1.661590e+05  1.661590e+05\n",
       "mean    48859.485553  1.860508e+03  3.475644e+03  1.448890e+05  1.465601e+05\n",
       "std     27167.679271  3.722335e+04  6.520368e+04  3.411411e+06  3.449896e+06\n",
       "min         0.000000  0.000000e+00  0.000000e+00  0.000000e+00  0.000000e+00\n",
       "25%     27020.000000  7.000000e+01  1.500000e+02  4.556000e+03  4.610500e+03\n",
       "50%     48843.000000  2.600000e+02  5.300000e+02  1.697200e+04  1.717500e+04\n",
       "75%     70652.500000  1.080000e+03  2.090000e+03  6.707800e+04  6.793600e+04\n",
       "max     99999.000000  5.506120e+06  8.181990e+06  7.683582e+08  7.773145e+08"
      ]
     },
     "execution_count": 6,
     "metadata": {},
     "output_type": "execute_result"
    }
   ],
   "source": [
    "df.describe()"
   ]
  },
  {
   "cell_type": "markdown",
   "metadata": {},
   "source": [
    "Odd that there's a minimum of zero. Will take a look in wrangling. "
   ]
  },
  {
   "cell_type": "markdown",
   "metadata": {
    "id": "kCSLIafaEGVK"
   },
   "source": [
    "# Data Wrangling\n",
    "\n",
    "Perform data wrangling.  You are free to use your best judgment here.  If you are stuck, look at previous assignment."
   ]
  },
  {
   "cell_type": "code",
   "execution_count": 26,
   "metadata": {
    "id": "xEkLsm7g1UiZ"
   },
   "outputs": [
    {
     "data": {
      "text/html": [
       "<div>\n",
       "<style scoped>\n",
       "    .dataframe tbody tr th:only-of-type {\n",
       "        vertical-align: middle;\n",
       "    }\n",
       "\n",
       "    .dataframe tbody tr th {\n",
       "        vertical-align: top;\n",
       "    }\n",
       "\n",
       "    .dataframe thead th {\n",
       "        text-align: right;\n",
       "    }\n",
       "</style>\n",
       "<table border=\"1\" class=\"dataframe\">\n",
       "  <thead>\n",
       "    <tr style=\"text-align: right;\">\n",
       "      <th></th>\n",
       "      <th>state</th>\n",
       "      <th>num_returns</th>\n",
       "      <th>num_indiv</th>\n",
       "      <th>agi</th>\n",
       "      <th>total_income</th>\n",
       "    </tr>\n",
       "  </thead>\n",
       "  <tbody>\n",
       "    <tr>\n",
       "      <th>0</th>\n",
       "      <td>AK</td>\n",
       "      <td>703670.0</td>\n",
       "      <td>1297910.0</td>\n",
       "      <td>5.283171e+07</td>\n",
       "      <td>5.338728e+07</td>\n",
       "    </tr>\n",
       "    <tr>\n",
       "      <th>1</th>\n",
       "      <td>AL</td>\n",
       "      <td>4203010.0</td>\n",
       "      <td>8172800.0</td>\n",
       "      <td>2.616301e+08</td>\n",
       "      <td>2.642595e+08</td>\n",
       "    </tr>\n",
       "    <tr>\n",
       "      <th>2</th>\n",
       "      <td>AR</td>\n",
       "      <td>2532820.0</td>\n",
       "      <td>5017350.0</td>\n",
       "      <td>1.540693e+08</td>\n",
       "      <td>1.555030e+08</td>\n",
       "    </tr>\n",
       "    <tr>\n",
       "      <th>3</th>\n",
       "      <td>AZ</td>\n",
       "      <td>6467170.0</td>\n",
       "      <td>12408850.0</td>\n",
       "      <td>4.592562e+08</td>\n",
       "      <td>4.641935e+08</td>\n",
       "    </tr>\n",
       "    <tr>\n",
       "      <th>4</th>\n",
       "      <td>CA</td>\n",
       "      <td>36670260.0</td>\n",
       "      <td>70133090.0</td>\n",
       "      <td>3.358923e+09</td>\n",
       "      <td>3.399587e+09</td>\n",
       "    </tr>\n",
       "  </tbody>\n",
       "</table>\n",
       "</div>"
      ],
      "text/plain": [
       "  state  num_returns   num_indiv           agi  total_income\n",
       "0    AK     703670.0   1297910.0  5.283171e+07  5.338728e+07\n",
       "1    AL    4203010.0   8172800.0  2.616301e+08  2.642595e+08\n",
       "2    AR    2532820.0   5017350.0  1.540693e+08  1.555030e+08\n",
       "3    AZ    6467170.0  12408850.0  4.592562e+08  4.641935e+08\n",
       "4    CA   36670260.0  70133090.0  3.358923e+09  3.399587e+09"
      ]
     },
     "execution_count": 26,
     "metadata": {},
     "output_type": "execute_result"
    }
   ],
   "source": [
    "# view totals by state\n",
    "by_state = df.groupby(\"state\")[[\"num_returns\",\"num_indiv\",\"agi\",\"total_income\"]].sum().reset_index()\n",
    "by_state.head()"
   ]
  },
  {
   "cell_type": "code",
   "execution_count": 5,
   "metadata": {},
   "outputs": [
    {
     "data": {
      "text/plain": [
       "num_returns     0\n",
       "num_indiv       0\n",
       "agi             0\n",
       "total_income    0\n",
       "dtype: int64"
      ]
     },
     "execution_count": 5,
     "metadata": {},
     "output_type": "execute_result"
    }
   ],
   "source": [
    "by_state.isna().sum()"
   ]
  },
  {
   "cell_type": "code",
   "execution_count": 17,
   "metadata": {},
   "outputs": [
    {
     "data": {
      "text/html": [
       "<div>\n",
       "<style scoped>\n",
       "    .dataframe tbody tr th:only-of-type {\n",
       "        vertical-align: middle;\n",
       "    }\n",
       "\n",
       "    .dataframe tbody tr th {\n",
       "        vertical-align: top;\n",
       "    }\n",
       "\n",
       "    .dataframe thead th {\n",
       "        text-align: right;\n",
       "    }\n",
       "</style>\n",
       "<table border=\"1\" class=\"dataframe\">\n",
       "  <thead>\n",
       "    <tr style=\"text-align: right;\">\n",
       "      <th></th>\n",
       "      <th>num_returns</th>\n",
       "      <th>num_indiv</th>\n",
       "      <th>agi</th>\n",
       "      <th>total_income</th>\n",
       "    </tr>\n",
       "  </thead>\n",
       "  <tbody>\n",
       "    <tr>\n",
       "      <th>count</th>\n",
       "      <td>5.100000e+01</td>\n",
       "      <td>5.100000e+01</td>\n",
       "      <td>5.100000e+01</td>\n",
       "      <td>5.100000e+01</td>\n",
       "    </tr>\n",
       "    <tr>\n",
       "      <th>mean</th>\n",
       "      <td>6.061572e+06</td>\n",
       "      <td>1.132372e+07</td>\n",
       "      <td>4.720512e+08</td>\n",
       "      <td>4.774958e+08</td>\n",
       "    </tr>\n",
       "    <tr>\n",
       "      <th>std</th>\n",
       "      <td>6.905389e+06</td>\n",
       "      <td>1.306181e+07</td>\n",
       "      <td>5.962637e+08</td>\n",
       "      <td>6.031419e+08</td>\n",
       "    </tr>\n",
       "    <tr>\n",
       "      <th>min</th>\n",
       "      <td>5.503100e+05</td>\n",
       "      <td>1.046180e+06</td>\n",
       "      <td>4.502834e+07</td>\n",
       "      <td>4.574175e+07</td>\n",
       "    </tr>\n",
       "    <tr>\n",
       "      <th>25%</th>\n",
       "      <td>1.579265e+06</td>\n",
       "      <td>3.107425e+06</td>\n",
       "      <td>1.107480e+08</td>\n",
       "      <td>1.120052e+08</td>\n",
       "    </tr>\n",
       "    <tr>\n",
       "      <th>50%</th>\n",
       "      <td>4.020520e+06</td>\n",
       "      <td>7.426040e+06</td>\n",
       "      <td>2.616301e+08</td>\n",
       "      <td>2.642595e+08</td>\n",
       "    </tr>\n",
       "    <tr>\n",
       "      <th>75%</th>\n",
       "      <td>7.154530e+06</td>\n",
       "      <td>1.314124e+07</td>\n",
       "      <td>6.466427e+08</td>\n",
       "      <td>6.539656e+08</td>\n",
       "    </tr>\n",
       "    <tr>\n",
       "      <th>max</th>\n",
       "      <td>3.667026e+07</td>\n",
       "      <td>7.013309e+07</td>\n",
       "      <td>3.358923e+09</td>\n",
       "      <td>3.399587e+09</td>\n",
       "    </tr>\n",
       "  </tbody>\n",
       "</table>\n",
       "</div>"
      ],
      "text/plain": [
       "        num_returns     num_indiv           agi  total_income\n",
       "count  5.100000e+01  5.100000e+01  5.100000e+01  5.100000e+01\n",
       "mean   6.061572e+06  1.132372e+07  4.720512e+08  4.774958e+08\n",
       "std    6.905389e+06  1.306181e+07  5.962637e+08  6.031419e+08\n",
       "min    5.503100e+05  1.046180e+06  4.502834e+07  4.574175e+07\n",
       "25%    1.579265e+06  3.107425e+06  1.107480e+08  1.120052e+08\n",
       "50%    4.020520e+06  7.426040e+06  2.616301e+08  2.642595e+08\n",
       "75%    7.154530e+06  1.314124e+07  6.466427e+08  6.539656e+08\n",
       "max    3.667026e+07  7.013309e+07  3.358923e+09  3.399587e+09"
      ]
     },
     "execution_count": 17,
     "metadata": {},
     "output_type": "execute_result"
    }
   ],
   "source": [
    "by_state.describe()"
   ]
  },
  {
   "cell_type": "markdown",
   "metadata": {},
   "source": [
    "Grouping by state resolved the problem of zero entries by zip code."
   ]
  },
  {
   "cell_type": "markdown",
   "metadata": {
    "id": "uJdF3TMe_TXU"
   },
   "source": [
    "# Visualizations\n",
    "\n",
    "The main purpose of this assignment is to practice creating various visualizations using the matplotlib and seaborn library.\n",
    "\n",
    "### **Part 1:**\n",
    "Using matplotlib, create ***two or more plots*** that incorporate at least **5** of the following properties:\n",
    "\n",
    "Note: these properties vary based on your data.  The goal is to practice creating visualizations and modifying its properties. \n",
    "\n",
    "*   Use and change a legend position\n",
    "*   Change a legend font size\n",
    "*   Place a legend outside of the plot\n",
    "*   Create a single legend for all subplots\n",
    "*   Change the title and x/y labels\n",
    "*   Change the marker, line colors, and line width\n",
    "*   Add annotations\n",
    "*   Modify Axis Text Ticks/Labels\n",
    "*   Change size of axis Labels\n",
    "*   Your own choice not included above \n",
    "\n",
    "\n",
    "Plots that you can create **include**:\n",
    "\n",
    "*   Scatter Plot\n",
    "*   Bar plot\n",
    "*   Line Chart\n",
    "*   Multi Plots (e.g. using .subplot()\n",
    "*   Histogram\n",
    "\n",
    "You can add another plot not listed here if it works better for your data.  This is not a complete list of plots to create.\n",
    "\n",
    "### **Part 2:**\n",
    "\n",
    "Recreate the visualizations above using the Seaborn library as best as possible.  \n",
    "\n",
    "\n",
    "**You are required to explain what each of your plots is representing. Plots without comments will not be accepted.**  In addition, please explain the properties you are showcasing.\n",
    "\n",
    "\n",
    "### **Part 3:**\n",
    "In a comment or text box, explain the differences between creating a plot in matplotlib and seaborn, based on your above plots.\n",
    "\n"
   ]
  },
  {
   "cell_type": "markdown",
   "metadata": {},
   "source": [
    "## Using Matplotlib"
   ]
  },
  {
   "cell_type": "code",
   "execution_count": 16,
   "metadata": {
    "id": "4VWWvvynEiQT"
   },
   "outputs": [
    {
     "data": {
      "image/png": "[encoded data removed]",
      "text/plain": [
       "<Figure size 432x288 with 1 Axes>"
      ]
     },
     "metadata": {
      "needs_background": "light"
     },
     "output_type": "display_data"
    }
   ],
   "source": [
    "# boxplot of total distribution:\n",
    "plt.boxplot(by_state.num_indiv)\n",
    "plt.ylabel(\"total population - 10 million\")\n",
    "plt.title(\"distribution of population by state\")\n",
    "plt.show()"
   ]
  },
  {
   "cell_type": "markdown",
   "metadata": {},
   "source": [
    "We can see the median population of about 7.5 million -- with half the states between 3-13m as seen in the summary statistic, and we can see that there are four outliers among states, with populations of over 30 million, with the maximum population just over 70 million. Let's take a look at a scatterplot of population versus total income, expecting a linear relationship:"
   ]
  },
  {
   "cell_type": "code",
   "execution_count": 20,
   "metadata": {
    "id": "N9sKmrIrDbhd"
   },
   "outputs": [
    {
     "data": {
      "image/png": "[encoded data removed]",
      "text/plain": [
       "<Figure size 432x288 with 1 Axes>"
      ]
     },
     "metadata": {
      "needs_background": "light"
     },
     "output_type": "display_data"
    }
   ],
   "source": [
    "plt.scatter(by_state.num_indiv, by_state.total_income)\n",
    "plt.xlabel(\"population - 10 million\")\n",
    "plt.ylabel(\"total income - billions\")\n",
    "plt.title(\"total income by population\")\n",
    "plt.show()"
   ]
  },
  {
   "cell_type": "markdown",
   "metadata": {},
   "source": [
    "Build a linear regression model from the data and fit to plot:"
   ]
  },
  {
   "cell_type": "code",
   "execution_count": 22,
   "metadata": {},
   "outputs": [
    {
     "data": {
      "image/png": "[encoded data removed]",
      "text/plain": [
       "<Figure size 432x288 with 1 Axes>"
      ]
     },
     "metadata": {
      "needs_background": "light"
     },
     "output_type": "display_data"
    }
   ],
   "source": [
    "# convert columns to arrays\n",
    "x = np.array(by_state.num_indiv)\n",
    "y = np.array(by_state.total_income)\n",
    "# obtain slope (m) and intercept (b) of linear regression line \n",
    "m, b = np.polyfit(x, y, 1)\n",
    "# add the original plot\n",
    "plt.scatter(by_state.num_indiv, by_state.total_income)\n",
    "plt.xlabel(\"population - 10 million\")\n",
    "plt.ylabel(\"total income - billions\")\n",
    "plt.title(\"total income by population\")\n",
    "# plot the regression line on top of the plot\n",
    "plt.plot(x, m*x+b, color='red')\n",
    "plt.show();"
   ]
  },
  {
   "cell_type": "markdown",
   "metadata": {
    "id": "vFa4bNTyDbzb"
   },
   "source": [
    "We can take a look at a histogram of the income distribution by state:"
   ]
  },
  {
   "cell_type": "code",
   "execution_count": 39,
   "metadata": {},
   "outputs": [
    {
     "data": {
      "image/png": "[encoded data removed]",
      "text/plain": [
       "<Figure size 432x288 with 1 Axes>"
      ]
     },
     "metadata": {
      "needs_background": "light"
     },
     "output_type": "display_data"
    }
   ],
   "source": [
    "plt.hist(by_state.total_income)\n",
    "plt.xlabel(\"income\")\n",
    "plt.ylabel(\"count\")\n",
    "plt.show;"
   ]
  },
  {
   "cell_type": "markdown",
   "metadata": {},
   "source": [
    "We can see 30 of the states have total incomes under half a billion. Let's look at the actual incomes by state:"
   ]
  },
  {
   "cell_type": "code",
   "execution_count": 53,
   "metadata": {},
   "outputs": [
    {
     "data": {
      "image/png": "[encoded data removed]",
      "text/plain": [
       "<Figure size 864x864 with 1 Axes>"
      ]
     },
     "metadata": {
      "needs_background": "light"
     },
     "output_type": "display_data"
    }
   ],
   "source": [
    "# sort the dataframe by total income\n",
    "by_state = by_state.sort_values(by=\"total_income\")\n",
    "b"
   ]
  },
  {
   "cell_type": "markdown",
   "metadata": {},
   "source": [
    "We see the four largest total incomes belong to CA, TX, NY, and FL. What about per capita?"
   ]
  },
  {
   "cell_type": "code",
   "execution_count": 57,
   "metadata": {},
   "outputs": [
    {
     "data": {
      "text/html": [
       "<div>\n",
       "<style scoped>\n",
       "    .dataframe tbody tr th:only-of-type {\n",
       "        vertical-align: middle;\n",
       "    }\n",
       "\n",
       "    .dataframe tbody tr th {\n",
       "        vertical-align: top;\n",
       "    }\n",
       "\n",
       "    .dataframe thead th {\n",
       "        text-align: right;\n",
       "    }\n",
       "</style>\n",
       "<table border=\"1\" class=\"dataframe\">\n",
       "  <thead>\n",
       "    <tr style=\"text-align: right;\">\n",
       "      <th></th>\n",
       "      <th>state</th>\n",
       "      <th>num_returns</th>\n",
       "      <th>num_indiv</th>\n",
       "      <th>agi</th>\n",
       "      <th>total_income</th>\n",
       "      <th>income_per_capita</th>\n",
       "    </tr>\n",
       "  </thead>\n",
       "  <tbody>\n",
       "    <tr>\n",
       "      <th>25</th>\n",
       "      <td>MS</td>\n",
       "      <td>2522220.0</td>\n",
       "      <td>4969590.0</td>\n",
       "      <td>133640580.0</td>\n",
       "      <td>1.351450e+08</td>\n",
       "      <td>27.194402</td>\n",
       "    </tr>\n",
       "    <tr>\n",
       "      <th>49</th>\n",
       "      <td>WV</td>\n",
       "      <td>1541050.0</td>\n",
       "      <td>2922890.0</td>\n",
       "      <td>86229580.0</td>\n",
       "      <td>8.702533e+07</td>\n",
       "      <td>29.773728</td>\n",
       "    </tr>\n",
       "    <tr>\n",
       "      <th>2</th>\n",
       "      <td>AR</td>\n",
       "      <td>2532820.0</td>\n",
       "      <td>5017350.0</td>\n",
       "      <td>154069308.0</td>\n",
       "      <td>1.555030e+08</td>\n",
       "      <td>30.993053</td>\n",
       "    </tr>\n",
       "    <tr>\n",
       "      <th>17</th>\n",
       "      <td>KY</td>\n",
       "      <td>3874880.0</td>\n",
       "      <td>7426040.0</td>\n",
       "      <td>233525942.0</td>\n",
       "      <td>2.359119e+08</td>\n",
       "      <td>31.768197</td>\n",
       "    </tr>\n",
       "    <tr>\n",
       "      <th>32</th>\n",
       "      <td>NM</td>\n",
       "      <td>1888250.0</td>\n",
       "      <td>3542400.0</td>\n",
       "      <td>111752290.0</td>\n",
       "      <td>1.128669e+08</td>\n",
       "      <td>31.861706</td>\n",
       "    </tr>\n",
       "  </tbody>\n",
       "</table>\n",
       "</div>"
      ],
      "text/plain": [
       "   state  num_returns  num_indiv          agi  total_income  income_per_capita\n",
       "25    MS    2522220.0  4969590.0  133640580.0  1.351450e+08          27.194402\n",
       "49    WV    1541050.0  2922890.0   86229580.0  8.702533e+07          29.773728\n",
       "2     AR    2532820.0  5017350.0  154069308.0  1.555030e+08          30.993053\n",
       "17    KY    3874880.0  7426040.0  233525942.0  2.359119e+08          31.768197\n",
       "32    NM    1888250.0  3542400.0  111752290.0  1.128669e+08          31.861706"
      ]
     },
     "execution_count": 57,
     "metadata": {},
     "output_type": "execute_result"
    }
   ],
   "source": [
    "# create income_per_capita column\n",
    "by_state[\"income_per_capita\"] = by_state[\"total_income\"] / by_state[\"num_indiv\"]\n",
    "by_state = by_state.sort_values(by=\"income_per_capita\")\n",
    "by_state.head()"
   ]
  },
  {
   "cell_type": "code",
   "execution_count": 58,
   "metadata": {},
   "outputs": [
    {
     "data": {
      "image/png": "[encoded data removed]",
      "text/plain": [
       "<Figure size 864x864 with 1 Axes>"
      ]
     },
     "metadata": {
      "needs_background": "light"
     },
     "output_type": "display_data"
    }
   ],
   "source": [
    "# resize the figure so we can see the labels on the y-axis\n",
    "plt.figure(figsize=[12,12])\n",
    "# plot the barchart\n",
    "plt.barh(by_state.state, width=by_state.income_per_capita)\n",
    "plt.xlabel(\"income per capita\")\n",
    "plt.title(\"per capita income by state\")\n",
    "plt.show();"
   ]
  },
  {
   "cell_type": "markdown",
   "metadata": {},
   "source": [
    "This gives us a better idea which states are the *wealthiest* per capita -- DC, followed by MA and CT. NY and CA both appear towards the top but not to the same degree as total income. "
   ]
  },
  {
   "cell_type": "markdown",
   "metadata": {},
   "source": [
    "## Using Seaborn"
   ]
  },
  {
   "cell_type": "code",
   "execution_count": 62,
   "metadata": {},
   "outputs": [
    {
     "name": "stderr",
     "output_type": "stream",
     "text": [
      "/Users/joshiden/opt/anaconda3/lib/python3.9/site-packages/seaborn/_decorators.py:36: FutureWarning: Pass the following variable as a keyword arg: x. From version 0.12, the only valid positional argument will be `data`, and passing other arguments without an explicit keyword will result in an error or misinterpretation.\n",
      "  warnings.warn(\n"
     ]
    },
    {
     "data": {
      "image/png": "[encoded data removed]",
      "text/plain": [
       "<Figure size 432x288 with 1 Axes>"
      ]
     },
     "metadata": {
      "needs_background": "light"
     },
     "output_type": "display_data"
    }
   ],
   "source": [
    "# create a boxplot of num_indiv using seaborn\n",
    "sns.boxplot(by_state.num_indiv)\n",
    "plt.xlabel(\"total population - 10 million\")\n",
    "plt.title(\"population distribution\");"
   ]
  },
  {
   "cell_type": "markdown",
   "metadata": {},
   "source": [
    "Seaborn boxplot default is horizontal. The default includes color and omits the tick label along the variable axis. By default it is immediately more visually striking. "
   ]
  },
  {
   "cell_type": "code",
   "execution_count": 73,
   "metadata": {},
   "outputs": [
    {
     "data": {
      "image/png": "[encoded data removed]",
      "text/plain": [
       "<Figure size 432x288 with 1 Axes>"
      ]
     },
     "metadata": {
      "needs_background": "light"
     },
     "output_type": "display_data"
    }
   ],
   "source": [
    "# plot a regression in seaborn\n",
    "sns.regplot(x=\"num_indiv\", y=\"total_income\", data=by_state, line_kws={\"color\":\"red\"}, ci=None)\n",
    "plt.xlabel(\"total population - 10 million\")\n",
    "plt.ylabel(\"total income - billions\")\n",
    "plt.title(\"total income by population\");"
   ]
  },
  {
   "cell_type": "markdown",
   "metadata": {},
   "source": [
    "Seaborn can calculate and plot a regression in a single line of code. The default call to regplot includes a confidence interval for the regression. Passing None in to the ci argument removes this confidence interval. The default regression line in seaborn is blue -- passing a dictionary containing a key-value pair for color into the line_kws argument will set the color for the regression line. "
   ]
  },
  {
   "cell_type": "code",
   "execution_count": 77,
   "metadata": {},
   "outputs": [
    {
     "data": {
      "image/png": "[encoded data removed]",
      "text/plain": [
       "<Figure size 432x288 with 1 Axes>"
      ]
     },
     "metadata": {
      "needs_background": "light"
     },
     "output_type": "display_data"
    }
   ],
   "source": [
    "# plot a histogram\n",
    "sns.histplot(x=\"total_income\", data=by_state)\n",
    "plt.xlabel(\"total income\");"
   ]
  },
  {
   "cell_type": "markdown",
   "metadata": {},
   "source": [
    "Again, seaborn adds some default characteristics that makes the visualization more eye-catching: count is automatically added to the y-axis, binning is more intuitive, and bars automatically have borders. "
   ]
  },
  {
   "cell_type": "code",
   "execution_count": 82,
   "metadata": {},
   "outputs": [
    {
     "data": {
      "image/png": "[encoded data removed]",
      "text/plain": [
       "<Figure size 864x720 with 1 Axes>"
      ]
     },
     "metadata": {
      "needs_background": "light"
     },
     "output_type": "display_data"
    }
   ],
   "source": [
    "# barplot in seaborn\n",
    "# sort values by total_income\n",
    "by_state = by_state.sort_values(by=\"total_income\", ascending=False)\n",
    "# set the figure size\n",
    "plt.figure(figsize=[12,10])\n",
    "sns.barplot(x=\"total_income\", y=\"state\", data=by_state)\n",
    "plt.title(\"total income by state\")\n",
    "plt.ylabel(\"\")\n",
    "plt.xlabel(\"total income\");"
   ]
  },
  {
   "cell_type": "markdown",
   "metadata": {},
   "source": [
    "Seaborn by default adds color to the barplot, and you can also see that the top and bottom margins are better formatted to reduce whitespace."
   ]
  },
  {
   "cell_type": "markdown",
   "metadata": {
    "id": "tujjevRpXEen"
   },
   "source": [
    "# Conclusions  \n",
    "\n",
    "Seaborn functions produce default graphics which improve upon matplotlib, and offer optional arguments to further customize visualizations. However, matplotlib in conjunction with seaborn offers the greatest functionality to produce striking, informative graphics. "
   ]
  }
 ],
 "metadata": {
  "colab": {
   "provenance": []
  },
  "kernelspec": {
   "display_name": "Python 3 (ipykernel)",
   "language": "python",
   "name": "python3"
  },
  "language_info": {
   "codemirror_mode": {
    "name": "ipython",
    "version": 3
   },
   "file_extension": ".py",
   "mimetype": "text/x-python",
   "name": "python",
   "nbconvert_exporter": "python",
   "pygments_lexer": "ipython3",
   "version": "3.9.12"
  }
 },
 "nbformat": 4,
 "nbformat_minor": 1
}
