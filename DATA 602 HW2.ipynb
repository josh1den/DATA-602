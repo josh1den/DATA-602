{
 "cells": [
  {
   "cell_type": "markdown",
   "id": "dab40613",
   "metadata": {},
   "source": [
    "Q1. What will the following code display?  \n",
    "\n",
    "numbers = [1, 2, 3, 4, 5]  \n",
    "\n",
    "print(numbers[1:-5])  \n",
    "\n",
    "Can you debug and fix the output? The code should return the entire list"
   ]
  },
  {
   "cell_type": "markdown",
   "id": "959dcbcf",
   "metadata": {},
   "source": [
    "Answer: the output will display an empty list"
   ]
  },
  {
   "cell_type": "code",
   "execution_count": 2,
   "id": "bf966a23",
   "metadata": {},
   "outputs": [
    {
     "name": "stdout",
     "output_type": "stream",
     "text": [
      "[1, 2, 3, 4, 5]\n"
     ]
    }
   ],
   "source": [
    "### three ways to return the entire list:\n",
    "numbers = [1, 2, 3, 4, 5]\n",
    "\n",
    "print(numbers)"
   ]
  },
  {
   "cell_type": "code",
   "execution_count": 3,
   "id": "0281846f",
   "metadata": {},
   "outputs": [
    {
     "name": "stdout",
     "output_type": "stream",
     "text": [
      "[1, 2, 3, 4, 5]\n"
     ]
    }
   ],
   "source": [
    "print(numbers[:])"
   ]
  },
  {
   "cell_type": "code",
   "execution_count": 8,
   "id": "2d04a842",
   "metadata": {},
   "outputs": [
    {
     "name": "stdout",
     "output_type": "stream",
     "text": [
      "[1, 2, 3, 4, 5]\n"
     ]
    }
   ],
   "source": [
    "print(numbers[0:5])"
   ]
  },
  {
   "cell_type": "markdown",
   "id": "795abb08",
   "metadata": {},
   "source": [
    "Q2. Design a program that asks the user to enter a store’s sales for each day of the\n",
    "week. The amounts should be stored in a list. Use a loop to calculate the total sales for\n",
    "the week and display the result."
   ]
  },
  {
   "cell_type": "code",
   "execution_count": 20,
   "id": "42e1d45a",
   "metadata": {},
   "outputs": [
    {
     "name": "stdout",
     "output_type": "stream",
     "text": [
      "Please enter Monday's sales total: 100\n",
      "Please enter Tuesday's sales total: 100\n",
      "Please enter Wednesday's sales total: 100\n",
      "Please enter Thursday's sales total: 100\n",
      "Please enter Friday's sales total: 100\n",
      "Please enter Saturday's sales total: 100\n",
      "Please enter Sunday's sales total: 100\n",
      "[100, 100, 100, 100, 100, 100, 100]\n",
      "Total sales: $700\n"
     ]
    }
   ],
   "source": [
    "# initialize empty list: weekly_sales\n",
    "weekly_sales = []\n",
    "# initialize sales total: total_sales\n",
    "total_sales = 0\n",
    "\n",
    "# create a list of days of the week: days_of_the_week\n",
    "days_of_the_week = ['Monday','Tuesday','Wednesday','Thursday','Friday','Saturday','Sunday']\n",
    "\n",
    "# iterate through days of the week, taking an input, and adding it to the sales list\n",
    "\n",
    "for day in days_of_the_week:\n",
    "    daily_sales = int(input(\"Please enter {}'s sales total: \".format(day)))\n",
    "    weekly_sales.append(daily_sales)\n",
    "    total_sales += daily_sales\n",
    "    \n",
    "print(weekly_sales)\n",
    "print(\"Total sales: ${}\".format(total_sales))"
   ]
  },
  {
   "cell_type": "code",
   "execution_count": 21,
   "id": "19973f85",
   "metadata": {},
   "outputs": [
    {
     "name": "stdout",
     "output_type": "stream",
     "text": [
      "Total sales: $700\n"
     ]
    }
   ],
   "source": [
    "# To iterate through the weekly sales list in order to calculate the total sales:\n",
    "# initialize total sales variable\n",
    "total = 0\n",
    "\n",
    "for daily_sales in weekly_sales:\n",
    "    total += daily_sales\n",
    "    \n",
    "print(\"Total sales: ${}\".format(total))"
   ]
  },
  {
   "cell_type": "markdown",
   "id": "c16b19ea",
   "metadata": {},
   "source": [
    "Q3. Create a list with at least 5 places you’d like to travel to. Make sure the list isn’t in alphabetical order  \n",
    "\n",
    "● Print your list in its original order.  \n",
    "\n",
    "● Use the sort() function to arrange your list in order and reprint your list.  \n",
    "\n",
    "● Use the sort(reverse=True) and reprint your list."
   ]
  },
  {
   "cell_type": "code",
   "execution_count": 22,
   "id": "83ad40b3",
   "metadata": {},
   "outputs": [
    {
     "name": "stdout",
     "output_type": "stream",
     "text": [
      "['Egypt', 'Iceland', 'Antarctica', 'Japan', 'India']\n"
     ]
    }
   ],
   "source": [
    "# create list of places: places\n",
    "places = ['Egypt','Iceland','Antarctica','Japan','India']\n",
    "\n",
    "# print list\n",
    "print(places)"
   ]
  },
  {
   "cell_type": "code",
   "execution_count": 28,
   "id": "5bc8d246",
   "metadata": {},
   "outputs": [
    {
     "name": "stdout",
     "output_type": "stream",
     "text": [
      "['Antarctica', 'Egypt', 'Iceland', 'India', 'Japan']\n"
     ]
    }
   ],
   "source": [
    "# sort and print list\n",
    "places.sort()\n",
    "print(places)"
   ]
  },
  {
   "cell_type": "code",
   "execution_count": 29,
   "id": "5c5a4372",
   "metadata": {},
   "outputs": [
    {
     "name": "stdout",
     "output_type": "stream",
     "text": [
      "['Japan', 'India', 'Iceland', 'Egypt', 'Antarctica']\n"
     ]
    }
   ],
   "source": [
    "# sort list using reverse=True and reprint the list\n",
    "places.sort(reverse=True)\n",
    "print(places)"
   ]
  },
  {
   "cell_type": "markdown",
   "id": "c94b2fd1",
   "metadata": {},
   "source": [
    "Q4. Write a program that creates a dictionary containing course numbers and the room\n",
    "numbers of the rooms where the courses meet. The program should also create a\n",
    "dictionary containing course numbers and the names of the instructors that teach each\n",
    "course. After that, the program should let the user enter a course number, then it should\n",
    "display the course’s room number, instructor, and meeting time."
   ]
  },
  {
   "cell_type": "code",
   "execution_count": 61,
   "id": "e244b984",
   "metadata": {},
   "outputs": [
    {
     "name": "stdout",
     "output_type": "stream",
     "text": [
      "Please enter a course number: 602\n",
      "Room: A\n",
      "Instructor: Johnson\n",
      "Meeting Time: 1800\n"
     ]
    }
   ],
   "source": [
    "# create a dictionary: courses\n",
    "courses = {\n",
    "    602: {\n",
    "        \"Room\":\"A\",\n",
    "        \"Instructor\":\"Johnson\",\n",
    "        \"Meeting Time\":1800\n",
    "    },\n",
    "    605: {\n",
    "        \"Room\":\"B\",\n",
    "        \"Instructor\":\"Wilson\",\n",
    "        \"Meeting Time\":1900\n",
    "    },\n",
    "    606: {\n",
    "        \"Room\":\"C\",\n",
    "        \"Instructor\":\"Davis\",\n",
    "        \"Meeting Time\":2100\n",
    "    },\n",
    "    607:{\n",
    "        \"Room\":\"D\",\n",
    "        \"Instructor\":\"Taylor\",\n",
    "        \"Meeting Time\":2000\n",
    "    }\n",
    "}\n",
    "\n",
    "# prompt the user\n",
    "course = int(input(\"Please enter a course number: \"))\n",
    "# store the reference criteria\n",
    "room, instructor, meeting_time = courses[course][\"Room\"], courses[course][\"Instructor\"], courses[course][\"Meeting Time\"]\n",
    "# print the course information\n",
    "print(\"Room: {}\\nInstructor: {}\\nMeeting Time: {}\".format(room, instructor, meeting_time))"
   ]
  },
  {
   "cell_type": "markdown",
   "id": "74c4190b",
   "metadata": {},
   "source": [
    "Q5. Write a program that keeps names and email addresses in a dictionary as key-value pairs. The program should then demonstrate the four options:  \n",
    "\n",
    "● look up a person’s email address,  \n",
    "● add a new name and email address,  \n",
    "● change an existing email address, and  \n",
    "● delete an existing name and email address."
   ]
  },
  {
   "cell_type": "code",
   "execution_count": 73,
   "id": "0014ab33",
   "metadata": {},
   "outputs": [
    {
     "name": "stdout",
     "output_type": "stream",
     "text": [
      "josh@gmail.com\n",
      "{'josh': 'josh@gmail.com', 'avery': 'avery@gmail.com'}\n",
      "{'josh': 'j@gmail.com', 'avery': 'avery@gmail.com'}\n",
      "{'avery': 'avery@gmail.com'}\n"
     ]
    }
   ],
   "source": [
    "# create name/email dictionary\n",
    "ned = {'josh':'josh@gmail.com'}\n",
    "\n",
    "# look up a person's email\n",
    "print(ned['josh'])\n",
    "\n",
    "# add a new name and email\n",
    "new_name = 'avery'\n",
    "new_email = 'avery@gmail.com'\n",
    "ned[new_name] = new_email\n",
    "print(ned)\n",
    "\n",
    "# change an existing email address\n",
    "ned['josh'] = 'j@gmail.com'\n",
    "print(ned)\n",
    "\n",
    "# delete an existing email address\n",
    "del(ned['josh'])\n",
    "print(ned)"
   ]
  },
  {
   "cell_type": "code",
   "execution_count": 85,
   "id": "a4d4a702",
   "metadata": {},
   "outputs": [],
   "source": [
    "# create a function that takes provides a menu of options, takes inputs, and performs the desired tasks\n",
    "def ned_lookup():\n",
    "    menu = \"1. Look up an email\\n2. Add a new name and email address\\n3. Change an existing email address\\n4. Delete an existing name and email address\\n\"\n",
    "    options = [1,2,3,4]\n",
    "    option = int(input(\"Please select an option number:\\n{}\".format(menu)))\n",
    "    if option not in options:\n",
    "        print(\"Not a valid entry\")\n",
    "        pass\n",
    "    else:\n",
    "        if option == 1:\n",
    "            name = input(\"Please enter a name: \")\n",
    "            print(\"{}'s email is {}\".format(name,ned[name]))\n",
    "        elif option == 2:\n",
    "            name = input(\"Please enter a name: \")\n",
    "            email = input(\"Please enter an email address\")\n",
    "            ned[name] = email\n",
    "            print(ned[name], \"added to dictionary!\")\n",
    "        elif option == 3:\n",
    "            name = input(\"Please enter a name: \")\n",
    "            new_email = input(\"Enter updated email address: \")\n",
    "            ned[name] = new_email\n",
    "            print(\"{}'s email has been updated to {}\".format(name,new_email))\n",
    "        else:\n",
    "            name = input(\"Please enter a name to delete: \")\n",
    "            del(ned[name])\n",
    "            print(name, \"has been deleted\")\n",
    "            "
   ]
  },
  {
   "cell_type": "code",
   "execution_count": 87,
   "id": "b904efd3",
   "metadata": {},
   "outputs": [
    {
     "name": "stdout",
     "output_type": "stream",
     "text": [
      "Please select an option number:\n",
      "1. Look up an email\n",
      "2. Add a new name and email address\n",
      "3. Change an existing email address\n",
      "4. Delete an existing name and email address\n",
      "2\n",
      "Please enter a name: Jason\n",
      "Please enter an email addressjason@jason.com\n",
      "jason@jason.com added to dictionary!\n"
     ]
    }
   ],
   "source": [
    "ned_lookup()"
   ]
  }
 ],
 "metadata": {
  "kernelspec": {
   "display_name": "Python 3 (ipykernel)",
   "language": "python",
   "name": "python3"
  },
  "language_info": {
   "codemirror_mode": {
    "name": "ipython",
    "version": 3
   },
   "file_extension": ".py",
   "mimetype": "text/x-python",
   "name": "python",
   "nbconvert_exporter": "python",
   "pygments_lexer": "ipython3",
   "version": "3.8.12"
  }
 },
 "nbformat": 4,
 "nbformat_minor": 5
}
