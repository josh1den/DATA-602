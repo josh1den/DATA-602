{
 "cells": [
  {
   "cell_type": "markdown",
   "id": "d497b87b",
   "metadata": {},
   "source": [
    "### Q1: Write a program that prompts the user for a meal: breakfast, lunch, or dinner. Then using if statements and else statements print the user a message recommending a meal. For example, if the meal was breakfast, you could say something like, “How about some bacon and eggs?”. The user may enter something else in, but you only have to respond to breakfast, lunch, or dinner."
   ]
  },
  {
   "cell_type": "code",
   "execution_count": 1,
   "id": "0a80b6bb",
   "metadata": {},
   "outputs": [
    {
     "name": "stdout",
     "output_type": "stream",
     "text": [
      "Breakfast, lunch, or dinner?breakfast\n",
      "How about some bacon and eggs?\n"
     ]
    }
   ],
   "source": [
    "def meal():\n",
    "    \"\"\"prompts the user to enter breakfast, lunch, or dinner, and responds\"\"\"\n",
    "    meal = input(\"Breakfast, lunch, or dinner?\").lower()\n",
    "    if meal == \"breakfast\":\n",
    "        print(\"How about some bacon and eggs?\")\n",
    "    elif meal == \"lunch\":\n",
    "        print(\"How about a turkey sandwich?\")\n",
    "    elif meal == \"dinner\":\n",
    "        print(\"How about some chicken soup?\")\n",
    "    else:\n",
    "        print(\"I guess not!\")\n",
    "        \n",
    "meal()"
   ]
  },
  {
   "cell_type": "markdown",
   "id": "40f13353",
   "metadata": {},
   "source": [
    "### Q2: The mailroom has asked you to design a simple payroll program that calculates a student employee’s gross pay, including any overtime wages. If any employee works over 20 hours in a week, the mailroom pays them 1.5 times their regular hourly pay rate for all hours over 20. You should take in the user’s input for the number of hours worked, and their rate of pay."
   ]
  },
  {
   "cell_type": "code",
   "execution_count": 2,
   "id": "4ac81d3e",
   "metadata": {},
   "outputs": [
    {
     "name": "stdout",
     "output_type": "stream",
     "text": [
      "Please enter employee's pay rate: 15\n",
      "Please enter weekly hours worked: 30\n",
      "Total pay: $525.0\n"
     ]
    }
   ],
   "source": [
    "def payroll():\n",
    "    \"\"\"prompts the user for two arguments, rate of pay and hours worked, \n",
    "    and calculates the gross pay including overtime\"\"\"\n",
    "    rate = float(input(\"Please enter employee's pay rate: \"))\n",
    "    hours = float(input(\"Please enter weekly hours worked: \"))\n",
    "    ot_pay = 1.5*rate # overtime rate\n",
    "    if hours > 20: # conditional for overtime pay\n",
    "        base = 20\n",
    "        overtime = hours - base\n",
    "        gross_pay = base*rate + overtime*ot_pay\n",
    "        print(\"Total pay: ${}\".format(gross_pay))\n",
    "    else:\n",
    "        print(\"Total pay: ${}\".format(rate*hours))\n",
    "        \n",
    "payroll()\n",
    "    \n",
    "    "
   ]
  },
  {
   "cell_type": "markdown",
   "id": "2e75b76c",
   "metadata": {},
   "source": [
    "### Q3: Write a function named times_ten. The function should accept an argument and display the product of its argument multiplied times 10."
   ]
  },
  {
   "cell_type": "code",
   "execution_count": 3,
   "id": "324d17fc",
   "metadata": {},
   "outputs": [
    {
     "name": "stdout",
     "output_type": "stream",
     "text": [
      "100\n"
     ]
    }
   ],
   "source": [
    "def times_ten(x):\n",
    "    print(x * 10)\n",
    "    \n",
    "times_ten(10)"
   ]
  },
  {
   "cell_type": "markdown",
   "id": "490e6991",
   "metadata": {},
   "source": [
    "### Q4: Find the errors, debug the program, and then execute to show the output."
   ]
  },
  {
   "cell_type": "code",
   "execution_count": 4,
   "id": "5b45b45f",
   "metadata": {},
   "outputs": [
    {
     "ename": "SyntaxError",
     "evalue": "invalid syntax (3830841656.py, line 3)",
     "output_type": "error",
     "traceback": [
      "\u001b[0;36m  File \u001b[0;32m\"/var/folders/82/s2jpfjnx23x79yzgnlx3kx_h0000gp/T/ipykernel_1049/3830841656.py\"\u001b[0;36m, line \u001b[0;32m3\u001b[0m\n\u001b[0;31m    def main()\u001b[0m\n\u001b[0m              ^\u001b[0m\n\u001b[0;31mSyntaxError\u001b[0m\u001b[0;31m:\u001b[0m invalid syntax\n"
     ]
    }
   ],
   "source": [
    "### sample code\n",
    "\n",
    "def main()\n",
    "      Calories1 = input( \"How many calories are in the first food?\")\n",
    "      Calories2 = input( \"How many calories are in the first food?\")\n",
    "      showCalories(calories1, calories2)\n",
    "\n",
    "def showCalories()   \n",
    "   print(“The total calories you ate today”, format(calories1 + calories2,.2f))"
   ]
  },
  {
   "cell_type": "code",
   "execution_count": 5,
   "id": "1b178f78",
   "metadata": {},
   "outputs": [
    {
     "name": "stdout",
     "output_type": "stream",
     "text": [
      "How many calories are in the first food? 100\n",
      "How many calories are in the second food? 200\n",
      "The total calories you ate today: 300.0\n"
     ]
    }
   ],
   "source": [
    "### debugging the code\n",
    "\n",
    "def main(): ## adding colon\n",
    "    calories1 = float(input(\"How many calories are in the first food? \")) ## setting variable to lower case and removing whitespace within the print call, setting input type to float\n",
    "    calories2 = float(input(\"How many calories are in the second food? \")) ## replacing \"first food\" with \"second food\", setting input type to float\n",
    "    showCalories(calories1, calories2)\n",
    "    \n",
    "def showCalories(c1, c2): ## adding colon, inputs\n",
    "    print(\"The total calories you ate today: {}\".format(c1+c2)) # fixing f-string\n",
    "    \n",
    "main()"
   ]
  },
  {
   "cell_type": "markdown",
   "id": "3560d7e6",
   "metadata": {},
   "source": [
    "### #Q5: Write a program that uses any loop (while or for) that calculates the total of the following series of numbers:\n",
    "         #1/30 + 2/29 + 3/28 ............. + 30/1"
   ]
  },
  {
   "cell_type": "code",
   "execution_count": 6,
   "id": "d3d0184a",
   "metadata": {},
   "outputs": [
    {
     "name": "stdout",
     "output_type": "stream",
     "text": [
      "218572480850557/2329089562800\n"
     ]
    }
   ],
   "source": [
    "from fractions import Fraction\n",
    "\n",
    "numerator = 0\n",
    "denominator = 31\n",
    "sum = Fraction(numerator, denominator)\n",
    "\n",
    "while numerator < 30:\n",
    "  numerator += 1\n",
    "  denominator -= 1\n",
    "  sum+=Fraction(numerator,denominator)\n",
    "\n",
    "print(sum)"
   ]
  },
  {
   "cell_type": "markdown",
   "id": "cf1c3ceb",
   "metadata": {},
   "source": [
    "### Q6: Write a function that computes the area of a triangle given its base and height.\n",
    "The formula for an area of a triangle is:\n",
    "AREA = 1/2 * BASE * HEIGHT\n",
    "\n",
    "For example, if the base was 5 and the height was 4, the area would be 10.\n",
    "triangle_area(5, 4)   # should print 10"
   ]
  },
  {
   "cell_type": "code",
   "execution_count": 7,
   "id": "040f48e3",
   "metadata": {},
   "outputs": [
    {
     "name": "stdout",
     "output_type": "stream",
     "text": [
      "10.0\n"
     ]
    }
   ],
   "source": [
    "def area(base, height):\n",
    "    \"\"\"takes two arguments, base and height of a triangle, and prints the area\"\"\"\n",
    "    print(base*height/2)\n",
    "    \n",
    "area(5,4)"
   ]
  }
 ],
 "metadata": {
  "kernelspec": {
   "display_name": "Python 3 (ipykernel)",
   "language": "python",
   "name": "python3"
  },
  "language_info": {
   "codemirror_mode": {
    "name": "ipython",
    "version": 3
   },
   "file_extension": ".py",
   "mimetype": "text/x-python",
   "name": "python",
   "nbconvert_exporter": "python",
   "pygments_lexer": "ipython3",
   "version": "3.8.12"
  }
 },
 "nbformat": 4,
 "nbformat_minor": 5
}
