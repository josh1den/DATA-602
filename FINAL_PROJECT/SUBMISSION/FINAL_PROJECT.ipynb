{
 "cells": [
  {
   "cell_type": "markdown",
   "id": "7d922eee",
   "metadata": {
    "slideshow": {
     "slide_type": "slide"
    }
   },
   "source": [
    "<h1><center>DATA 602 FINAL PROJECT</center></h1>  \n",
    "<h2><center>Josh Iden</center></h2>  "
   ]
  },
  {
   "cell_type": "markdown",
   "id": "c6805d18",
   "metadata": {
    "slideshow": {
     "slide_type": "slide"
    }
   },
   "source": [
    "# INCOME VS. COVID RATES "
   ]
  },
  {
   "cell_type": "markdown",
   "id": "51ea76b4",
   "metadata": {
    "slideshow": {
     "slide_type": "notes"
    }
   },
   "source": [
    "### ABSTRACT\n",
    "\n",
    "This analysis asks the question: does relationship between Covid rates in the US (cases, hospitalizations, and death) and income by state meet the conditions for simple linear regression, using three data sets obtained from the CDC and US Dept. of Treasury, with the null hypothesis that the relationship between rates and income by state doesn't satisfy these conditions, and the alternative hypothesis that that it does. The relationship between covid rates and income has relevance across industries, as understanding how to model Covid susceptibility is important for future risk assessment and public health contingency planning."
   ]
  },
  {
   "cell_type": "markdown",
   "id": "2de6816b",
   "metadata": {
    "slideshow": {
     "slide_type": "slide"
    }
   },
   "source": [
    "# THE DATA"
   ]
  },
  {
   "cell_type": "markdown",
   "id": "853afa88",
   "metadata": {
    "slideshow": {
     "slide_type": "subslide"
    }
   },
   "source": [
    "### THE DATA\n",
    "\n",
    "- IRS Data by Zip Code - 2019 (source: [US Dept of Treasury]('https://catalog.data.gov/dataset/zip-code-data'))\n",
    "- Provisional COVID-19 Death Counts in the United States by County (source: [CDC]('https://data.cdc.gov/NCHS/Provisional-COVID-19-Death-Counts-in-the-United-St/kn79-hsxy'))\n",
    "- United States COVID-19 Community Levels by County (source: [CDC]('https://data.cdc.gov/Public-Health-Surveillance/United-States-COVID-19-Community-Levels-by-County/3nnm-4jni'))"
   ]
  },
  {
   "cell_type": "markdown",
   "id": "1c145144",
   "metadata": {
    "slideshow": {
     "slide_type": "notes"
    }
   },
   "source": [
    "### THE DATA  \n",
    "\n",
    "Three datasets were acquired for this analysis. \n",
    "\n",
    "- 2019 IRS Tax Data from the US Department of Treasury  \n",
    "- Provisional Covid-19 Death Counts in the US by County from the CDC\n",
    "- Community Covid-19 levels by County from the CDC"
   ]
  },
  {
   "cell_type": "code",
   "execution_count": 1,
   "id": "3cfb3a6c",
   "metadata": {
    "slideshow": {
     "slide_type": "skip"
    }
   },
   "outputs": [],
   "source": [
    "import pandas as pd\n",
    "import numpy as np\n",
    "import seaborn as sns\n",
    "import matplotlib.pyplot as plt\n",
    "import statsmodels.api as sm"
   ]
  },
  {
   "cell_type": "markdown",
   "id": "862b2ae8",
   "metadata": {
    "slideshow": {
     "slide_type": "subslide"
    }
   },
   "source": [
    "### PACKAGES  \n",
    "\n",
    "* Pandas  \n",
    "* NumPy  \n",
    "* Matplotlib  \n",
    "* Seaborn \n",
    "* Statsmodels  "
   ]
  },
  {
   "cell_type": "markdown",
   "id": "ea95c540",
   "metadata": {
    "slideshow": {
     "slide_type": "notes"
    }
   },
   "source": [
    "We'll be using the pypthon packages pandas for dataframes, numpy for mathematical functions, matplotlib and seaborn for visualization, and statsmodels for statistical analysis."
   ]
  },
  {
   "cell_type": "markdown",
   "id": "f55b7552",
   "metadata": {
    "slideshow": {
     "slide_type": "notes"
    }
   },
   "source": [
    "First we read in the CDC provisional data."
   ]
  },
  {
   "cell_type": "markdown",
   "id": "243bfa8f",
   "metadata": {
    "slideshow": {
     "slide_type": "subslide"
    }
   },
   "source": [
    "### CDC PROVISIONAL DATA"
   ]
  },
  {
   "cell_type": "code",
   "execution_count": 2,
   "id": "ee121ffd",
   "metadata": {
    "slideshow": {
     "slide_type": "subslide"
    }
   },
   "outputs": [
    {
     "data": {
      "text/html": [
       "<div>\n",
       "<style scoped>\n",
       "    .dataframe tbody tr th:only-of-type {\n",
       "        vertical-align: middle;\n",
       "    }\n",
       "\n",
       "    .dataframe tbody tr th {\n",
       "        vertical-align: top;\n",
       "    }\n",
       "\n",
       "    .dataframe thead th {\n",
       "        text-align: right;\n",
       "    }\n",
       "</style>\n",
       "<table border=\"1\" class=\"dataframe\">\n",
       "  <thead>\n",
       "    <tr style=\"text-align: right;\">\n",
       "      <th></th>\n",
       "      <th>Date as of</th>\n",
       "      <th>Start Date</th>\n",
       "      <th>End Date</th>\n",
       "      <th>State</th>\n",
       "      <th>County name</th>\n",
       "      <th>FIPS County Code</th>\n",
       "      <th>Urban Rural Code</th>\n",
       "      <th>Deaths involving COVID-19</th>\n",
       "      <th>Deaths from All Causes</th>\n",
       "      <th>Footnote</th>\n",
       "    </tr>\n",
       "  </thead>\n",
       "  <tbody>\n",
       "    <tr>\n",
       "      <th>0</th>\n",
       "      <td>10/19/2022</td>\n",
       "      <td>01/01/2020</td>\n",
       "      <td>10/15/2022</td>\n",
       "      <td>AK</td>\n",
       "      <td>Aleutians East Borough</td>\n",
       "      <td>2013</td>\n",
       "      <td>Noncore</td>\n",
       "      <td>NaN</td>\n",
       "      <td>22.0</td>\n",
       "      <td>One or more data cells have counts between 1-9...</td>\n",
       "    </tr>\n",
       "    <tr>\n",
       "      <th>1</th>\n",
       "      <td>10/19/2022</td>\n",
       "      <td>01/01/2020</td>\n",
       "      <td>10/15/2022</td>\n",
       "      <td>AK</td>\n",
       "      <td>Anchorage Municipality</td>\n",
       "      <td>2020</td>\n",
       "      <td>Medium metro</td>\n",
       "      <td>734.0</td>\n",
       "      <td>7081.0</td>\n",
       "      <td>NaN</td>\n",
       "    </tr>\n",
       "    <tr>\n",
       "      <th>2</th>\n",
       "      <td>10/19/2022</td>\n",
       "      <td>01/01/2020</td>\n",
       "      <td>10/15/2022</td>\n",
       "      <td>AK</td>\n",
       "      <td>Bethel Census Area</td>\n",
       "      <td>2050</td>\n",
       "      <td>Noncore</td>\n",
       "      <td>39.0</td>\n",
       "      <td>317.0</td>\n",
       "      <td>NaN</td>\n",
       "    </tr>\n",
       "    <tr>\n",
       "      <th>3</th>\n",
       "      <td>10/19/2022</td>\n",
       "      <td>01/01/2020</td>\n",
       "      <td>10/15/2022</td>\n",
       "      <td>AK</td>\n",
       "      <td>Denali Borough</td>\n",
       "      <td>2068</td>\n",
       "      <td>Noncore</td>\n",
       "      <td>NaN</td>\n",
       "      <td>24.0</td>\n",
       "      <td>One or more data cells have counts between 1-9...</td>\n",
       "    </tr>\n",
       "    <tr>\n",
       "      <th>4</th>\n",
       "      <td>10/19/2022</td>\n",
       "      <td>01/01/2020</td>\n",
       "      <td>10/15/2022</td>\n",
       "      <td>AK</td>\n",
       "      <td>Dillingham Census Area</td>\n",
       "      <td>2070</td>\n",
       "      <td>Noncore</td>\n",
       "      <td>NaN</td>\n",
       "      <td>96.0</td>\n",
       "      <td>One or more data cells have counts between 1-9...</td>\n",
       "    </tr>\n",
       "  </tbody>\n",
       "</table>\n",
       "</div>"
      ],
      "text/plain": [
       "   Date as of  Start Date    End Date State             County name  \\\n",
       "0  10/19/2022  01/01/2020  10/15/2022    AK  Aleutians East Borough   \n",
       "1  10/19/2022  01/01/2020  10/15/2022    AK  Anchorage Municipality   \n",
       "2  10/19/2022  01/01/2020  10/15/2022    AK      Bethel Census Area   \n",
       "3  10/19/2022  01/01/2020  10/15/2022    AK          Denali Borough   \n",
       "4  10/19/2022  01/01/2020  10/15/2022    AK  Dillingham Census Area   \n",
       "\n",
       "   FIPS County Code Urban Rural Code  Deaths involving COVID-19  \\\n",
       "0              2013          Noncore                        NaN   \n",
       "1              2020     Medium metro                      734.0   \n",
       "2              2050          Noncore                       39.0   \n",
       "3              2068          Noncore                        NaN   \n",
       "4              2070          Noncore                        NaN   \n",
       "\n",
       "   Deaths from All Causes                                           Footnote  \n",
       "0                    22.0  One or more data cells have counts between 1-9...  \n",
       "1                  7081.0                                                NaN  \n",
       "2                   317.0                                                NaN  \n",
       "3                    24.0  One or more data cells have counts between 1-9...  \n",
       "4                    96.0  One or more data cells have counts between 1-9...  "
      ]
     },
     "execution_count": 2,
     "metadata": {},
     "output_type": "execute_result"
    }
   ],
   "source": [
    "# load the provisional county data\n",
    "pro_file = 'https://raw.githubusercontent.com/josh1den/DATA-602/main/FINAL_PROJECT/SOURCE/Provisional_COVID-19_Death_Counts_in_the_United_States_by_County.csv'\n",
    "pro_df = pd.read_csv(pro_file)\n",
    "pro_df.head()"
   ]
  },
  {
   "cell_type": "code",
   "execution_count": 3,
   "id": "c528b047",
   "metadata": {
    "slideshow": {
     "slide_type": "subslide"
    }
   },
   "outputs": [
    {
     "name": "stdout",
     "output_type": "stream",
     "text": [
      "<class 'pandas.core.frame.DataFrame'>\n",
      "RangeIndex: 3085 entries, 0 to 3084\n",
      "Data columns (total 10 columns):\n",
      " #   Column                     Non-Null Count  Dtype  \n",
      "---  ------                     --------------  -----  \n",
      " 0   Date as of                 3085 non-null   object \n",
      " 1   Start Date                 3085 non-null   object \n",
      " 2   End Date                   3085 non-null   object \n",
      " 3   State                      3085 non-null   object \n",
      " 4   County name                3085 non-null   object \n",
      " 5   FIPS County Code           3085 non-null   int64  \n",
      " 6   Urban Rural Code           3085 non-null   object \n",
      " 7   Deaths involving COVID-19  2706 non-null   float64\n",
      " 8   Deaths from All Causes     3084 non-null   float64\n",
      " 9   Footnote                   379 non-null    object \n",
      "dtypes: float64(2), int64(1), object(7)\n",
      "memory usage: 241.1+ KB\n"
     ]
    }
   ],
   "source": [
    "# view info\n",
    "pro_df.info()"
   ]
  },
  {
   "cell_type": "markdown",
   "id": "c600933f",
   "metadata": {
    "slideshow": {
     "slide_type": "notes"
    }
   },
   "source": [
    "The dataframe consists of 3085 rows and 9 columns, with null values in the Death involving \"COVID-19\" and \"Footnote\" columns, and contains county level information about deaths."
   ]
  },
  {
   "cell_type": "code",
   "execution_count": 4,
   "id": "7de8dff1",
   "metadata": {
    "slideshow": {
     "slide_type": "subslide"
    }
   },
   "outputs": [
    {
     "data": {
      "text/html": [
       "<div>\n",
       "<style scoped>\n",
       "    .dataframe tbody tr th:only-of-type {\n",
       "        vertical-align: middle;\n",
       "    }\n",
       "\n",
       "    .dataframe tbody tr th {\n",
       "        vertical-align: top;\n",
       "    }\n",
       "\n",
       "    .dataframe thead th {\n",
       "        text-align: right;\n",
       "    }\n",
       "</style>\n",
       "<table border=\"1\" class=\"dataframe\">\n",
       "  <thead>\n",
       "    <tr style=\"text-align: right;\">\n",
       "      <th></th>\n",
       "      <th>state</th>\n",
       "      <th>county</th>\n",
       "      <th>total_deaths</th>\n",
       "    </tr>\n",
       "  </thead>\n",
       "  <tbody>\n",
       "    <tr>\n",
       "      <th>0</th>\n",
       "      <td>CA</td>\n",
       "      <td>Los Angeles County</td>\n",
       "      <td>31094.0</td>\n",
       "    </tr>\n",
       "    <tr>\n",
       "      <th>1</th>\n",
       "      <td>AZ</td>\n",
       "      <td>Maricopa County</td>\n",
       "      <td>17970.0</td>\n",
       "    </tr>\n",
       "    <tr>\n",
       "      <th>2</th>\n",
       "      <td>IL</td>\n",
       "      <td>Cook County</td>\n",
       "      <td>15478.0</td>\n",
       "    </tr>\n",
       "    <tr>\n",
       "      <th>3</th>\n",
       "      <td>TX</td>\n",
       "      <td>Harris County</td>\n",
       "      <td>13207.0</td>\n",
       "    </tr>\n",
       "    <tr>\n",
       "      <th>4</th>\n",
       "      <td>NY</td>\n",
       "      <td>Kings County</td>\n",
       "      <td>10733.0</td>\n",
       "    </tr>\n",
       "  </tbody>\n",
       "</table>\n",
       "</div>"
      ],
      "text/plain": [
       "  state              county  total_deaths\n",
       "0    CA  Los Angeles County       31094.0\n",
       "1    AZ     Maricopa County       17970.0\n",
       "2    IL         Cook County       15478.0\n",
       "3    TX       Harris County       13207.0\n",
       "4    NY        Kings County       10733.0"
      ]
     },
     "execution_count": 4,
     "metadata": {},
     "output_type": "execute_result"
    }
   ],
   "source": [
    "# subset and aggregate the data by state, county, and total deaths\n",
    "death_cols = ('State','Deaths involving COVID-19','County name')\n",
    "deaths = pro_df.loc[:, death_cols]\n",
    "deaths.rename({'State':'state','Deaths involving COVID-19':'total_deaths','County name':'county'}, axis=1, inplace=True)\n",
    "deaths_by_sc = deaths.groupby(['state','county'])['total_deaths'].sum().sort_values(ascending=False).reset_index()\n",
    "deaths_by_sc.head()"
   ]
  },
  {
   "cell_type": "markdown",
   "id": "875a7697",
   "metadata": {
    "slideshow": {
     "slide_type": "notes"
    }
   },
   "source": [
    "We subset the provisional data to State, Deathvs involving Covid-19, and County name. Since we're aggregating total deaths, the null values in deaths can be ignored. We'll also strip the word \"County\" from the county names. "
   ]
  },
  {
   "cell_type": "code",
   "execution_count": 5,
   "id": "0ecc5fd2",
   "metadata": {
    "slideshow": {
     "slide_type": "subslide"
    }
   },
   "outputs": [
    {
     "data": {
      "text/html": [
       "<div>\n",
       "<style scoped>\n",
       "    .dataframe tbody tr th:only-of-type {\n",
       "        vertical-align: middle;\n",
       "    }\n",
       "\n",
       "    .dataframe tbody tr th {\n",
       "        vertical-align: top;\n",
       "    }\n",
       "\n",
       "    .dataframe thead th {\n",
       "        text-align: right;\n",
       "    }\n",
       "</style>\n",
       "<table border=\"1\" class=\"dataframe\">\n",
       "  <thead>\n",
       "    <tr style=\"text-align: right;\">\n",
       "      <th></th>\n",
       "      <th>state</th>\n",
       "      <th>county</th>\n",
       "      <th>total_deaths</th>\n",
       "    </tr>\n",
       "  </thead>\n",
       "  <tbody>\n",
       "    <tr>\n",
       "      <th>0</th>\n",
       "      <td>CA</td>\n",
       "      <td>Los Angeles</td>\n",
       "      <td>31094.0</td>\n",
       "    </tr>\n",
       "    <tr>\n",
       "      <th>1</th>\n",
       "      <td>AZ</td>\n",
       "      <td>Maricopa</td>\n",
       "      <td>17970.0</td>\n",
       "    </tr>\n",
       "    <tr>\n",
       "      <th>2</th>\n",
       "      <td>IL</td>\n",
       "      <td>Cook</td>\n",
       "      <td>15478.0</td>\n",
       "    </tr>\n",
       "    <tr>\n",
       "      <th>3</th>\n",
       "      <td>TX</td>\n",
       "      <td>Harris</td>\n",
       "      <td>13207.0</td>\n",
       "    </tr>\n",
       "    <tr>\n",
       "      <th>4</th>\n",
       "      <td>NY</td>\n",
       "      <td>Kings</td>\n",
       "      <td>10733.0</td>\n",
       "    </tr>\n",
       "  </tbody>\n",
       "</table>\n",
       "</div>"
      ],
      "text/plain": [
       "  state       county  total_deaths\n",
       "0    CA  Los Angeles       31094.0\n",
       "1    AZ     Maricopa       17970.0\n",
       "2    IL         Cook       15478.0\n",
       "3    TX       Harris       13207.0\n",
       "4    NY        Kings       10733.0"
      ]
     },
     "execution_count": 5,
     "metadata": {},
     "output_type": "execute_result"
    }
   ],
   "source": [
    "# strip the word \"county\" from the county column\n",
    "deaths_by_sc['county'] = deaths_by_sc['county'].str.replace(' County', '')\n",
    "deaths_by_sc.head()"
   ]
  },
  {
   "cell_type": "markdown",
   "id": "969be8b0",
   "metadata": {
    "slideshow": {
     "slide_type": "notes"
    }
   },
   "source": [
    "Now we can plot the data to see total deaths by state. "
   ]
  },
  {
   "cell_type": "code",
   "execution_count": 6,
   "id": "74a8dead",
   "metadata": {
    "slideshow": {
     "slide_type": "notes"
    }
   },
   "outputs": [
    {
     "data": {
      "image/png": "[encoded data removed]",
      "text/plain": [
       "<Figure size 864x576 with 1 Axes>"
      ]
     },
     "metadata": {
      "needs_background": "light"
     },
     "output_type": "display_data"
    }
   ],
   "source": [
    "# plot total deaths by state\n",
    "%matplotlib inline\n",
    "\n",
    "# aggregate by state\n",
    "by_state = deaths_by_sc.groupby('state')['total_deaths'].sum().sort_values(ascending=False)\n",
    "\n",
    "# plot the data\n",
    "plt.figure(figsize=(12,8))\n",
    "sns.set(style='darkgrid')\n",
    "sns.barplot(x=by_state.values, y=by_state.index, alpha=0.9)\n",
    "plt.title('Total Deaths By State')\n",
    "plt.xlabel('Total Deaths', fontsize=12)\n",
    "plt.ylabel('State', fontsize=12)\n",
    "plt.xticks(fontsize=12)\n",
    "plt.yticks(fontsize=9)\n",
    "plt.show();"
   ]
  },
  {
   "cell_type": "code",
   "execution_count": 7,
   "id": "f569891a",
   "metadata": {
    "slideshow": {
     "slide_type": "subslide"
    }
   },
   "outputs": [],
   "source": [
    "# write to file\n",
    "filepath = \"/Users/joshiden/Documents/Classes/CUNY SPS/Fall 2022/DATA 602/DATA-602/FINAL_PROJECT/pro_data_cleaned.csv\"\n",
    "deaths_by_sc.to_csv(filepath, index=False)"
   ]
  },
  {
   "cell_type": "markdown",
   "id": "f87bf967",
   "metadata": {
    "slideshow": {
     "slide_type": "notes"
    }
   },
   "source": [
    "Lastly, we write the subset data to file which we'll store at the project GitHub repository for easy access."
   ]
  },
  {
   "cell_type": "markdown",
   "id": "4efb9733",
   "metadata": {
    "slideshow": {
     "slide_type": "slide"
    }
   },
   "source": [
    "### IRS DATA"
   ]
  },
  {
   "cell_type": "markdown",
   "id": "4ba4cce3",
   "metadata": {
    "slideshow": {
     "slide_type": "notes"
    }
   },
   "source": [
    "Next we'll read in the IRS data."
   ]
  },
  {
   "cell_type": "code",
   "execution_count": 8,
   "id": "72f76ecd",
   "metadata": {
    "slideshow": {
     "slide_type": "subslide"
    }
   },
   "outputs": [
    {
     "data": {
      "text/html": [
       "<div>\n",
       "<style scoped>\n",
       "    .dataframe tbody tr th:only-of-type {\n",
       "        vertical-align: middle;\n",
       "    }\n",
       "\n",
       "    .dataframe tbody tr th {\n",
       "        vertical-align: top;\n",
       "    }\n",
       "\n",
       "    .dataframe thead th {\n",
       "        text-align: right;\n",
       "    }\n",
       "</style>\n",
       "<table border=\"1\" class=\"dataframe\">\n",
       "  <thead>\n",
       "    <tr style=\"text-align: right;\">\n",
       "      <th></th>\n",
       "      <th>Unnamed: 0</th>\n",
       "      <th>STATEFIPS</th>\n",
       "      <th>STATE</th>\n",
       "      <th>zipcode</th>\n",
       "      <th>agi_stub</th>\n",
       "      <th>N1</th>\n",
       "      <th>mars1</th>\n",
       "      <th>MARS2</th>\n",
       "      <th>MARS4</th>\n",
       "      <th>ELF</th>\n",
       "      <th>...</th>\n",
       "      <th>N85300</th>\n",
       "      <th>A85300</th>\n",
       "      <th>N11901</th>\n",
       "      <th>A11901</th>\n",
       "      <th>N11900</th>\n",
       "      <th>A11900</th>\n",
       "      <th>N11902</th>\n",
       "      <th>A11902</th>\n",
       "      <th>N12000</th>\n",
       "      <th>A12000</th>\n",
       "    </tr>\n",
       "  </thead>\n",
       "  <tbody>\n",
       "    <tr>\n",
       "      <th>0</th>\n",
       "      <td>0</td>\n",
       "      <td>1</td>\n",
       "      <td>AL</td>\n",
       "      <td>0</td>\n",
       "      <td>1</td>\n",
       "      <td>778210.0</td>\n",
       "      <td>491030.0</td>\n",
       "      <td>84770.0</td>\n",
       "      <td>189600.0</td>\n",
       "      <td>712890.0</td>\n",
       "      <td>...</td>\n",
       "      <td>0.0</td>\n",
       "      <td>0.0</td>\n",
       "      <td>62720.0</td>\n",
       "      <td>51936.0</td>\n",
       "      <td>671860.0</td>\n",
       "      <td>1700965.0</td>\n",
       "      <td>669570.0</td>\n",
       "      <td>1694792.0</td>\n",
       "      <td>1980.0</td>\n",
       "      <td>3512.0</td>\n",
       "    </tr>\n",
       "    <tr>\n",
       "      <th>1</th>\n",
       "      <td>1</td>\n",
       "      <td>1</td>\n",
       "      <td>AL</td>\n",
       "      <td>0</td>\n",
       "      <td>2</td>\n",
       "      <td>525940.0</td>\n",
       "      <td>247140.0</td>\n",
       "      <td>123910.0</td>\n",
       "      <td>139860.0</td>\n",
       "      <td>481760.0</td>\n",
       "      <td>...</td>\n",
       "      <td>0.0</td>\n",
       "      <td>0.0</td>\n",
       "      <td>85860.0</td>\n",
       "      <td>122569.0</td>\n",
       "      <td>438020.0</td>\n",
       "      <td>1274802.0</td>\n",
       "      <td>435210.0</td>\n",
       "      <td>1266557.0</td>\n",
       "      <td>3670.0</td>\n",
       "      <td>7410.0</td>\n",
       "    </tr>\n",
       "    <tr>\n",
       "      <th>2</th>\n",
       "      <td>2</td>\n",
       "      <td>1</td>\n",
       "      <td>AL</td>\n",
       "      <td>0</td>\n",
       "      <td>3</td>\n",
       "      <td>285700.0</td>\n",
       "      <td>105140.0</td>\n",
       "      <td>128140.0</td>\n",
       "      <td>44560.0</td>\n",
       "      <td>260570.0</td>\n",
       "      <td>...</td>\n",
       "      <td>0.0</td>\n",
       "      <td>0.0</td>\n",
       "      <td>73980.0</td>\n",
       "      <td>154932.0</td>\n",
       "      <td>212040.0</td>\n",
       "      <td>575315.0</td>\n",
       "      <td>208470.0</td>\n",
       "      <td>564202.0</td>\n",
       "      <td>5020.0</td>\n",
       "      <td>13653.0</td>\n",
       "    </tr>\n",
       "    <tr>\n",
       "      <th>3</th>\n",
       "      <td>3</td>\n",
       "      <td>1</td>\n",
       "      <td>AL</td>\n",
       "      <td>0</td>\n",
       "      <td>4</td>\n",
       "      <td>179070.0</td>\n",
       "      <td>38820.0</td>\n",
       "      <td>123110.0</td>\n",
       "      <td>13740.0</td>\n",
       "      <td>164300.0</td>\n",
       "      <td>...</td>\n",
       "      <td>0.0</td>\n",
       "      <td>0.0</td>\n",
       "      <td>51330.0</td>\n",
       "      <td>139065.0</td>\n",
       "      <td>126850.0</td>\n",
       "      <td>401581.0</td>\n",
       "      <td>123310.0</td>\n",
       "      <td>388749.0</td>\n",
       "      <td>3040.0</td>\n",
       "      <td>10377.0</td>\n",
       "    </tr>\n",
       "    <tr>\n",
       "      <th>4</th>\n",
       "      <td>4</td>\n",
       "      <td>1</td>\n",
       "      <td>AL</td>\n",
       "      <td>0</td>\n",
       "      <td>5</td>\n",
       "      <td>257010.0</td>\n",
       "      <td>28180.0</td>\n",
       "      <td>216740.0</td>\n",
       "      <td>7150.0</td>\n",
       "      <td>236850.0</td>\n",
       "      <td>...</td>\n",
       "      <td>90.0</td>\n",
       "      <td>141.0</td>\n",
       "      <td>104290.0</td>\n",
       "      <td>460071.0</td>\n",
       "      <td>152790.0</td>\n",
       "      <td>598248.0</td>\n",
       "      <td>144640.0</td>\n",
       "      <td>539385.0</td>\n",
       "      <td>9180.0</td>\n",
       "      <td>56257.0</td>\n",
       "    </tr>\n",
       "  </tbody>\n",
       "</table>\n",
       "<p>5 rows × 153 columns</p>\n",
       "</div>"
      ],
      "text/plain": [
       "   Unnamed: 0  STATEFIPS STATE  zipcode  agi_stub        N1     mars1  \\\n",
       "0           0          1    AL        0         1  778210.0  491030.0   \n",
       "1           1          1    AL        0         2  525940.0  247140.0   \n",
       "2           2          1    AL        0         3  285700.0  105140.0   \n",
       "3           3          1    AL        0         4  179070.0   38820.0   \n",
       "4           4          1    AL        0         5  257010.0   28180.0   \n",
       "\n",
       "      MARS2     MARS4       ELF  ...  N85300  A85300    N11901    A11901  \\\n",
       "0   84770.0  189600.0  712890.0  ...     0.0     0.0   62720.0   51936.0   \n",
       "1  123910.0  139860.0  481760.0  ...     0.0     0.0   85860.0  122569.0   \n",
       "2  128140.0   44560.0  260570.0  ...     0.0     0.0   73980.0  154932.0   \n",
       "3  123110.0   13740.0  164300.0  ...     0.0     0.0   51330.0  139065.0   \n",
       "4  216740.0    7150.0  236850.0  ...    90.0   141.0  104290.0  460071.0   \n",
       "\n",
       "     N11900     A11900    N11902     A11902  N12000   A12000  \n",
       "0  671860.0  1700965.0  669570.0  1694792.0  1980.0   3512.0  \n",
       "1  438020.0  1274802.0  435210.0  1266557.0  3670.0   7410.0  \n",
       "2  212040.0   575315.0  208470.0   564202.0  5020.0  13653.0  \n",
       "3  126850.0   401581.0  123310.0   388749.0  3040.0  10377.0  \n",
       "4  152790.0   598248.0  144640.0   539385.0  9180.0  56257.0  \n",
       "\n",
       "[5 rows x 153 columns]"
      ]
     },
     "execution_count": 8,
     "metadata": {},
     "output_type": "execute_result"
    }
   ],
   "source": [
    "# read in iris: data.csv\n",
    "irs_file = '/Users/joshiden/Documents/Classes/CUNY SPS/Fall 2022/DATA 602/DATA-602/FINAL_PROJECT/data.csv'\n",
    "irs_df = pd.read_csv(irs_file)\n",
    "irs_df.head()"
   ]
  },
  {
   "cell_type": "code",
   "execution_count": 9,
   "id": "2c39713d",
   "metadata": {
    "slideshow": {
     "slide_type": "subslide"
    }
   },
   "outputs": [
    {
     "name": "stdout",
     "output_type": "stream",
     "text": [
      "<class 'pandas.core.frame.DataFrame'>\n",
      "RangeIndex: 166159 entries, 0 to 166158\n",
      "Columns: 153 entries, Unnamed: 0 to A12000\n",
      "dtypes: float64(148), int64(4), object(1)\n",
      "memory usage: 194.0+ MB\n"
     ]
    }
   ],
   "source": [
    "irs_df.info()"
   ]
  },
  {
   "cell_type": "markdown",
   "id": "83bd6d82",
   "metadata": {
    "slideshow": {
     "slide_type": "notes"
    }
   },
   "source": [
    "We see the IRS data is a massive file, containing 166k observations, 153 columns, and nearly 200 MB in size. Let's isolate the columns we need to whittle the file down to a more manageable size. "
   ]
  },
  {
   "cell_type": "code",
   "execution_count": 10,
   "id": "118c2b23",
   "metadata": {
    "slideshow": {
     "slide_type": "subslide"
    }
   },
   "outputs": [
    {
     "data": {
      "text/html": [
       "<div>\n",
       "<style scoped>\n",
       "    .dataframe tbody tr th:only-of-type {\n",
       "        vertical-align: middle;\n",
       "    }\n",
       "\n",
       "    .dataframe tbody tr th {\n",
       "        vertical-align: top;\n",
       "    }\n",
       "\n",
       "    .dataframe thead th {\n",
       "        text-align: right;\n",
       "    }\n",
       "</style>\n",
       "<table border=\"1\" class=\"dataframe\">\n",
       "  <thead>\n",
       "    <tr style=\"text-align: right;\">\n",
       "      <th></th>\n",
       "      <th>STATE</th>\n",
       "      <th>zipcode</th>\n",
       "      <th>N1</th>\n",
       "      <th>N2</th>\n",
       "      <th>A00100</th>\n",
       "      <th>A02650</th>\n",
       "    </tr>\n",
       "  </thead>\n",
       "  <tbody>\n",
       "    <tr>\n",
       "      <th>0</th>\n",
       "      <td>AL</td>\n",
       "      <td>0</td>\n",
       "      <td>778210.0</td>\n",
       "      <td>1161150.0</td>\n",
       "      <td>10158838.0</td>\n",
       "      <td>10311099.0</td>\n",
       "    </tr>\n",
       "    <tr>\n",
       "      <th>1</th>\n",
       "      <td>AL</td>\n",
       "      <td>0</td>\n",
       "      <td>525940.0</td>\n",
       "      <td>992420.0</td>\n",
       "      <td>18974967.0</td>\n",
       "      <td>19145621.0</td>\n",
       "    </tr>\n",
       "    <tr>\n",
       "      <th>2</th>\n",
       "      <td>AL</td>\n",
       "      <td>0</td>\n",
       "      <td>285700.0</td>\n",
       "      <td>595680.0</td>\n",
       "      <td>17535801.0</td>\n",
       "      <td>17690402.0</td>\n",
       "    </tr>\n",
       "    <tr>\n",
       "      <th>3</th>\n",
       "      <td>AL</td>\n",
       "      <td>0</td>\n",
       "      <td>179070.0</td>\n",
       "      <td>432180.0</td>\n",
       "      <td>15546951.0</td>\n",
       "      <td>15670456.0</td>\n",
       "    </tr>\n",
       "    <tr>\n",
       "      <th>4</th>\n",
       "      <td>AL</td>\n",
       "      <td>0</td>\n",
       "      <td>257010.0</td>\n",
       "      <td>692450.0</td>\n",
       "      <td>34974856.0</td>\n",
       "      <td>35286228.0</td>\n",
       "    </tr>\n",
       "  </tbody>\n",
       "</table>\n",
       "</div>"
      ],
      "text/plain": [
       "  STATE  zipcode        N1         N2      A00100      A02650\n",
       "0    AL        0  778210.0  1161150.0  10158838.0  10311099.0\n",
       "1    AL        0  525940.0   992420.0  18974967.0  19145621.0\n",
       "2    AL        0  285700.0   595680.0  17535801.0  17690402.0\n",
       "3    AL        0  179070.0   432180.0  15546951.0  15670456.0\n",
       "4    AL        0  257010.0   692450.0  34974856.0  35286228.0"
      ]
     },
     "execution_count": 10,
     "metadata": {},
     "output_type": "execute_result"
    }
   ],
   "source": [
    "# subset desired columns\n",
    "cols = ('STATE','zipcode','N1','N2','A00100','A02650')\n",
    "irs_sub = irs_df.loc[:,cols]\n",
    "irs_sub.head()"
   ]
  },
  {
   "cell_type": "markdown",
   "id": "d05a69b5",
   "metadata": {
    "slideshow": {
     "slide_type": "notes"
    }
   },
   "source": [
    "Referring to the key for this data which has been loaded into the [project]('https://github.com/josh1den/DATA-602/blob/main/FINAL_PROJECT/data_overview.pdf') GitHub repository, we select the desired columns and rename. "
   ]
  },
  {
   "cell_type": "code",
   "execution_count": 11,
   "id": "41dc8e9c",
   "metadata": {
    "slideshow": {
     "slide_type": "subslide"
    }
   },
   "outputs": [
    {
     "data": {
      "text/html": [
       "<div>\n",
       "<style scoped>\n",
       "    .dataframe tbody tr th:only-of-type {\n",
       "        vertical-align: middle;\n",
       "    }\n",
       "\n",
       "    .dataframe tbody tr th {\n",
       "        vertical-align: top;\n",
       "    }\n",
       "\n",
       "    .dataframe thead th {\n",
       "        text-align: right;\n",
       "    }\n",
       "</style>\n",
       "<table border=\"1\" class=\"dataframe\">\n",
       "  <thead>\n",
       "    <tr style=\"text-align: right;\">\n",
       "      <th></th>\n",
       "      <th>state</th>\n",
       "      <th>zip</th>\n",
       "      <th>num_returns</th>\n",
       "      <th>num_indiv</th>\n",
       "      <th>agi</th>\n",
       "      <th>total_income</th>\n",
       "    </tr>\n",
       "  </thead>\n",
       "  <tbody>\n",
       "    <tr>\n",
       "      <th>0</th>\n",
       "      <td>AL</td>\n",
       "      <td>0</td>\n",
       "      <td>778210.0</td>\n",
       "      <td>1161150.0</td>\n",
       "      <td>10158838.0</td>\n",
       "      <td>10311099.0</td>\n",
       "    </tr>\n",
       "    <tr>\n",
       "      <th>1</th>\n",
       "      <td>AL</td>\n",
       "      <td>0</td>\n",
       "      <td>525940.0</td>\n",
       "      <td>992420.0</td>\n",
       "      <td>18974967.0</td>\n",
       "      <td>19145621.0</td>\n",
       "    </tr>\n",
       "    <tr>\n",
       "      <th>2</th>\n",
       "      <td>AL</td>\n",
       "      <td>0</td>\n",
       "      <td>285700.0</td>\n",
       "      <td>595680.0</td>\n",
       "      <td>17535801.0</td>\n",
       "      <td>17690402.0</td>\n",
       "    </tr>\n",
       "    <tr>\n",
       "      <th>3</th>\n",
       "      <td>AL</td>\n",
       "      <td>0</td>\n",
       "      <td>179070.0</td>\n",
       "      <td>432180.0</td>\n",
       "      <td>15546951.0</td>\n",
       "      <td>15670456.0</td>\n",
       "    </tr>\n",
       "    <tr>\n",
       "      <th>4</th>\n",
       "      <td>AL</td>\n",
       "      <td>0</td>\n",
       "      <td>257010.0</td>\n",
       "      <td>692450.0</td>\n",
       "      <td>34974856.0</td>\n",
       "      <td>35286228.0</td>\n",
       "    </tr>\n",
       "  </tbody>\n",
       "</table>\n",
       "</div>"
      ],
      "text/plain": [
       "  state  zip  num_returns  num_indiv         agi  total_income\n",
       "0    AL    0     778210.0  1161150.0  10158838.0    10311099.0\n",
       "1    AL    0     525940.0   992420.0  18974967.0    19145621.0\n",
       "2    AL    0     285700.0   595680.0  17535801.0    17690402.0\n",
       "3    AL    0     179070.0   432180.0  15546951.0    15670456.0\n",
       "4    AL    0     257010.0   692450.0  34974856.0    35286228.0"
      ]
     },
     "execution_count": 11,
     "metadata": {},
     "output_type": "execute_result"
    }
   ],
   "source": [
    "# rename columns\n",
    "cols = {'STATE':'state', 'zipcode':'zip', 'N1':'num_returns', 'N2':'num_indiv', 'A00100':'agi', 'A02650':'total_income'}\n",
    "irs_sub = irs_sub.rename(columns=cols)\n",
    "irs_sub.head()"
   ]
  },
  {
   "cell_type": "markdown",
   "id": "c46e090c",
   "metadata": {
    "slideshow": {
     "slide_type": "notes"
    }
   },
   "source": [
    "Now we can aggregate the dataframe by total income by state."
   ]
  },
  {
   "cell_type": "code",
   "execution_count": 12,
   "id": "2499a5fe",
   "metadata": {
    "slideshow": {
     "slide_type": "subslide"
    }
   },
   "outputs": [
    {
     "data": {
      "text/html": [
       "<div>\n",
       "<style scoped>\n",
       "    .dataframe tbody tr th:only-of-type {\n",
       "        vertical-align: middle;\n",
       "    }\n",
       "\n",
       "    .dataframe tbody tr th {\n",
       "        vertical-align: top;\n",
       "    }\n",
       "\n",
       "    .dataframe thead th {\n",
       "        text-align: right;\n",
       "    }\n",
       "</style>\n",
       "<table border=\"1\" class=\"dataframe\">\n",
       "  <thead>\n",
       "    <tr style=\"text-align: right;\">\n",
       "      <th></th>\n",
       "      <th>state</th>\n",
       "      <th>total_income</th>\n",
       "    </tr>\n",
       "  </thead>\n",
       "  <tbody>\n",
       "    <tr>\n",
       "      <th>4</th>\n",
       "      <td>CA</td>\n",
       "      <td>3.399587e+09</td>\n",
       "    </tr>\n",
       "    <tr>\n",
       "      <th>43</th>\n",
       "      <td>TX</td>\n",
       "      <td>2.009629e+09</td>\n",
       "    </tr>\n",
       "    <tr>\n",
       "      <th>34</th>\n",
       "      <td>NY</td>\n",
       "      <td>1.773392e+09</td>\n",
       "    </tr>\n",
       "    <tr>\n",
       "      <th>9</th>\n",
       "      <td>FL</td>\n",
       "      <td>1.632665e+09</td>\n",
       "    </tr>\n",
       "    <tr>\n",
       "      <th>14</th>\n",
       "      <td>IL</td>\n",
       "      <td>9.923638e+08</td>\n",
       "    </tr>\n",
       "  </tbody>\n",
       "</table>\n",
       "</div>"
      ],
      "text/plain": [
       "   state  total_income\n",
       "4     CA  3.399587e+09\n",
       "43    TX  2.009629e+09\n",
       "34    NY  1.773392e+09\n",
       "9     FL  1.632665e+09\n",
       "14    IL  9.923638e+08"
      ]
     },
     "execution_count": 12,
     "metadata": {},
     "output_type": "execute_result"
    }
   ],
   "source": [
    "# aggregate by total income\n",
    "irs_sub = irs_sub.groupby('state')['total_income'].sum().reset_index().sort_values(by='total_income', ascending=False)\n",
    "irs_sub.head()"
   ]
  },
  {
   "cell_type": "markdown",
   "id": "bec724e2",
   "metadata": {
    "slideshow": {
     "slide_type": "notes"
    }
   },
   "source": [
    "Let's take a look now at some summary statistics."
   ]
  },
  {
   "cell_type": "code",
   "execution_count": 13,
   "id": "10064186",
   "metadata": {
    "scrolled": true,
    "slideshow": {
     "slide_type": "subslide"
    }
   },
   "outputs": [
    {
     "data": {
      "text/html": [
       "<div>\n",
       "<style scoped>\n",
       "    .dataframe tbody tr th:only-of-type {\n",
       "        vertical-align: middle;\n",
       "    }\n",
       "\n",
       "    .dataframe tbody tr th {\n",
       "        vertical-align: top;\n",
       "    }\n",
       "\n",
       "    .dataframe thead th {\n",
       "        text-align: right;\n",
       "    }\n",
       "</style>\n",
       "<table border=\"1\" class=\"dataframe\">\n",
       "  <thead>\n",
       "    <tr style=\"text-align: right;\">\n",
       "      <th></th>\n",
       "      <th>total_income</th>\n",
       "    </tr>\n",
       "  </thead>\n",
       "  <tbody>\n",
       "    <tr>\n",
       "      <th>count</th>\n",
       "      <td>5.100000e+01</td>\n",
       "    </tr>\n",
       "    <tr>\n",
       "      <th>mean</th>\n",
       "      <td>4.774958e+08</td>\n",
       "    </tr>\n",
       "    <tr>\n",
       "      <th>std</th>\n",
       "      <td>6.031419e+08</td>\n",
       "    </tr>\n",
       "    <tr>\n",
       "      <th>min</th>\n",
       "      <td>4.574175e+07</td>\n",
       "    </tr>\n",
       "    <tr>\n",
       "      <th>25%</th>\n",
       "      <td>1.120052e+08</td>\n",
       "    </tr>\n",
       "    <tr>\n",
       "      <th>50%</th>\n",
       "      <td>2.642595e+08</td>\n",
       "    </tr>\n",
       "    <tr>\n",
       "      <th>75%</th>\n",
       "      <td>6.539656e+08</td>\n",
       "    </tr>\n",
       "    <tr>\n",
       "      <th>max</th>\n",
       "      <td>3.399587e+09</td>\n",
       "    </tr>\n",
       "  </tbody>\n",
       "</table>\n",
       "</div>"
      ],
      "text/plain": [
       "       total_income\n",
       "count  5.100000e+01\n",
       "mean   4.774958e+08\n",
       "std    6.031419e+08\n",
       "min    4.574175e+07\n",
       "25%    1.120052e+08\n",
       "50%    2.642595e+08\n",
       "75%    6.539656e+08\n",
       "max    3.399587e+09"
      ]
     },
     "execution_count": 13,
     "metadata": {},
     "output_type": "execute_result"
    }
   ],
   "source": [
    "# view summary statistics\n",
    "irs_sub.describe()"
   ]
  },
  {
   "cell_type": "markdown",
   "id": "f930ffb6",
   "metadata": {
    "slideshow": {
     "slide_type": "notes"
    }
   },
   "source": [
    "We see the lowest total income is 45,741,750, while the highest is 3,399,587,000, with a mean of 477,495,800"
   ]
  },
  {
   "cell_type": "markdown",
   "id": "91a9cd82",
   "metadata": {
    "slideshow": {
     "slide_type": "notes"
    }
   },
   "source": [
    "And we can plot the data."
   ]
  },
  {
   "cell_type": "code",
   "execution_count": 14,
   "id": "f663ff40",
   "metadata": {
    "slideshow": {
     "slide_type": "subslide"
    }
   },
   "outputs": [
    {
     "data": {
      "image/png": "[encoded data removed]",
      "text/plain": [
       "<Figure size 864x576 with 1 Axes>"
      ]
     },
     "metadata": {
      "needs_background": "light"
     },
     "output_type": "display_data"
    }
   ],
   "source": [
    "# plot total income by state\n",
    "%matplotlib inline\n",
    "\n",
    "# plot the data\n",
    "plt.figure(figsize=(12,8))\n",
    "sns.set(style='darkgrid')\n",
    "sns.barplot(x=irs_sub.total_income, y=irs_sub.state, alpha=0.9)\n",
    "plt.title('Total Income By State')\n",
    "plt.xlabel('Total Income', fontsize=12)\n",
    "plt.ylabel('State', fontsize=12)\n",
    "plt.xticks(fontsize=12)\n",
    "plt.yticks(fontsize=9)\n",
    "plt.show();"
   ]
  },
  {
   "cell_type": "markdown",
   "id": "a8f757b3",
   "metadata": {
    "slideshow": {
     "slide_type": "notes"
    }
   },
   "source": [
    "Now we can write the subset and aggregated data to a much more manageable file size."
   ]
  },
  {
   "cell_type": "code",
   "execution_count": 15,
   "id": "47bfc047",
   "metadata": {
    "slideshow": {
     "slide_type": "subslide"
    }
   },
   "outputs": [],
   "source": [
    "filepath = \"/Users/joshiden/Documents/Classes/CUNY SPS/Fall 2022/DATA 602/DATA-602/FINAL_PROJECT/irs_data_cleaned.csv\"\n",
    "irs_sub.to_csv(filepath, index=False)"
   ]
  },
  {
   "cell_type": "markdown",
   "id": "fafa40c7",
   "metadata": {
    "slideshow": {
     "slide_type": "slide"
    }
   },
   "source": [
    "### CDC COMMUNITY DATA"
   ]
  },
  {
   "cell_type": "markdown",
   "id": "a7502bea",
   "metadata": {
    "slideshow": {
     "slide_type": "notes"
    }
   },
   "source": [
    "Finally, we read in the CDC community data."
   ]
  },
  {
   "cell_type": "code",
   "execution_count": 16,
   "id": "9e6220ff",
   "metadata": {
    "slideshow": {
     "slide_type": "subslide"
    }
   },
   "outputs": [
    {
     "data": {
      "text/html": [
       "<div>\n",
       "<style scoped>\n",
       "    .dataframe tbody tr th:only-of-type {\n",
       "        vertical-align: middle;\n",
       "    }\n",
       "\n",
       "    .dataframe tbody tr th {\n",
       "        vertical-align: top;\n",
       "    }\n",
       "\n",
       "    .dataframe thead th {\n",
       "        text-align: right;\n",
       "    }\n",
       "</style>\n",
       "<table border=\"1\" class=\"dataframe\">\n",
       "  <thead>\n",
       "    <tr style=\"text-align: right;\">\n",
       "      <th></th>\n",
       "      <th>county</th>\n",
       "      <th>county_fips</th>\n",
       "      <th>state</th>\n",
       "      <th>county_population</th>\n",
       "      <th>health_service_area_number</th>\n",
       "      <th>health_service_area</th>\n",
       "      <th>health_service_area_population</th>\n",
       "      <th>covid_inpatient_bed_utilization</th>\n",
       "      <th>covid_hospital_admissions_per_100k</th>\n",
       "      <th>covid_cases_per_100k</th>\n",
       "      <th>covid-19_community_level</th>\n",
       "      <th>date_updated</th>\n",
       "    </tr>\n",
       "  </thead>\n",
       "  <tbody>\n",
       "    <tr>\n",
       "      <th>0</th>\n",
       "      <td>Lincoln County</td>\n",
       "      <td>55069</td>\n",
       "      <td>Wisconsin</td>\n",
       "      <td>27593.0</td>\n",
       "      <td>282</td>\n",
       "      <td>Marathon (Wausau), WI - Wood, WI</td>\n",
       "      <td>291401.0</td>\n",
       "      <td>4.7</td>\n",
       "      <td>13.4</td>\n",
       "      <td>177.58</td>\n",
       "      <td>Medium</td>\n",
       "      <td>2022-08-18</td>\n",
       "    </tr>\n",
       "    <tr>\n",
       "      <th>1</th>\n",
       "      <td>Manitowoc County</td>\n",
       "      <td>55071</td>\n",
       "      <td>Wisconsin</td>\n",
       "      <td>78981.0</td>\n",
       "      <td>355</td>\n",
       "      <td>Sheboygan (Sheboygan), WI - Manitowoc, WI</td>\n",
       "      <td>244410.0</td>\n",
       "      <td>3.4</td>\n",
       "      <td>9.8</td>\n",
       "      <td>169.66</td>\n",
       "      <td>Low</td>\n",
       "      <td>2022-08-18</td>\n",
       "    </tr>\n",
       "    <tr>\n",
       "      <th>2</th>\n",
       "      <td>Marathon County</td>\n",
       "      <td>55073</td>\n",
       "      <td>Wisconsin</td>\n",
       "      <td>135692.0</td>\n",
       "      <td>282</td>\n",
       "      <td>Marathon (Wausau), WI - Wood, WI</td>\n",
       "      <td>291401.0</td>\n",
       "      <td>4.7</td>\n",
       "      <td>13.4</td>\n",
       "      <td>209.30</td>\n",
       "      <td>High</td>\n",
       "      <td>2022-08-18</td>\n",
       "    </tr>\n",
       "    <tr>\n",
       "      <th>3</th>\n",
       "      <td>Monroe County</td>\n",
       "      <td>55081</td>\n",
       "      <td>Wisconsin</td>\n",
       "      <td>46253.0</td>\n",
       "      <td>290</td>\n",
       "      <td>La Crosse (La Crosse), WI - Monroe, WI</td>\n",
       "      <td>257027.0</td>\n",
       "      <td>3.9</td>\n",
       "      <td>15.6</td>\n",
       "      <td>216.20</td>\n",
       "      <td>High</td>\n",
       "      <td>2022-08-18</td>\n",
       "    </tr>\n",
       "    <tr>\n",
       "      <th>4</th>\n",
       "      <td>Portage County</td>\n",
       "      <td>55097</td>\n",
       "      <td>Wisconsin</td>\n",
       "      <td>70772.0</td>\n",
       "      <td>400</td>\n",
       "      <td>Portage, WI</td>\n",
       "      <td>70772.0</td>\n",
       "      <td>5.9</td>\n",
       "      <td>7.1</td>\n",
       "      <td>217.60</td>\n",
       "      <td>Medium</td>\n",
       "      <td>2022-08-18</td>\n",
       "    </tr>\n",
       "  </tbody>\n",
       "</table>\n",
       "</div>"
      ],
      "text/plain": [
       "             county  county_fips      state  county_population  \\\n",
       "0    Lincoln County        55069  Wisconsin            27593.0   \n",
       "1  Manitowoc County        55071  Wisconsin            78981.0   \n",
       "2   Marathon County        55073  Wisconsin           135692.0   \n",
       "3     Monroe County        55081  Wisconsin            46253.0   \n",
       "4    Portage County        55097  Wisconsin            70772.0   \n",
       "\n",
       "   health_service_area_number                        health_service_area  \\\n",
       "0                         282           Marathon (Wausau), WI - Wood, WI   \n",
       "1                         355  Sheboygan (Sheboygan), WI - Manitowoc, WI   \n",
       "2                         282           Marathon (Wausau), WI - Wood, WI   \n",
       "3                         290     La Crosse (La Crosse), WI - Monroe, WI   \n",
       "4                         400                                Portage, WI   \n",
       "\n",
       "   health_service_area_population  covid_inpatient_bed_utilization  \\\n",
       "0                        291401.0                              4.7   \n",
       "1                        244410.0                              3.4   \n",
       "2                        291401.0                              4.7   \n",
       "3                        257027.0                              3.9   \n",
       "4                         70772.0                              5.9   \n",
       "\n",
       "   covid_hospital_admissions_per_100k  covid_cases_per_100k  \\\n",
       "0                                13.4                177.58   \n",
       "1                                 9.8                169.66   \n",
       "2                                13.4                209.30   \n",
       "3                                15.6                216.20   \n",
       "4                                 7.1                217.60   \n",
       "\n",
       "  covid-19_community_level date_updated  \n",
       "0                   Medium   2022-08-18  \n",
       "1                      Low   2022-08-18  \n",
       "2                     High   2022-08-18  \n",
       "3                     High   2022-08-18  \n",
       "4                   Medium   2022-08-18  "
      ]
     },
     "execution_count": 16,
     "metadata": {},
     "output_type": "execute_result"
    }
   ],
   "source": [
    "# read in the CDC community levels data\n",
    "com_file = 'https://raw.githubusercontent.com/josh1den/DATA-602/main/FINAL_PROJECT/SOURCE/United_States_COVID-19_Community_Levels_by_County.csv'\n",
    "com_df = pd.read_csv(com_file)\n",
    "com_df.head()"
   ]
  },
  {
   "cell_type": "code",
   "execution_count": 17,
   "id": "750b9618",
   "metadata": {
    "slideshow": {
     "slide_type": "subslide"
    }
   },
   "outputs": [
    {
     "name": "stdout",
     "output_type": "stream",
     "text": [
      "<class 'pandas.core.frame.DataFrame'>\n",
      "RangeIndex: 112836 entries, 0 to 112835\n",
      "Data columns (total 12 columns):\n",
      " #   Column                              Non-Null Count   Dtype  \n",
      "---  ------                              --------------   -----  \n",
      " 0   county                              112836 non-null  object \n",
      " 1   county_fips                         112836 non-null  int64  \n",
      " 2   state                               112836 non-null  object \n",
      " 3   county_population                   112835 non-null  float64\n",
      " 4   health_service_area_number          112836 non-null  int64  \n",
      " 5   health_service_area                 112836 non-null  object \n",
      " 6   health_service_area_population      112829 non-null  float64\n",
      " 7   covid_inpatient_bed_utilization     112648 non-null  float64\n",
      " 8   covid_hospital_admissions_per_100k  112778 non-null  float64\n",
      " 9   covid_cases_per_100k                112836 non-null  float64\n",
      " 10  covid-19_community_level            112782 non-null  object \n",
      " 11  date_updated                        112836 non-null  object \n",
      "dtypes: float64(5), int64(2), object(5)\n",
      "memory usage: 10.3+ MB\n"
     ]
    }
   ],
   "source": [
    "com_df.info()"
   ]
  },
  {
   "cell_type": "markdown",
   "id": "b8ec9e78",
   "metadata": {
    "slideshow": {
     "slide_type": "notes"
    }
   },
   "source": [
    "We can see the dataframe consists of 112,846 rows and 12 columns, containing county information for case and hospitalizations, with null values in hospital admissions, bed utilization, community level, and county population. Let's subset the data down to county, state, population, hospital admissions, and cases. "
   ]
  },
  {
   "cell_type": "code",
   "execution_count": 18,
   "id": "336f36a3",
   "metadata": {
    "slideshow": {
     "slide_type": "subslide"
    }
   },
   "outputs": [
    {
     "data": {
      "text/html": [
       "<div>\n",
       "<style scoped>\n",
       "    .dataframe tbody tr th:only-of-type {\n",
       "        vertical-align: middle;\n",
       "    }\n",
       "\n",
       "    .dataframe tbody tr th {\n",
       "        vertical-align: top;\n",
       "    }\n",
       "\n",
       "    .dataframe thead th {\n",
       "        text-align: right;\n",
       "    }\n",
       "</style>\n",
       "<table border=\"1\" class=\"dataframe\">\n",
       "  <thead>\n",
       "    <tr style=\"text-align: right;\">\n",
       "      <th></th>\n",
       "      <th>county</th>\n",
       "      <th>state</th>\n",
       "      <th>county_population</th>\n",
       "      <th>covid_hospital_admissions_per_100k</th>\n",
       "      <th>covid_cases_per_100k</th>\n",
       "    </tr>\n",
       "  </thead>\n",
       "  <tbody>\n",
       "    <tr>\n",
       "      <th>0</th>\n",
       "      <td>Lincoln County</td>\n",
       "      <td>Wisconsin</td>\n",
       "      <td>27593.0</td>\n",
       "      <td>13.4</td>\n",
       "      <td>177.58</td>\n",
       "    </tr>\n",
       "    <tr>\n",
       "      <th>1</th>\n",
       "      <td>Manitowoc County</td>\n",
       "      <td>Wisconsin</td>\n",
       "      <td>78981.0</td>\n",
       "      <td>9.8</td>\n",
       "      <td>169.66</td>\n",
       "    </tr>\n",
       "    <tr>\n",
       "      <th>2</th>\n",
       "      <td>Marathon County</td>\n",
       "      <td>Wisconsin</td>\n",
       "      <td>135692.0</td>\n",
       "      <td>13.4</td>\n",
       "      <td>209.30</td>\n",
       "    </tr>\n",
       "    <tr>\n",
       "      <th>3</th>\n",
       "      <td>Monroe County</td>\n",
       "      <td>Wisconsin</td>\n",
       "      <td>46253.0</td>\n",
       "      <td>15.6</td>\n",
       "      <td>216.20</td>\n",
       "    </tr>\n",
       "    <tr>\n",
       "      <th>4</th>\n",
       "      <td>Portage County</td>\n",
       "      <td>Wisconsin</td>\n",
       "      <td>70772.0</td>\n",
       "      <td>7.1</td>\n",
       "      <td>217.60</td>\n",
       "    </tr>\n",
       "  </tbody>\n",
       "</table>\n",
       "</div>"
      ],
      "text/plain": [
       "             county      state  county_population  \\\n",
       "0    Lincoln County  Wisconsin            27593.0   \n",
       "1  Manitowoc County  Wisconsin            78981.0   \n",
       "2   Marathon County  Wisconsin           135692.0   \n",
       "3     Monroe County  Wisconsin            46253.0   \n",
       "4    Portage County  Wisconsin            70772.0   \n",
       "\n",
       "   covid_hospital_admissions_per_100k  covid_cases_per_100k  \n",
       "0                                13.4                177.58  \n",
       "1                                 9.8                169.66  \n",
       "2                                13.4                209.30  \n",
       "3                                15.6                216.20  \n",
       "4                                 7.1                217.60  "
      ]
     },
     "execution_count": 18,
     "metadata": {},
     "output_type": "execute_result"
    }
   ],
   "source": [
    "# subset the desired columns\n",
    "cols = ['county','state','county_population','covid_hospital_admissions_per_100k','covid_cases_per_100k']\n",
    "com_df = com_df[cols]\n",
    "com_df.head()"
   ]
  },
  {
   "cell_type": "markdown",
   "id": "df029e11",
   "metadata": {
    "slideshow": {
     "slide_type": "notes"
    }
   },
   "source": [
    "And strip the word \"County\" from the county column"
   ]
  },
  {
   "cell_type": "code",
   "execution_count": 19,
   "id": "b647a8a5",
   "metadata": {
    "slideshow": {
     "slide_type": "subslide"
    }
   },
   "outputs": [
    {
     "data": {
      "text/html": [
       "<div>\n",
       "<style scoped>\n",
       "    .dataframe tbody tr th:only-of-type {\n",
       "        vertical-align: middle;\n",
       "    }\n",
       "\n",
       "    .dataframe tbody tr th {\n",
       "        vertical-align: top;\n",
       "    }\n",
       "\n",
       "    .dataframe thead th {\n",
       "        text-align: right;\n",
       "    }\n",
       "</style>\n",
       "<table border=\"1\" class=\"dataframe\">\n",
       "  <thead>\n",
       "    <tr style=\"text-align: right;\">\n",
       "      <th></th>\n",
       "      <th>county</th>\n",
       "      <th>state</th>\n",
       "      <th>county_population</th>\n",
       "      <th>covid_hospital_admissions_per_100k</th>\n",
       "      <th>covid_cases_per_100k</th>\n",
       "    </tr>\n",
       "  </thead>\n",
       "  <tbody>\n",
       "    <tr>\n",
       "      <th>0</th>\n",
       "      <td>Lincoln</td>\n",
       "      <td>Wisconsin</td>\n",
       "      <td>27593.0</td>\n",
       "      <td>13.4</td>\n",
       "      <td>177.58</td>\n",
       "    </tr>\n",
       "    <tr>\n",
       "      <th>1</th>\n",
       "      <td>Manitowoc</td>\n",
       "      <td>Wisconsin</td>\n",
       "      <td>78981.0</td>\n",
       "      <td>9.8</td>\n",
       "      <td>169.66</td>\n",
       "    </tr>\n",
       "    <tr>\n",
       "      <th>2</th>\n",
       "      <td>Marathon</td>\n",
       "      <td>Wisconsin</td>\n",
       "      <td>135692.0</td>\n",
       "      <td>13.4</td>\n",
       "      <td>209.30</td>\n",
       "    </tr>\n",
       "    <tr>\n",
       "      <th>3</th>\n",
       "      <td>Monroe</td>\n",
       "      <td>Wisconsin</td>\n",
       "      <td>46253.0</td>\n",
       "      <td>15.6</td>\n",
       "      <td>216.20</td>\n",
       "    </tr>\n",
       "    <tr>\n",
       "      <th>4</th>\n",
       "      <td>Portage</td>\n",
       "      <td>Wisconsin</td>\n",
       "      <td>70772.0</td>\n",
       "      <td>7.1</td>\n",
       "      <td>217.60</td>\n",
       "    </tr>\n",
       "  </tbody>\n",
       "</table>\n",
       "</div>"
      ],
      "text/plain": [
       "      county      state  county_population  \\\n",
       "0    Lincoln  Wisconsin            27593.0   \n",
       "1  Manitowoc  Wisconsin            78981.0   \n",
       "2   Marathon  Wisconsin           135692.0   \n",
       "3     Monroe  Wisconsin            46253.0   \n",
       "4    Portage  Wisconsin            70772.0   \n",
       "\n",
       "   covid_hospital_admissions_per_100k  covid_cases_per_100k  \n",
       "0                                13.4                177.58  \n",
       "1                                 9.8                169.66  \n",
       "2                                13.4                209.30  \n",
       "3                                15.6                216.20  \n",
       "4                                 7.1                217.60  "
      ]
     },
     "execution_count": 19,
     "metadata": {},
     "output_type": "execute_result"
    }
   ],
   "source": [
    "# strip the word \"County\" from the county column\n",
    "com_df['county'] = com_df['county'].str.replace(' County', '')\n",
    "com_df.head()"
   ]
  },
  {
   "cell_type": "markdown",
   "id": "e975ad08",
   "metadata": {
    "slideshow": {
     "slide_type": "notes"
    }
   },
   "source": [
    "We see that the states are listed by their full names, whereas in the other dataframes, each state is listed by it's abbreviation, so let's go ahead and replace all the states with their abbreviations. To do this, we'll use a dictionary of state abbreviations, and map it to state column."
   ]
  },
  {
   "cell_type": "code",
   "execution_count": 20,
   "id": "3c22ec22",
   "metadata": {
    "slideshow": {
     "slide_type": "subslide"
    }
   },
   "outputs": [],
   "source": [
    "# convert state column to abbreviations - thank you (https://gist.github.com/rogerallen/1583593)\n",
    "abbreviations = {'Alabama': 'AL','Alaska': 'AK','Arizona': 'AZ','Arkansas': 'AR',\n",
    "                 'California': 'CA','Colorado': 'CO','Connecticut': 'CT','Delaware': 'DE',\n",
    "                 'Florida': 'FL','Georgia': 'GA','Hawaii': 'HI','Idaho': 'ID','Illinois': 'IL',\n",
    "                 'Indiana': 'IN','Iowa': 'IA','Kansas': 'KS','Kentucky': 'KY','Louisiana': 'LA',\n",
    "                 'Maine': 'ME','Maryland': 'MD','Massachusetts': 'MA','Michigan': 'MI',\n",
    "                 'Minnesota': 'MN','Mississippi': 'MS','Missouri': 'MO','Montana': 'MT',\n",
    "                 'Nebraska': 'NE','Nevada': 'NV','New Hampshire': 'NH','New Jersey': 'NJ',\n",
    "                 'New Mexico': 'NM','New York': 'NY','North Carolina': 'NC','North Dakota': 'ND',\n",
    "                 'Ohio': 'OH','Oklahoma': 'OK','Oregon': 'OR','Pennsylvania': 'PA','Rhode Island': 'RI',\n",
    "                 'South Carolina': 'SC','South Dakota': 'SD','Tennessee': 'TN','Texas': 'TX',\n",
    "                 'Utah': 'UT','Vermont': 'VT','Virginia': 'VA','Washington': 'WA','West Virginia': 'WV',\n",
    "                 'Wisconsin': 'WI','Wyoming': 'WY','District of Columbia': 'DC','American Samoa': 'AS',\n",
    "                 'Guam': 'GU','Northern Mariana Islands': 'MP','Puerto Rico': 'PR',\n",
    "                 'United States Minor Outlying Islands': 'UM','U.S. Virgin Islands': 'VI'}"
   ]
  },
  {
   "cell_type": "code",
   "execution_count": 21,
   "id": "c3dc6371",
   "metadata": {
    "slideshow": {
     "slide_type": "subslide"
    }
   },
   "outputs": [
    {
     "data": {
      "text/html": [
       "<div>\n",
       "<style scoped>\n",
       "    .dataframe tbody tr th:only-of-type {\n",
       "        vertical-align: middle;\n",
       "    }\n",
       "\n",
       "    .dataframe tbody tr th {\n",
       "        vertical-align: top;\n",
       "    }\n",
       "\n",
       "    .dataframe thead th {\n",
       "        text-align: right;\n",
       "    }\n",
       "</style>\n",
       "<table border=\"1\" class=\"dataframe\">\n",
       "  <thead>\n",
       "    <tr style=\"text-align: right;\">\n",
       "      <th></th>\n",
       "      <th>county</th>\n",
       "      <th>state</th>\n",
       "      <th>county_population</th>\n",
       "      <th>covid_hospital_admissions_per_100k</th>\n",
       "      <th>covid_cases_per_100k</th>\n",
       "    </tr>\n",
       "  </thead>\n",
       "  <tbody>\n",
       "    <tr>\n",
       "      <th>0</th>\n",
       "      <td>Lincoln</td>\n",
       "      <td>WI</td>\n",
       "      <td>27593.0</td>\n",
       "      <td>13.4</td>\n",
       "      <td>177.58</td>\n",
       "    </tr>\n",
       "    <tr>\n",
       "      <th>1</th>\n",
       "      <td>Manitowoc</td>\n",
       "      <td>WI</td>\n",
       "      <td>78981.0</td>\n",
       "      <td>9.8</td>\n",
       "      <td>169.66</td>\n",
       "    </tr>\n",
       "    <tr>\n",
       "      <th>2</th>\n",
       "      <td>Marathon</td>\n",
       "      <td>WI</td>\n",
       "      <td>135692.0</td>\n",
       "      <td>13.4</td>\n",
       "      <td>209.30</td>\n",
       "    </tr>\n",
       "    <tr>\n",
       "      <th>3</th>\n",
       "      <td>Monroe</td>\n",
       "      <td>WI</td>\n",
       "      <td>46253.0</td>\n",
       "      <td>15.6</td>\n",
       "      <td>216.20</td>\n",
       "    </tr>\n",
       "    <tr>\n",
       "      <th>4</th>\n",
       "      <td>Portage</td>\n",
       "      <td>WI</td>\n",
       "      <td>70772.0</td>\n",
       "      <td>7.1</td>\n",
       "      <td>217.60</td>\n",
       "    </tr>\n",
       "  </tbody>\n",
       "</table>\n",
       "</div>"
      ],
      "text/plain": [
       "      county state  county_population  covid_hospital_admissions_per_100k  \\\n",
       "0    Lincoln    WI            27593.0                                13.4   \n",
       "1  Manitowoc    WI            78981.0                                 9.8   \n",
       "2   Marathon    WI           135692.0                                13.4   \n",
       "3     Monroe    WI            46253.0                                15.6   \n",
       "4    Portage    WI            70772.0                                 7.1   \n",
       "\n",
       "   covid_cases_per_100k  \n",
       "0                177.58  \n",
       "1                169.66  \n",
       "2                209.30  \n",
       "3                216.20  \n",
       "4                217.60  "
      ]
     },
     "execution_count": 21,
     "metadata": {},
     "output_type": "execute_result"
    }
   ],
   "source": [
    "# map the abbreviations to the state column\n",
    "com_df['state'] = com_df.state.map(abbreviations)\n",
    "com_df.head()"
   ]
  },
  {
   "cell_type": "markdown",
   "id": "7cb8ba55",
   "metadata": {
    "slideshow": {
     "slide_type": "notes"
    }
   },
   "source": [
    "And we'll check that all states converted."
   ]
  },
  {
   "cell_type": "code",
   "execution_count": 22,
   "id": "b870731e",
   "metadata": {
    "slideshow": {
     "slide_type": "subslide"
    }
   },
   "outputs": [
    {
     "data": {
      "text/plain": [
       "array(['WI', 'WY', 'PR', nan, 'AL', 'AK', 'AZ', 'AR', 'CA', 'CO', 'CT',\n",
       "       'FL', 'GA', 'HI', 'ID', 'IL', 'IN', 'IA', 'KS', 'KY', 'LA', 'ME',\n",
       "       'MD', 'MA', 'MI', 'MN', 'MS', 'MO', 'MT', 'NE', 'NV', 'NH', 'NJ',\n",
       "       'NM', 'NY', 'NC', 'ND', 'OH', 'OK', 'OR', 'PA', 'RI', 'SC', 'SD',\n",
       "       'TN', 'TX', 'UT', 'VT', 'VA', 'WA', 'WV', 'AS', 'DE', 'DC', 'GU'],\n",
       "      dtype=object)"
      ]
     },
     "execution_count": 22,
     "metadata": {},
     "output_type": "execute_result"
    }
   ],
   "source": [
    "# check the states all converted\n",
    "com_df.state.unique()"
   ]
  },
  {
   "cell_type": "markdown",
   "id": "871f0681",
   "metadata": {
    "slideshow": {
     "slide_type": "notes"
    }
   },
   "source": [
    "Now let's check the NA's again."
   ]
  },
  {
   "cell_type": "code",
   "execution_count": 23,
   "id": "fd8a3565",
   "metadata": {
    "slideshow": {
     "slide_type": "subslide"
    }
   },
   "outputs": [
    {
     "data": {
      "text/plain": [
       "county                                 0\n",
       "state                                 68\n",
       "county_population                      1\n",
       "covid_hospital_admissions_per_100k    58\n",
       "covid_cases_per_100k                   0\n",
       "dtype: int64"
      ]
     },
     "execution_count": 23,
     "metadata": {},
     "output_type": "execute_result"
    }
   ],
   "source": [
    "# how many nans? \n",
    "com_df.isna().sum()"
   ]
  },
  {
   "cell_type": "code",
   "execution_count": 24,
   "id": "f04b6ca1",
   "metadata": {
    "slideshow": {
     "slide_type": "subslide"
    }
   },
   "outputs": [
    {
     "data": {
      "text/plain": [
       "array(['United States Virgin Islands',\n",
       "       'Commonwealth of the Northern Mariana Islands'], dtype=object)"
      ]
     },
     "execution_count": 24,
     "metadata": {},
     "output_type": "execute_result"
    }
   ],
   "source": [
    "# view the counties with nans\n",
    "com_df[com_df['state'].isna()].county.unique()"
   ]
  },
  {
   "cell_type": "markdown",
   "id": "86df2a75",
   "metadata": {
    "slideshow": {
     "slide_type": "notes"
    }
   },
   "source": [
    "We decide to drop these territories and focus on the United States and Puerto Rico."
   ]
  },
  {
   "cell_type": "code",
   "execution_count": 25,
   "id": "3bbbf2cd",
   "metadata": {
    "slideshow": {
     "slide_type": "subslide"
    }
   },
   "outputs": [
    {
     "data": {
      "text/plain": [
       "0"
      ]
     },
     "execution_count": 25,
     "metadata": {},
     "output_type": "execute_result"
    }
   ],
   "source": [
    "# drop these territories\n",
    "com_df.dropna(inplace=True)\n",
    "com_df.state.isna().sum()"
   ]
  },
  {
   "cell_type": "markdown",
   "id": "0964e50b",
   "metadata": {
    "slideshow": {
     "slide_type": "notes"
    }
   },
   "source": [
    "We rename the columns,   "
   ]
  },
  {
   "cell_type": "code",
   "execution_count": 26,
   "id": "8dee40b4",
   "metadata": {
    "slideshow": {
     "slide_type": "subslide"
    }
   },
   "outputs": [
    {
     "data": {
      "text/html": [
       "<div>\n",
       "<style scoped>\n",
       "    .dataframe tbody tr th:only-of-type {\n",
       "        vertical-align: middle;\n",
       "    }\n",
       "\n",
       "    .dataframe tbody tr th {\n",
       "        vertical-align: top;\n",
       "    }\n",
       "\n",
       "    .dataframe thead th {\n",
       "        text-align: right;\n",
       "    }\n",
       "</style>\n",
       "<table border=\"1\" class=\"dataframe\">\n",
       "  <thead>\n",
       "    <tr style=\"text-align: right;\">\n",
       "      <th></th>\n",
       "      <th>county</th>\n",
       "      <th>state</th>\n",
       "      <th>population</th>\n",
       "      <th>hospital_100k</th>\n",
       "      <th>cases_100k</th>\n",
       "    </tr>\n",
       "  </thead>\n",
       "  <tbody>\n",
       "    <tr>\n",
       "      <th>0</th>\n",
       "      <td>Lincoln</td>\n",
       "      <td>WI</td>\n",
       "      <td>27593.0</td>\n",
       "      <td>13.4</td>\n",
       "      <td>177.58</td>\n",
       "    </tr>\n",
       "    <tr>\n",
       "      <th>1</th>\n",
       "      <td>Manitowoc</td>\n",
       "      <td>WI</td>\n",
       "      <td>78981.0</td>\n",
       "      <td>9.8</td>\n",
       "      <td>169.66</td>\n",
       "    </tr>\n",
       "    <tr>\n",
       "      <th>2</th>\n",
       "      <td>Marathon</td>\n",
       "      <td>WI</td>\n",
       "      <td>135692.0</td>\n",
       "      <td>13.4</td>\n",
       "      <td>209.30</td>\n",
       "    </tr>\n",
       "    <tr>\n",
       "      <th>3</th>\n",
       "      <td>Monroe</td>\n",
       "      <td>WI</td>\n",
       "      <td>46253.0</td>\n",
       "      <td>15.6</td>\n",
       "      <td>216.20</td>\n",
       "    </tr>\n",
       "    <tr>\n",
       "      <th>4</th>\n",
       "      <td>Portage</td>\n",
       "      <td>WI</td>\n",
       "      <td>70772.0</td>\n",
       "      <td>7.1</td>\n",
       "      <td>217.60</td>\n",
       "    </tr>\n",
       "  </tbody>\n",
       "</table>\n",
       "</div>"
      ],
      "text/plain": [
       "      county state  population  hospital_100k  cases_100k\n",
       "0    Lincoln    WI     27593.0           13.4      177.58\n",
       "1  Manitowoc    WI     78981.0            9.8      169.66\n",
       "2   Marathon    WI    135692.0           13.4      209.30\n",
       "3     Monroe    WI     46253.0           15.6      216.20\n",
       "4    Portage    WI     70772.0            7.1      217.60"
      ]
     },
     "execution_count": 26,
     "metadata": {},
     "output_type": "execute_result"
    }
   ],
   "source": [
    "# rename columns\n",
    "colnames = {'county_population':'population','covid_hospital_admissions_per_100k':'hospital_100k', 'covid_cases_per_100k':'cases_100k'}\n",
    "com_df.rename(colnames, axis=1, inplace=True)\n",
    "com_df.head()"
   ]
  },
  {
   "cell_type": "markdown",
   "id": "01e37de3",
   "metadata": {
    "slideshow": {
     "slide_type": "notes"
    }
   },
   "source": [
    "And aggregate, first by county and state mean totals, then by the sum of the population and the mean of hospital and cases. "
   ]
  },
  {
   "cell_type": "code",
   "execution_count": 27,
   "id": "f2e51a65",
   "metadata": {
    "slideshow": {
     "slide_type": "subslide"
    }
   },
   "outputs": [
    {
     "data": {
      "text/plain": [
       "332162269.0229167"
      ]
     },
     "execution_count": 27,
     "metadata": {},
     "output_type": "execute_result"
    }
   ],
   "source": [
    "# aggregate first by county and state mean totals, then sum population by state and mean hospital and cases\n",
    "com_df = com_df.groupby(['county','state'])[['population','hospital_100k','cases_100k']].mean().reset_index()\n",
    "com_df = com_df.groupby('state').agg(population=('population','sum'),\n",
    "                                                  hospital_100k=('hospital_100k','mean'),\n",
    "                                                  cases_100k=('cases_100k','mean')).reset_index()\n",
    "com_df.population.sum()"
   ]
  },
  {
   "cell_type": "markdown",
   "id": "5edaf857",
   "metadata": {
    "slideshow": {
     "slide_type": "notes"
    }
   },
   "source": [
    "Then we write the file for storage."
   ]
  },
  {
   "cell_type": "code",
   "execution_count": 28,
   "id": "9166dcf1",
   "metadata": {
    "slideshow": {
     "slide_type": "subslide"
    }
   },
   "outputs": [],
   "source": [
    "# write to file for storage\n",
    "filepath = '/Users/joshiden/Documents/Classes/CUNY SPS/Fall 2022/DATA 602/DATA-602/FINAL_PROJECT/com_data_cleaned.csv'\n",
    "com_df.to_csv(filepath, index=False)"
   ]
  },
  {
   "cell_type": "markdown",
   "id": "4d818f08",
   "metadata": {
    "slideshow": {
     "slide_type": "subslide"
    }
   },
   "source": [
    "### COMBININING THE DATASETS"
   ]
  },
  {
   "cell_type": "markdown",
   "id": "a4fd84e3",
   "metadata": {
    "slideshow": {
     "slide_type": "notes"
    }
   },
   "source": [
    "Now we read in the cleaned individual datasets."
   ]
  },
  {
   "cell_type": "code",
   "execution_count": 29,
   "id": "58bd69b8",
   "metadata": {
    "slideshow": {
     "slide_type": "subslide"
    }
   },
   "outputs": [
    {
     "data": {
      "text/html": [
       "<div>\n",
       "<style scoped>\n",
       "    .dataframe tbody tr th:only-of-type {\n",
       "        vertical-align: middle;\n",
       "    }\n",
       "\n",
       "    .dataframe tbody tr th {\n",
       "        vertical-align: top;\n",
       "    }\n",
       "\n",
       "    .dataframe thead th {\n",
       "        text-align: right;\n",
       "    }\n",
       "</style>\n",
       "<table border=\"1\" class=\"dataframe\">\n",
       "  <thead>\n",
       "    <tr style=\"text-align: right;\">\n",
       "      <th></th>\n",
       "      <th>state</th>\n",
       "      <th>total_deaths</th>\n",
       "    </tr>\n",
       "  </thead>\n",
       "  <tbody>\n",
       "    <tr>\n",
       "      <th>0</th>\n",
       "      <td>AK</td>\n",
       "      <td>1332.0</td>\n",
       "    </tr>\n",
       "    <tr>\n",
       "      <th>1</th>\n",
       "      <td>AL</td>\n",
       "      <td>20229.0</td>\n",
       "    </tr>\n",
       "    <tr>\n",
       "      <th>2</th>\n",
       "      <td>AR</td>\n",
       "      <td>11783.0</td>\n",
       "    </tr>\n",
       "    <tr>\n",
       "      <th>3</th>\n",
       "      <td>AZ</td>\n",
       "      <td>28353.0</td>\n",
       "    </tr>\n",
       "    <tr>\n",
       "      <th>4</th>\n",
       "      <td>CA</td>\n",
       "      <td>100927.0</td>\n",
       "    </tr>\n",
       "  </tbody>\n",
       "</table>\n",
       "</div>"
      ],
      "text/plain": [
       "  state  total_deaths\n",
       "0    AK        1332.0\n",
       "1    AL       20229.0\n",
       "2    AR       11783.0\n",
       "3    AZ       28353.0\n",
       "4    CA      100927.0"
      ]
     },
     "execution_count": 29,
     "metadata": {},
     "output_type": "execute_result"
    }
   ],
   "source": [
    "# read in clean provisional data from github, aggregate by state\n",
    "pro_df = pd.read_csv('https://raw.githubusercontent.com/josh1den/DATA-602/main/FINAL_PROJECT/CLEANED/pro_data_cleaned.csv')\n",
    "pro_df = pro_df.groupby('state')['total_deaths'].sum().reset_index()\n",
    "pro_df.head()"
   ]
  },
  {
   "cell_type": "code",
   "execution_count": 30,
   "id": "8385a884",
   "metadata": {
    "slideshow": {
     "slide_type": "subslide"
    }
   },
   "outputs": [
    {
     "data": {
      "text/html": [
       "<div>\n",
       "<style scoped>\n",
       "    .dataframe tbody tr th:only-of-type {\n",
       "        vertical-align: middle;\n",
       "    }\n",
       "\n",
       "    .dataframe tbody tr th {\n",
       "        vertical-align: top;\n",
       "    }\n",
       "\n",
       "    .dataframe thead th {\n",
       "        text-align: right;\n",
       "    }\n",
       "</style>\n",
       "<table border=\"1\" class=\"dataframe\">\n",
       "  <thead>\n",
       "    <tr style=\"text-align: right;\">\n",
       "      <th></th>\n",
       "      <th>state</th>\n",
       "      <th>total_income</th>\n",
       "    </tr>\n",
       "  </thead>\n",
       "  <tbody>\n",
       "    <tr>\n",
       "      <th>0</th>\n",
       "      <td>CA</td>\n",
       "      <td>3.399587e+09</td>\n",
       "    </tr>\n",
       "    <tr>\n",
       "      <th>1</th>\n",
       "      <td>TX</td>\n",
       "      <td>2.009629e+09</td>\n",
       "    </tr>\n",
       "    <tr>\n",
       "      <th>2</th>\n",
       "      <td>NY</td>\n",
       "      <td>1.773392e+09</td>\n",
       "    </tr>\n",
       "    <tr>\n",
       "      <th>3</th>\n",
       "      <td>FL</td>\n",
       "      <td>1.632665e+09</td>\n",
       "    </tr>\n",
       "    <tr>\n",
       "      <th>4</th>\n",
       "      <td>IL</td>\n",
       "      <td>9.923638e+08</td>\n",
       "    </tr>\n",
       "  </tbody>\n",
       "</table>\n",
       "</div>"
      ],
      "text/plain": [
       "  state  total_income\n",
       "0    CA  3.399587e+09\n",
       "1    TX  2.009629e+09\n",
       "2    NY  1.773392e+09\n",
       "3    FL  1.632665e+09\n",
       "4    IL  9.923638e+08"
      ]
     },
     "execution_count": 30,
     "metadata": {},
     "output_type": "execute_result"
    }
   ],
   "source": [
    "# read in clean irs data from github\n",
    "irs_df = pd.read_csv('https://raw.githubusercontent.com/josh1den/DATA-602/main/FINAL_PROJECT/CLEANED/irs_data_cleaned.csv')\n",
    "irs_df.head()"
   ]
  },
  {
   "cell_type": "code",
   "execution_count": 31,
   "id": "19ea388d",
   "metadata": {
    "slideshow": {
     "slide_type": "subslide"
    }
   },
   "outputs": [
    {
     "data": {
      "text/html": [
       "<div>\n",
       "<style scoped>\n",
       "    .dataframe tbody tr th:only-of-type {\n",
       "        vertical-align: middle;\n",
       "    }\n",
       "\n",
       "    .dataframe tbody tr th {\n",
       "        vertical-align: top;\n",
       "    }\n",
       "\n",
       "    .dataframe thead th {\n",
       "        text-align: right;\n",
       "    }\n",
       "</style>\n",
       "<table border=\"1\" class=\"dataframe\">\n",
       "  <thead>\n",
       "    <tr style=\"text-align: right;\">\n",
       "      <th></th>\n",
       "      <th>state</th>\n",
       "      <th>population</th>\n",
       "      <th>hospital_100k</th>\n",
       "      <th>cases_100k</th>\n",
       "    </tr>\n",
       "  </thead>\n",
       "  <tbody>\n",
       "    <tr>\n",
       "      <th>0</th>\n",
       "      <td>AK</td>\n",
       "      <td>1.126956e+06</td>\n",
       "      <td>7.626073</td>\n",
       "      <td>304.769059</td>\n",
       "    </tr>\n",
       "    <tr>\n",
       "      <th>1</th>\n",
       "      <td>AL</td>\n",
       "      <td>4.903185e+06</td>\n",
       "      <td>7.755949</td>\n",
       "      <td>146.164482</td>\n",
       "    </tr>\n",
       "    <tr>\n",
       "      <th>2</th>\n",
       "      <td>AR</td>\n",
       "      <td>3.017804e+06</td>\n",
       "      <td>7.716385</td>\n",
       "      <td>129.786189</td>\n",
       "    </tr>\n",
       "    <tr>\n",
       "      <th>3</th>\n",
       "      <td>AS</td>\n",
       "      <td>5.250237e+04</td>\n",
       "      <td>13.650000</td>\n",
       "      <td>534.829333</td>\n",
       "    </tr>\n",
       "    <tr>\n",
       "      <th>4</th>\n",
       "      <td>AZ</td>\n",
       "      <td>7.278717e+06</td>\n",
       "      <td>8.377905</td>\n",
       "      <td>144.123714</td>\n",
       "    </tr>\n",
       "  </tbody>\n",
       "</table>\n",
       "</div>"
      ],
      "text/plain": [
       "  state    population  hospital_100k  cases_100k\n",
       "0    AK  1.126956e+06       7.626073  304.769059\n",
       "1    AL  4.903185e+06       7.755949  146.164482\n",
       "2    AR  3.017804e+06       7.716385  129.786189\n",
       "3    AS  5.250237e+04      13.650000  534.829333\n",
       "4    AZ  7.278717e+06       8.377905  144.123714"
      ]
     },
     "execution_count": 31,
     "metadata": {},
     "output_type": "execute_result"
    }
   ],
   "source": [
    "# read in clean community data from github\n",
    "com_df = pd.read_csv('https://raw.githubusercontent.com/josh1den/DATA-602/main/FINAL_PROJECT/CLEANED/com_data_cleaned.csv')\n",
    "com_df.head()"
   ]
  },
  {
   "cell_type": "markdown",
   "id": "e0657d78",
   "metadata": {
    "slideshow": {
     "slide_type": "notes"
    }
   },
   "source": [
    "And we can combine the datasets on the state column, which we'll store in the project repository. "
   ]
  },
  {
   "cell_type": "code",
   "execution_count": 32,
   "id": "b0240b85",
   "metadata": {
    "slideshow": {
     "slide_type": "subslide"
    }
   },
   "outputs": [
    {
     "data": {
      "text/html": [
       "<div>\n",
       "<style scoped>\n",
       "    .dataframe tbody tr th:only-of-type {\n",
       "        vertical-align: middle;\n",
       "    }\n",
       "\n",
       "    .dataframe tbody tr th {\n",
       "        vertical-align: top;\n",
       "    }\n",
       "\n",
       "    .dataframe thead th {\n",
       "        text-align: right;\n",
       "    }\n",
       "</style>\n",
       "<table border=\"1\" class=\"dataframe\">\n",
       "  <thead>\n",
       "    <tr style=\"text-align: right;\">\n",
       "      <th></th>\n",
       "      <th>state</th>\n",
       "      <th>total_income</th>\n",
       "      <th>total_deaths</th>\n",
       "      <th>population</th>\n",
       "      <th>hospital_100k</th>\n",
       "      <th>cases_100k</th>\n",
       "    </tr>\n",
       "  </thead>\n",
       "  <tbody>\n",
       "    <tr>\n",
       "      <th>0</th>\n",
       "      <td>CA</td>\n",
       "      <td>3.399587e+09</td>\n",
       "      <td>100927.0</td>\n",
       "      <td>39512223.0</td>\n",
       "      <td>7.858571</td>\n",
       "      <td>156.901271</td>\n",
       "    </tr>\n",
       "    <tr>\n",
       "      <th>1</th>\n",
       "      <td>TX</td>\n",
       "      <td>2.009629e+09</td>\n",
       "      <td>98883.0</td>\n",
       "      <td>28995881.0</td>\n",
       "      <td>6.498470</td>\n",
       "      <td>133.972121</td>\n",
       "    </tr>\n",
       "    <tr>\n",
       "      <th>2</th>\n",
       "      <td>NY</td>\n",
       "      <td>1.773392e+09</td>\n",
       "      <td>74666.0</td>\n",
       "      <td>19453561.0</td>\n",
       "      <td>10.102304</td>\n",
       "      <td>156.108995</td>\n",
       "    </tr>\n",
       "    <tr>\n",
       "      <th>3</th>\n",
       "      <td>FL</td>\n",
       "      <td>1.632665e+09</td>\n",
       "      <td>75799.0</td>\n",
       "      <td>21477737.0</td>\n",
       "      <td>12.335991</td>\n",
       "      <td>150.614136</td>\n",
       "    </tr>\n",
       "    <tr>\n",
       "      <th>4</th>\n",
       "      <td>IL</td>\n",
       "      <td>9.923638e+08</td>\n",
       "      <td>36124.0</td>\n",
       "      <td>12671821.0</td>\n",
       "      <td>7.805630</td>\n",
       "      <td>161.801387</td>\n",
       "    </tr>\n",
       "  </tbody>\n",
       "</table>\n",
       "</div>"
      ],
      "text/plain": [
       "  state  total_income  total_deaths  population  hospital_100k  cases_100k\n",
       "0    CA  3.399587e+09      100927.0  39512223.0       7.858571  156.901271\n",
       "1    TX  2.009629e+09       98883.0  28995881.0       6.498470  133.972121\n",
       "2    NY  1.773392e+09       74666.0  19453561.0      10.102304  156.108995\n",
       "3    FL  1.632665e+09       75799.0  21477737.0      12.335991  150.614136\n",
       "4    IL  9.923638e+08       36124.0  12671821.0       7.805630  161.801387"
      ]
     },
     "execution_count": 32,
     "metadata": {},
     "output_type": "execute_result"
    }
   ],
   "source": [
    "# combining the datasets\n",
    "master_df = irs_df.merge(pro_df, on='state')\n",
    "master_df = master_df.merge(com_df, how='left', on='state')\n",
    "master_df.head()"
   ]
  },
  {
   "cell_type": "code",
   "execution_count": 33,
   "id": "1b89f61a",
   "metadata": {
    "slideshow": {
     "slide_type": "subslide"
    }
   },
   "outputs": [],
   "source": [
    "# write master dataframe to file\n",
    "filepath = '/Users/joshiden/Documents/Classes/CUNY SPS/Fall 2022/DATA 602/DATA-602/FINAL_PROJECT/master_data_cleaned.csv'\n",
    "master_df.to_csv(filepath, index=False)"
   ]
  },
  {
   "cell_type": "markdown",
   "id": "c8dc9d01",
   "metadata": {
    "slideshow": {
     "slide_type": "notes"
    }
   },
   "source": [
    "Now reading in the cleaned master data we view some summary statistics, and we can take a look at histograms of the columns."
   ]
  },
  {
   "cell_type": "code",
   "execution_count": 34,
   "id": "952b791c",
   "metadata": {
    "slideshow": {
     "slide_type": "skip"
    }
   },
   "outputs": [],
   "source": [
    "# read master data\n",
    "master_df = pd.read_csv('https://raw.githubusercontent.com/josh1den/DATA-602/main/FINAL_PROJECT/CLEANED/master_data_cleaned.csv')"
   ]
  },
  {
   "cell_type": "code",
   "execution_count": 35,
   "id": "4b396c23",
   "metadata": {
    "slideshow": {
     "slide_type": "subslide"
    }
   },
   "outputs": [
    {
     "data": {
      "text/html": [
       "<div>\n",
       "<style scoped>\n",
       "    .dataframe tbody tr th:only-of-type {\n",
       "        vertical-align: middle;\n",
       "    }\n",
       "\n",
       "    .dataframe tbody tr th {\n",
       "        vertical-align: top;\n",
       "    }\n",
       "\n",
       "    .dataframe thead th {\n",
       "        text-align: right;\n",
       "    }\n",
       "</style>\n",
       "<table border=\"1\" class=\"dataframe\">\n",
       "  <thead>\n",
       "    <tr style=\"text-align: right;\">\n",
       "      <th></th>\n",
       "      <th>total_income</th>\n",
       "      <th>total_deaths</th>\n",
       "      <th>population</th>\n",
       "      <th>hospital_100k</th>\n",
       "      <th>cases_100k</th>\n",
       "    </tr>\n",
       "  </thead>\n",
       "  <tbody>\n",
       "    <tr>\n",
       "      <th>count</th>\n",
       "      <td>5.100000e+01</td>\n",
       "      <td>51.000000</td>\n",
       "      <td>5.100000e+01</td>\n",
       "      <td>51.000000</td>\n",
       "      <td>51.000000</td>\n",
       "    </tr>\n",
       "    <tr>\n",
       "      <th>mean</th>\n",
       "      <td>4.774958e+08</td>\n",
       "      <td>20757.588235</td>\n",
       "      <td>6.446066e+06</td>\n",
       "      <td>7.866107</td>\n",
       "      <td>143.363021</td>\n",
       "    </tr>\n",
       "    <tr>\n",
       "      <th>std</th>\n",
       "      <td>6.031419e+08</td>\n",
       "      <td>23191.898306</td>\n",
       "      <td>7.353082e+06</td>\n",
       "      <td>1.677785</td>\n",
       "      <td>36.455433</td>\n",
       "    </tr>\n",
       "    <tr>\n",
       "      <th>min</th>\n",
       "      <td>4.574175e+07</td>\n",
       "      <td>755.000000</td>\n",
       "      <td>5.787590e+05</td>\n",
       "      <td>4.934719</td>\n",
       "      <td>83.310571</td>\n",
       "    </tr>\n",
       "    <tr>\n",
       "      <th>25%</th>\n",
       "      <td>1.120052e+08</td>\n",
       "      <td>5150.000000</td>\n",
       "      <td>1.789606e+06</td>\n",
       "      <td>6.836958</td>\n",
       "      <td>117.627670</td>\n",
       "    </tr>\n",
       "    <tr>\n",
       "      <th>50%</th>\n",
       "      <td>2.642595e+08</td>\n",
       "      <td>13932.000000</td>\n",
       "      <td>4.467673e+06</td>\n",
       "      <td>7.463016</td>\n",
       "      <td>134.534032</td>\n",
       "    </tr>\n",
       "    <tr>\n",
       "      <th>75%</th>\n",
       "      <td>6.539656e+08</td>\n",
       "      <td>26469.000000</td>\n",
       "      <td>7.446805e+06</td>\n",
       "      <td>8.516739</td>\n",
       "      <td>156.505133</td>\n",
       "    </tr>\n",
       "    <tr>\n",
       "      <th>max</th>\n",
       "      <td>3.399587e+09</td>\n",
       "      <td>100927.000000</td>\n",
       "      <td>3.951222e+07</td>\n",
       "      <td>12.463117</td>\n",
       "      <td>304.769059</td>\n",
       "    </tr>\n",
       "  </tbody>\n",
       "</table>\n",
       "</div>"
      ],
      "text/plain": [
       "       total_income   total_deaths    population  hospital_100k  cases_100k\n",
       "count  5.100000e+01      51.000000  5.100000e+01      51.000000   51.000000\n",
       "mean   4.774958e+08   20757.588235  6.446066e+06       7.866107  143.363021\n",
       "std    6.031419e+08   23191.898306  7.353082e+06       1.677785   36.455433\n",
       "min    4.574175e+07     755.000000  5.787590e+05       4.934719   83.310571\n",
       "25%    1.120052e+08    5150.000000  1.789606e+06       6.836958  117.627670\n",
       "50%    2.642595e+08   13932.000000  4.467673e+06       7.463016  134.534032\n",
       "75%    6.539656e+08   26469.000000  7.446805e+06       8.516739  156.505133\n",
       "max    3.399587e+09  100927.000000  3.951222e+07      12.463117  304.769059"
      ]
     },
     "execution_count": 35,
     "metadata": {},
     "output_type": "execute_result"
    }
   ],
   "source": [
    "# view summary statistics\n",
    "master_df.describe()"
   ]
  },
  {
   "cell_type": "markdown",
   "id": "dcc0b504",
   "metadata": {
    "slideshow": {
     "slide_type": "notes"
    }
   },
   "source": [
    "Now we have one master dataset containing all of the desired data. Let's take a look at histograms of each column. "
   ]
  },
  {
   "cell_type": "code",
   "execution_count": 36,
   "id": "f6431993",
   "metadata": {
    "slideshow": {
     "slide_type": "subslide"
    }
   },
   "outputs": [
    {
     "data": {
      "image/png": "[encoded data removed]",
      "text/plain": [
       "<Figure size 1296x144 with 5 Axes>"
      ]
     },
     "metadata": {},
     "output_type": "display_data"
    }
   ],
   "source": [
    "column_slice = master_df.iloc[:,1:]\n",
    "fig, axis = plt.subplots(1,5,figsize=(18, 2))\n",
    "column_slice.hist(ax=axis);"
   ]
  },
  {
   "cell_type": "markdown",
   "id": "8e2299d2",
   "metadata": {
    "slideshow": {
     "slide_type": "notes"
    }
   },
   "source": [
    "We can see the only columns close to a normal distribution are hospitalizations and cases, though both are right skewed. As our interest lies in the relationships, we can produce scatter plots to observe any linearity between the variables."
   ]
  },
  {
   "cell_type": "code",
   "execution_count": 37,
   "id": "76700f30",
   "metadata": {
    "slideshow": {
     "slide_type": "subslide"
    }
   },
   "outputs": [
    {
     "data": {
      "image/png": "[encoded data removed]",
      "text/plain": [
       "<Figure size 900x900 with 30 Axes>"
      ]
     },
     "metadata": {},
     "output_type": "display_data"
    }
   ],
   "source": [
    "# pairs plot using seaborn\n",
    "sns.pairplot(master_df);"
   ]
  },
  {
   "cell_type": "markdown",
   "id": "67fbcbbd",
   "metadata": {
    "slideshow": {
     "slide_type": "notes"
    }
   },
   "source": [
    "We observe population appears to have a linear relationship with total income and total death, unsurprisingly -- the more people, the more money and the more fatalities. We also observe total income to have a relationship with total death. With this in mind, we transform these three categories to produce income_per_capita and death_rate columns."
   ]
  },
  {
   "cell_type": "code",
   "execution_count": 38,
   "id": "31f3b6b2",
   "metadata": {
    "slideshow": {
     "slide_type": "subslide"
    }
   },
   "outputs": [
    {
     "data": {
      "text/html": [
       "<div>\n",
       "<style scoped>\n",
       "    .dataframe tbody tr th:only-of-type {\n",
       "        vertical-align: middle;\n",
       "    }\n",
       "\n",
       "    .dataframe tbody tr th {\n",
       "        vertical-align: top;\n",
       "    }\n",
       "\n",
       "    .dataframe thead th {\n",
       "        text-align: right;\n",
       "    }\n",
       "</style>\n",
       "<table border=\"1\" class=\"dataframe\">\n",
       "  <thead>\n",
       "    <tr style=\"text-align: right;\">\n",
       "      <th></th>\n",
       "      <th>state</th>\n",
       "      <th>total_income</th>\n",
       "      <th>total_deaths</th>\n",
       "      <th>population</th>\n",
       "      <th>hospital_100k</th>\n",
       "      <th>cases_100k</th>\n",
       "      <th>income_per_capita</th>\n",
       "      <th>death_rate</th>\n",
       "    </tr>\n",
       "  </thead>\n",
       "  <tbody>\n",
       "    <tr>\n",
       "      <th>0</th>\n",
       "      <td>CA</td>\n",
       "      <td>3.399587e+09</td>\n",
       "      <td>100927.0</td>\n",
       "      <td>39512223.0</td>\n",
       "      <td>7.858571</td>\n",
       "      <td>156.901271</td>\n",
       "      <td>86038.868683</td>\n",
       "      <td>0.002554</td>\n",
       "    </tr>\n",
       "    <tr>\n",
       "      <th>1</th>\n",
       "      <td>TX</td>\n",
       "      <td>2.009629e+09</td>\n",
       "      <td>98883.0</td>\n",
       "      <td>28995881.0</td>\n",
       "      <td>6.498470</td>\n",
       "      <td>133.972121</td>\n",
       "      <td>69307.405769</td>\n",
       "      <td>0.003410</td>\n",
       "    </tr>\n",
       "    <tr>\n",
       "      <th>2</th>\n",
       "      <td>NY</td>\n",
       "      <td>1.773392e+09</td>\n",
       "      <td>74666.0</td>\n",
       "      <td>19453561.0</td>\n",
       "      <td>10.102304</td>\n",
       "      <td>156.108995</td>\n",
       "      <td>91160.282794</td>\n",
       "      <td>0.003838</td>\n",
       "    </tr>\n",
       "    <tr>\n",
       "      <th>3</th>\n",
       "      <td>FL</td>\n",
       "      <td>1.632665e+09</td>\n",
       "      <td>75799.0</td>\n",
       "      <td>21477737.0</td>\n",
       "      <td>12.335991</td>\n",
       "      <td>150.614136</td>\n",
       "      <td>76016.626892</td>\n",
       "      <td>0.003529</td>\n",
       "    </tr>\n",
       "    <tr>\n",
       "      <th>4</th>\n",
       "      <td>IL</td>\n",
       "      <td>9.923638e+08</td>\n",
       "      <td>36124.0</td>\n",
       "      <td>12671821.0</td>\n",
       "      <td>7.805630</td>\n",
       "      <td>161.801387</td>\n",
       "      <td>78312.646629</td>\n",
       "      <td>0.002851</td>\n",
       "    </tr>\n",
       "  </tbody>\n",
       "</table>\n",
       "</div>"
      ],
      "text/plain": [
       "  state  total_income  total_deaths  population  hospital_100k  cases_100k  \\\n",
       "0    CA  3.399587e+09      100927.0  39512223.0       7.858571  156.901271   \n",
       "1    TX  2.009629e+09       98883.0  28995881.0       6.498470  133.972121   \n",
       "2    NY  1.773392e+09       74666.0  19453561.0      10.102304  156.108995   \n",
       "3    FL  1.632665e+09       75799.0  21477737.0      12.335991  150.614136   \n",
       "4    IL  9.923638e+08       36124.0  12671821.0       7.805630  161.801387   \n",
       "\n",
       "   income_per_capita  death_rate  \n",
       "0       86038.868683    0.002554  \n",
       "1       69307.405769    0.003410  \n",
       "2       91160.282794    0.003838  \n",
       "3       76016.626892    0.003529  \n",
       "4       78312.646629    0.002851  "
      ]
     },
     "execution_count": 38,
     "metadata": {},
     "output_type": "execute_result"
    }
   ],
   "source": [
    "# per capita income, death rate columns\n",
    "master_df['income_per_capita'] = master_df['total_income']/ master_df['population'] * 1000\n",
    "master_df['death_rate'] = master_df['total_deaths'] / master_df['population']\n",
    "master_df.head()"
   ]
  },
  {
   "cell_type": "markdown",
   "id": "8c71696e",
   "metadata": {
    "slideshow": {
     "slide_type": "notes"
    }
   },
   "source": [
    "Now let's take a look at scatter plots with the transformed variables."
   ]
  },
  {
   "cell_type": "code",
   "execution_count": 39,
   "id": "31e93d00",
   "metadata": {
    "slideshow": {
     "slide_type": "subslide"
    }
   },
   "outputs": [
    {
     "data": {
      "image/png": "[encoded data removed]",
      "text/plain": [
       "<Figure size 720x720 with 20 Axes>"
      ]
     },
     "metadata": {},
     "output_type": "display_data"
    }
   ],
   "source": [
    "# pairs plot of rate columns\n",
    "pairs_slice = master_df.iloc[:,4:]\n",
    "sns.pairplot(pairs_slice);"
   ]
  },
  {
   "cell_type": "markdown",
   "id": "e9e399c6",
   "metadata": {
    "slideshow": {
     "slide_type": "notes"
    }
   },
   "source": [
    "We see amongst the new variables, the only noticeable relationship is between death rate and income per capita, so let's focus on those two variables and see if they satisfy the conditions for an ordinary least squares regression model."
   ]
  },
  {
   "cell_type": "code",
   "execution_count": 40,
   "id": "ad9ca005",
   "metadata": {
    "slideshow": {
     "slide_type": "subslide"
    }
   },
   "outputs": [
    {
     "data": {
      "image/png": "[encoded data removed]",
      "text/plain": [
       "<Figure size 432x288 with 1 Axes>"
      ]
     },
     "metadata": {},
     "output_type": "display_data"
    }
   ],
   "source": [
    "# plot the regression line\n",
    "sns.regplot(x='income_per_capita', y='death_rate', data=master_df, line_kws={'color': 'red'})\n",
    "plt.xlabel('income per capita')\n",
    "plt.ylabel('death rate')\n",
    "plt.title('regression plot')\n",
    "plt.show();"
   ]
  },
  {
   "cell_type": "markdown",
   "id": "8e0ba813",
   "metadata": {
    "slideshow": {
     "slide_type": "notes"
    }
   },
   "source": [
    "We observe there is a modest linear relationship between variables with a substantial standard error as represented by the shadowed red in the plot. "
   ]
  },
  {
   "cell_type": "markdown",
   "id": "5a06b786",
   "metadata": {
    "slideshow": {
     "slide_type": "slide"
    }
   },
   "source": [
    "### REGRESSION MODEL"
   ]
  },
  {
   "cell_type": "markdown",
   "id": "016eef38",
   "metadata": {
    "slideshow": {
     "slide_type": "notes"
    }
   },
   "source": [
    "We can build a regression model for the data using the statsmodels package. We define the response and predictor variables and add a constant to the model. We then fit the model and print a summary. "
   ]
  },
  {
   "cell_type": "code",
   "execution_count": 42,
   "id": "fa458f43",
   "metadata": {
    "slideshow": {
     "slide_type": "subslide"
    }
   },
   "outputs": [
    {
     "name": "stdout",
     "output_type": "stream",
     "text": [
      "                            OLS Regression Results                            \n",
      "==============================================================================\n",
      "Dep. Variable:             death_rate   R-squared:                       0.102\n",
      "Model:                            OLS   Adj. R-squared:                  0.084\n",
      "Method:                 Least Squares   F-statistic:                     5.584\n",
      "Date:                Sat, 10 Dec 2022   Prob (F-statistic):             0.0221\n",
      "Time:                        15:08:31   Log-Likelihood:                 291.62\n",
      "No. Observations:                  51   AIC:                            -579.2\n",
      "Df Residuals:                      49   BIC:                            -575.4\n",
      "Df Model:                           1                                         \n",
      "Covariance Type:            nonrobust                                         \n",
      "=====================================================================================\n",
      "                        coef    std err          t      P>|t|      [0.025      0.975]\n",
      "-------------------------------------------------------------------------------------\n",
      "const                 0.0044      0.001      7.929      0.000       0.003       0.006\n",
      "income_per_capita  -1.82e-08    7.7e-09     -2.363      0.022   -3.37e-08   -2.72e-09\n",
      "==============================================================================\n",
      "Omnibus:                       11.052   Durbin-Watson:                   1.826\n",
      "Prob(Omnibus):                  0.004   Jarque-Bera (JB):               10.920\n",
      "Skew:                          -1.070   Prob(JB):                      0.00425\n",
      "Kurtosis:                       3.748   Cond. No.                     3.54e+05\n",
      "==============================================================================\n",
      "\n",
      "Notes:\n",
      "[1] Standard Errors assume that the covariance matrix of the errors is correctly specified.\n",
      "[2] The condition number is large, 3.54e+05. This might indicate that there are\n",
      "strong multicollinearity or other numerical problems.\n"
     ]
    }
   ],
   "source": [
    "#define response variable\n",
    "y = master_df['death_rate']\n",
    "\n",
    "#define predictor variables\n",
    "x = master_df['income_per_capita']\n",
    "\n",
    "#add constant to predictor variables\n",
    "x = sm.add_constant(x)\n",
    "\n",
    "#fit linear regression model\n",
    "model_full = sm.OLS(y, x).fit()\n",
    "\n",
    "#view model summary\n",
    "print(model_full.summary())"
   ]
  },
  {
   "cell_type": "markdown",
   "id": "88e257bc",
   "metadata": {
    "slideshow": {
     "slide_type": "notes"
    }
   },
   "source": [
    "We can see from the Durbin-Watson score that the variables are not auto-correlated, establishing independence. But we can also see by the R-squared value that the income per capita accounts for only 10% of the variance in death rate. We do observe that income per capita has a p-value below alpha 0.05, indicating it is significant towards death rate. Let's take a look at the residuals to see if they satisfy the conditions for ordinary least squares regression."
   ]
  },
  {
   "cell_type": "markdown",
   "id": "ba27c9d6",
   "metadata": {
    "slideshow": {
     "slide_type": "notes"
    }
   },
   "source": [
    "We can plot a histogram of the residuals, "
   ]
  },
  {
   "cell_type": "code",
   "execution_count": 43,
   "id": "ae6c3db6",
   "metadata": {
    "slideshow": {
     "slide_type": "subslide"
    }
   },
   "outputs": [
    {
     "data": {
      "image/png": "[encoded data removed]",
      "text/plain": [
       "<Figure size 432x288 with 1 Axes>"
      ]
     },
     "metadata": {},
     "output_type": "display_data"
    }
   ],
   "source": [
    "# generate histogram\n",
    "sns.histplot(model_full.resid)\n",
    "plt.xlabel('Residuals')\n",
    "plt.title('Histogram');"
   ]
  },
  {
   "cell_type": "code",
   "execution_count": 44,
   "id": "200dc9f6",
   "metadata": {
    "slideshow": {
     "slide_type": "subslide"
    }
   },
   "outputs": [
    {
     "data": {
      "image/png": "[encoded data removed]",
      "text/plain": [
       "<Figure size 432x288 with 1 Axes>"
      ]
     },
     "metadata": {},
     "output_type": "display_data"
    }
   ],
   "source": [
    "# generate Q-Q plot\n",
    "res = model_full.resid # residuals\n",
    "fig = sm.qqplot(res, line='s')\n",
    "plt.title('Normal Q-Q')\n",
    "plt.show()"
   ]
  },
  {
   "cell_type": "markdown",
   "id": "128493a3",
   "metadata": {
    "slideshow": {
     "slide_type": "notes"
    }
   },
   "source": [
    "We can see the residuals do not satisfy the condition of normality for simple linear regression. Let's see if there are any outliers."
   ]
  },
  {
   "cell_type": "code",
   "execution_count": 45,
   "id": "08142338",
   "metadata": {
    "slideshow": {
     "slide_type": "subslide"
    }
   },
   "outputs": [
    {
     "data": {
      "image/png": "[encoded data removed]",
      "text/plain": [
       "<Figure size 432x288 with 1 Axes>"
      ]
     },
     "metadata": {},
     "output_type": "display_data"
    }
   ],
   "source": [
    "# residuals vs. leverage plot\n",
    "fig = sm.graphics.influence_plot(model_full, criterion=\"cooks\")\n",
    "fig.tight_layout(pad=1.0)"
   ]
  },
  {
   "cell_type": "markdown",
   "id": "ba25841b",
   "metadata": {
    "slideshow": {
     "slide_type": "notes"
    }
   },
   "source": [
    "We can see there are some influential cases affecting the model. This makes sense as we are aware of the presence of outliers from the scatterplot. "
   ]
  },
  {
   "cell_type": "code",
   "execution_count": 46,
   "id": "6c8edf56",
   "metadata": {
    "slideshow": {
     "slide_type": "subslide"
    }
   },
   "outputs": [
    {
     "name": "stdout",
     "output_type": "stream",
     "text": [
      "eval_env: 1\n"
     ]
    },
    {
     "data": {
      "image/png": "[encoded data removed]",
      "text/plain": [
       "<Figure size 864x576 with 4 Axes>"
      ]
     },
     "metadata": {},
     "output_type": "display_data"
    }
   ],
   "source": [
    "#define figure size\n",
    "fig = plt.figure(figsize=(12,8))\n",
    "\n",
    "#produce regression plots\n",
    "fig = sm.graphics.plot_regress_exog(model_full, 'income_per_capita', fig=fig);"
   ]
  },
  {
   "cell_type": "markdown",
   "id": "6c1e31b9",
   "metadata": {
    "slideshow": {
     "slide_type": "notes"
    }
   },
   "source": [
    "We can see the residuals are not homoskedactic, meaning they are not spread equally along the range of predictors. We fail to reject the null hypothesis, and conclude the variables do not satisfy the conditions for simple linear regression. "
   ]
  },
  {
   "cell_type": "markdown",
   "id": "8667d89c",
   "metadata": {
    "slideshow": {
     "slide_type": "slide"
    }
   },
   "source": [
    "# CONCLUSION"
   ]
  },
  {
   "cell_type": "markdown",
   "id": "84510e52",
   "metadata": {
    "slideshow": {
     "slide_type": "notes"
    }
   },
   "source": [
    "In this project, we obtained, transformed, and analyzed three datasets containing covid and income information to determine if cases, hospitalizations, and deaths met the conditions for a simple linear regression model with income, using pandas, numpy, matplotlib, seaborn, and statsmodels packages in python. We observe that although there is a relationship between income per capita and death rates, they do not satisfy the conditions for simple linear regression. \n"
   ]
  }
 ],
 "metadata": {
  "kernelspec": {
   "display_name": "Python 3 (ipykernel)",
   "language": "python",
   "name": "python3"
  },
  "language_info": {
   "codemirror_mode": {
    "name": "ipython",
    "version": 3
   },
   "file_extension": ".py",
   "mimetype": "text/x-python",
   "name": "python",
   "nbconvert_exporter": "python",
   "pygments_lexer": "ipython3",
   "version": "3.9.12"
  }
 },
 "nbformat": 4,
 "nbformat_minor": 5
}
